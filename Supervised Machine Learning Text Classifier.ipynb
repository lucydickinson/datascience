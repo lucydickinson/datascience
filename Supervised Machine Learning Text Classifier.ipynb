{
 "cells": [
  {
   "cell_type": "markdown",
   "id": "a4bbcbb8",
   "metadata": {},
   "source": [
    "### Building a text classifier using a supervised machine learning approach\n",
    "\n",
    "##### Author: Lucy Dickinson\n",
    "\n",
    "##### Task: Build a text classifier for online article submissions\n",
    "\n",
    "The aim of this analysis is to build a text classifier to automatically categorise titles of academic articles into academic fields of research. In a real world scenario, depoloying such a classifier would allow near real time classification of any articles submitted into a database and reduce manual classification.\n",
    "\n",
    "The data contain the titles of articles published in the Open Access journal Nature Communications between 2018 and 2019. I am not the owner of the dataset so I cannot provide access to this data, I am merely demonstrating my jupyter notebook and how I would go about training a supervised machine learning classifier.\n",
    "\n",
    "First of all, I will cover the steps involved in building a text classifier. You can find a more in depth overview in my article <a href='https://medium.com/towards-data-science/step-by-step-basics-text-classifier-e666c6bac52b'>here</a>, which was published in Towards Data Science."
   ]
  },
  {
   "cell_type": "markdown",
   "id": "1ca21ba5",
   "metadata": {},
   "source": [
    "### Steps for building a text classifier\n",
    "\n",
    "There are a number of required data processing steps that must be completed in a specific order to successfully build a text classifier. I will list these steps below, along with a short definition. Note I will go into more detail of each step as we work through the notebook.\n",
    "\n",
    "1. <strong>Clarify task and required data to solve the task</strong>\n",
    "2. <strong>Data quality checks</strong>\n",
    "    - remove duplicates/null rows\n",
    "3. <strong>Exploratory Data Analysis (EDA)</strong>\n",
    "    - This step is very important (for any analytical task!). Get to know your data, especially the quirks. Understanding the patterns within the data will determine how you conduct the analysis.\n",
    "    - Class distribution - the distribution of values for each class/category (the one you're trying to predict) in the dataset. If this is imbalanced (one class is very prevalent in the dataset whilst others are very underrepresented), extra pre-processing steps will be required to balance the class distribution. \n",
    "4. <strong>Text pre-processing</strong>\n",
    "    - Removing unwanted characters that are not indicative of the class you are trying to predict, including:\n",
    "        - <strong>Punctuation/special characters</strong>\n",
    "        - <strong>Stop words</strong> (the, a, this, etc.)\n",
    "        - <strong>Lemmatisation or stemming</strong> - reducing the word to its root form to reduce noise within the dataset (e.g. transforms 'sailing' and 'sailed' into 'sail'. \n",
    "        - <strong>Vectorisation</strong> - transforming the data into 'vectors', where each word becomes a feature (column) which can take a value of 0 or 1, depending on whether that word was present in that row of data or not.\n",
    "            - Note. there are different forms of vectorisation which I will cover in this section of the notebook.\n",
    "5. <strong>Model selection</strong>\n",
    "    - Iteratively test a few different types of models to see which performs best on the data and the task\n",
    "6. <strong>Baseline model performance</strong>\n",
    "    - Once you have selected the model you want to use in the analysis, train and test the model to get the performance metrics of the model BEFORE you fine tune it/perform feature engineering. As such, you can compare the performance of any future iterations with the baseline performance to gain an understanding of whether the change you made improved or worsened the model.\n",
    "7. <strong>Hyperparameter tuning & feature engineering</strong>\n",
    "    - These are the tweaks you can make to the model to help improve model performance.\n",
    "8. <strong>Save trained classifier for re-use</strong>"
   ]
  },
  {
   "cell_type": "code",
   "execution_count": 2,
   "id": "f541bb2b",
   "metadata": {},
   "outputs": [],
   "source": [
    "#  importing libraries\n",
    "\n",
    "import pandas as pd\n",
    "import numpy as np\n",
    "import matplotlib.pyplot as plt\n",
    "import seaborn as sns\n",
    "\n",
    "import re\n",
    "import nltk\n",
    "from nltk.corpus import stopwords\n",
    "from nltk.stem import WordNetLemmatizer, PorterStemmer\n",
    "from tqdm.notebook import tqdm\n",
    "\n",
    "from sklearn import preprocessing\n",
    "from sklearn.pipeline import Pipeline\n",
    "from sklearn.model_selection import train_test_split, GridSearchCV, cross_val_score, cross_validate, StratifiedKFold\n",
    "from sklearn import metrics\n",
    "from sklearn.feature_extraction.text import TfidfVectorizer\n",
    "\n",
    "from sklearn.naive_bayes import MultinomialNB\n",
    "from sklearn.linear_model import LogisticRegression\n",
    "from sklearn.ensemble import RandomForestClassifier\n",
    "from sklearn.svm import LinearSVC\n",
    "\n",
    "from collections import Counter\n",
    "\n",
    "from imblearn.over_sampling import RandomOverSampler, SMOTE\n",
    "from imblearn.under_sampling import RandomUnderSampler\n",
    "from imblearn.pipeline import Pipeline, make_pipeline\n",
    "\n",
    "import nlpaug.augmenter.word as naw"
   ]
  },
  {
   "cell_type": "code",
   "execution_count": 3,
   "id": "09ca84a8",
   "metadata": {},
   "outputs": [
    {
     "name": "stderr",
     "output_type": "stream",
     "text": [
      "[nltk_data] Downloading package wordnet to\n",
      "[nltk_data]     C:\\Users\\lucy_dickinson\\AppData\\Roaming\\nltk_data...\n",
      "[nltk_data]   Package wordnet is already up-to-date!\n",
      "[nltk_data] Downloading package stopwords to\n",
      "[nltk_data]     C:\\Users\\lucy_dickinson\\AppData\\Roaming\\nltk_data...\n",
      "[nltk_data]   Package stopwords is already up-to-date!\n",
      "[nltk_data] Downloading package punkt to\n",
      "[nltk_data]     C:\\Users\\lucy_dickinson\\AppData\\Roaming\\nltk_data...\n",
      "[nltk_data]   Package punkt is already up-to-date!\n"
     ]
    },
    {
     "data": {
      "text/plain": [
       "True"
      ]
     },
     "execution_count": 3,
     "metadata": {},
     "output_type": "execute_result"
    }
   ],
   "source": [
    "nltk.download('wordnet') \n",
    "nltk.download('stopwords')\n",
    "nltk.download('punkt')"
   ]
  },
  {
   "cell_type": "code",
   "execution_count": 4,
   "id": "1cd04e49",
   "metadata": {},
   "outputs": [],
   "source": [
    "pd.set_option('display.max_columns', 10)\n",
    "# Stop string truncation\n",
    "pd.set_option('display.max_colwidth', None)\n",
    "np.set_printoptions(linewidth=np.inf)"
   ]
  },
  {
   "cell_type": "markdown",
   "id": "e1c1139d",
   "metadata": {},
   "source": [
    "### 1. Data input"
   ]
  },
  {
   "cell_type": "code",
   "execution_count": 5,
   "id": "790b8c7c",
   "metadata": {},
   "outputs": [
    {
     "name": "stdout",
     "output_type": "stream",
     "text": [
      "                                                                                        title  \\\n",
      "0                              Surface acoustic wave photonic devices in silicon on insulator   \n",
      "1  Thermal and electrical signatures of a hydrodynamic electron fluid in tungsten diphosphide   \n",
      "2                         Phononic integrated circuitry and spin–orbit interaction of phonons   \n",
      "3         Local Josephson vortex generation and manipulation with a Magnetic Force Microscope   \n",
      "4                 A robust zirconium amino acid metal-organic framework for proton conduction   \n",
      "\n",
      "                       doc_id  n_references  \n",
      "0  10.1038/s41467-019-12157-x            54  \n",
      "1  10.1038/s41467-018-06688-y            37  \n",
      "2  10.1038/s41467-019-10852-3            56  \n",
      "3  10.1038/s41467-019-11924-0            54  \n",
      "4  10.1038/s41467-018-07414-4            59  \n",
      "                          DOI           for_name  for_code\n",
      "0  10.1038/S41467-019-12157-X  Physical Sciences       2.0\n",
      "1  10.1038/S41467-019-12157-X        Engineering       9.0\n",
      "2  10.1038/S41467-019-12157-X         Technology      10.0\n",
      "3  10.1038/S41467-019-12157-X        Engineering       9.0\n",
      "4  10.1038/S41467-019-13371-3  Physical Sciences       2.0\n",
      "<class 'pandas.core.frame.DataFrame'>\n",
      "RangeIndex: 11347 entries, 0 to 11346\n",
      "Data columns (total 3 columns):\n",
      " #   Column        Non-Null Count  Dtype \n",
      "---  ------        --------------  ----- \n",
      " 0   title         11347 non-null  object\n",
      " 1   doc_id        11347 non-null  object\n",
      " 2   n_references  11347 non-null  int64 \n",
      "dtypes: int64(1), object(2)\n",
      "memory usage: 266.1+ KB\n",
      "None\n",
      "<class 'pandas.core.frame.DataFrame'>\n",
      "RangeIndex: 15124 entries, 0 to 15123\n",
      "Data columns (total 3 columns):\n",
      " #   Column    Non-Null Count  Dtype  \n",
      "---  ------    --------------  -----  \n",
      " 0   DOI       15124 non-null  object \n",
      " 1   for_name  14863 non-null  object \n",
      " 2   for_code  14863 non-null  float64\n",
      "dtypes: float64(1), object(2)\n",
      "memory usage: 354.6+ KB\n",
      "None\n",
      "0\n",
      "0\n"
     ]
    }
   ],
   "source": [
    "#  loading data\n",
    "titles = pd.read_csv('file_1.csv')# index_col='doc_id')\n",
    "res = pd.read_csv('file_2.csv')\n",
    "print(titles.head())\n",
    "print(res.head())\n",
    "\n",
    "#  checking data types\n",
    "print(titles.info())\n",
    "print(res.info())\n",
    "\n",
    "# quick check of nulls\n",
    "print(titles['doc_id'].isna().sum())\n",
    "print(titles['title'].isna().sum())"
   ]
  },
  {
   "cell_type": "code",
   "execution_count": 6,
   "id": "da1c2ee5",
   "metadata": {},
   "outputs": [
    {
     "name": "stdout",
     "output_type": "stream",
     "text": [
      "Number of rows in title dataset: 11347\n",
      "Number of rows in research field dataset: 15124\n",
      "Difference in table length: 3777\n"
     ]
    }
   ],
   "source": [
    "#  checking dataframe lengths\n",
    "print(f'Number of rows in title dataset:', len(titles))\n",
    "print(f'Number of rows in research field dataset:', len(res))\n",
    "print(f'Difference in table length:', len(res)-len(titles))"
   ]
  },
  {
   "cell_type": "markdown",
   "id": "4fd5768b",
   "metadata": {},
   "source": [
    "There is a difference of 3777 records suggesting there are duplicates and/or incomplete data for the article titles. Given that the titles is the predictor variable for the text classifier, we will merge the tables using an inner join to drop any records in the 'res' dataframe that do not have a matching title."
   ]
  },
  {
   "cell_type": "markdown",
   "id": "1a2f022a",
   "metadata": {},
   "source": [
    "### 2. Data quality checks"
   ]
  },
  {
   "cell_type": "code",
   "execution_count": 8,
   "id": "6def82b4",
   "metadata": {},
   "outputs": [
    {
     "name": "stdout",
     "output_type": "stream",
     "text": [
      "titles dataset contains 0 duplicates\n",
      "research field dataset contains 3777 duplicates\n"
     ]
    }
   ],
   "source": [
    "#  checking for duplicate rows to ensure DOI numbers are unique\n",
    "print(f'titles dataset contains %d duplicates' % (titles.duplicated(subset=['doc_id']).sum()))\n",
    "print(f'research field dataset contains %d duplicates' % (res.duplicated(subset=['DOI']).sum()))"
   ]
  },
  {
   "cell_type": "markdown",
   "id": "c23d6ee2",
   "metadata": {},
   "source": [
    "The 3777 additional records in the research field 'res' dataset are caused by rows with duplicate DOI numbers. These need to be dropped."
   ]
  },
  {
   "cell_type": "code",
   "execution_count": 9,
   "id": "bb264da8",
   "metadata": {},
   "outputs": [
    {
     "name": "stdout",
     "output_type": "stream",
     "text": [
      "research field dataset contains 0 duplicates\n",
      "0\n"
     ]
    }
   ],
   "source": [
    "#  dropping duplicate rows\n",
    "res = res.drop_duplicates(subset='DOI')\n",
    "print(f'research field dataset contains %d duplicates' % (res.duplicated(subset=['DOI']).sum()))\n",
    "print(len(res)-len(titles))  # checking length of dataframes are now uniform"
   ]
  },
  {
   "cell_type": "code",
   "execution_count": 10,
   "id": "1267eee6",
   "metadata": {},
   "outputs": [
    {
     "data": {
      "text/html": [
       "<div>\n",
       "<style scoped>\n",
       "    .dataframe tbody tr th:only-of-type {\n",
       "        vertical-align: middle;\n",
       "    }\n",
       "\n",
       "    .dataframe tbody tr th {\n",
       "        vertical-align: top;\n",
       "    }\n",
       "\n",
       "    .dataframe thead th {\n",
       "        text-align: right;\n",
       "    }\n",
       "</style>\n",
       "<table border=\"1\" class=\"dataframe\">\n",
       "  <thead>\n",
       "    <tr style=\"text-align: right;\">\n",
       "      <th></th>\n",
       "      <th>title</th>\n",
       "      <th>doc_id</th>\n",
       "      <th>n_references</th>\n",
       "      <th>for_name</th>\n",
       "      <th>for_code</th>\n",
       "    </tr>\n",
       "  </thead>\n",
       "  <tbody>\n",
       "    <tr>\n",
       "      <th>0</th>\n",
       "      <td>Surface acoustic wave photonic devices in silicon on insulator</td>\n",
       "      <td>10.1038/s41467-019-12157-x</td>\n",
       "      <td>54</td>\n",
       "      <td>Physical Sciences</td>\n",
       "      <td>2.0</td>\n",
       "    </tr>\n",
       "    <tr>\n",
       "      <th>1</th>\n",
       "      <td>Thermal and electrical signatures of a hydrodynamic electron fluid in tungsten diphosphide</td>\n",
       "      <td>10.1038/s41467-018-06688-y</td>\n",
       "      <td>37</td>\n",
       "      <td>Engineering</td>\n",
       "      <td>9.0</td>\n",
       "    </tr>\n",
       "    <tr>\n",
       "      <th>2</th>\n",
       "      <td>Phononic integrated circuitry and spin–orbit interaction of phonons</td>\n",
       "      <td>10.1038/s41467-019-10852-3</td>\n",
       "      <td>56</td>\n",
       "      <td>Physical Sciences</td>\n",
       "      <td>2.0</td>\n",
       "    </tr>\n",
       "    <tr>\n",
       "      <th>3</th>\n",
       "      <td>Local Josephson vortex generation and manipulation with a Magnetic Force Microscope</td>\n",
       "      <td>10.1038/s41467-019-11924-0</td>\n",
       "      <td>54</td>\n",
       "      <td>Physical Sciences</td>\n",
       "      <td>2.0</td>\n",
       "    </tr>\n",
       "    <tr>\n",
       "      <th>4</th>\n",
       "      <td>A robust zirconium amino acid metal-organic framework for proton conduction</td>\n",
       "      <td>10.1038/s41467-018-07414-4</td>\n",
       "      <td>59</td>\n",
       "      <td>Chemical Sciences</td>\n",
       "      <td>3.0</td>\n",
       "    </tr>\n",
       "    <tr>\n",
       "      <th>...</th>\n",
       "      <td>...</td>\n",
       "      <td>...</td>\n",
       "      <td>...</td>\n",
       "      <td>...</td>\n",
       "      <td>...</td>\n",
       "    </tr>\n",
       "    <tr>\n",
       "      <th>11342</th>\n",
       "      <td>aPKC controls endothelial growth by modulating c-Myc via FoxO1 DNA-binding ability</td>\n",
       "      <td>10.1038/s41467-018-07739-0</td>\n",
       "      <td>71</td>\n",
       "      <td>Biological Sciences</td>\n",
       "      <td>6.0</td>\n",
       "    </tr>\n",
       "    <tr>\n",
       "      <th>11343</th>\n",
       "      <td>Single gold-bridged nanoprobes for identification of single point DNA mutations</td>\n",
       "      <td>10.1038/s41467-019-08769-y</td>\n",
       "      <td>64</td>\n",
       "      <td>Chemical Sciences</td>\n",
       "      <td>3.0</td>\n",
       "    </tr>\n",
       "    <tr>\n",
       "      <th>11344</th>\n",
       "      <td>Conditional expression explains molecular evolution of social genes in a microbe</td>\n",
       "      <td>10.1038/s41467-019-11237-2</td>\n",
       "      <td>63</td>\n",
       "      <td>Biological Sciences</td>\n",
       "      <td>6.0</td>\n",
       "    </tr>\n",
       "    <tr>\n",
       "      <th>11345</th>\n",
       "      <td>Genetic study links components of the autonomous nervous system to heart-rate profile during exercise</td>\n",
       "      <td>10.1038/s41467-018-03395-6</td>\n",
       "      <td>65</td>\n",
       "      <td>Biological Sciences</td>\n",
       "      <td>6.0</td>\n",
       "    </tr>\n",
       "    <tr>\n",
       "      <th>11346</th>\n",
       "      <td>The productivity-biodiversity relationship varies across diversity dimensions</td>\n",
       "      <td>10.1038/s41467-019-13678-1</td>\n",
       "      <td>58</td>\n",
       "      <td>Biological Sciences</td>\n",
       "      <td>6.0</td>\n",
       "    </tr>\n",
       "  </tbody>\n",
       "</table>\n",
       "<p>11347 rows × 5 columns</p>\n",
       "</div>"
      ],
      "text/plain": [
       "                                                                                                       title  \\\n",
       "0                                             Surface acoustic wave photonic devices in silicon on insulator   \n",
       "1                 Thermal and electrical signatures of a hydrodynamic electron fluid in tungsten diphosphide   \n",
       "2                                        Phononic integrated circuitry and spin–orbit interaction of phonons   \n",
       "3                        Local Josephson vortex generation and manipulation with a Magnetic Force Microscope   \n",
       "4                                A robust zirconium amino acid metal-organic framework for proton conduction   \n",
       "...                                                                                                      ...   \n",
       "11342                     aPKC controls endothelial growth by modulating c-Myc via FoxO1 DNA-binding ability   \n",
       "11343                        Single gold-bridged nanoprobes for identification of single point DNA mutations   \n",
       "11344                       Conditional expression explains molecular evolution of social genes in a microbe   \n",
       "11345  Genetic study links components of the autonomous nervous system to heart-rate profile during exercise   \n",
       "11346                          The productivity-biodiversity relationship varies across diversity dimensions   \n",
       "\n",
       "                           doc_id  n_references             for_name  for_code  \n",
       "0      10.1038/s41467-019-12157-x            54    Physical Sciences       2.0  \n",
       "1      10.1038/s41467-018-06688-y            37          Engineering       9.0  \n",
       "2      10.1038/s41467-019-10852-3            56    Physical Sciences       2.0  \n",
       "3      10.1038/s41467-019-11924-0            54    Physical Sciences       2.0  \n",
       "4      10.1038/s41467-018-07414-4            59    Chemical Sciences       3.0  \n",
       "...                           ...           ...                  ...       ...  \n",
       "11342  10.1038/s41467-018-07739-0            71  Biological Sciences       6.0  \n",
       "11343  10.1038/s41467-019-08769-y            64    Chemical Sciences       3.0  \n",
       "11344  10.1038/s41467-019-11237-2            63  Biological Sciences       6.0  \n",
       "11345  10.1038/s41467-018-03395-6            65  Biological Sciences       6.0  \n",
       "11346  10.1038/s41467-019-13678-1            58  Biological Sciences       6.0  \n",
       "\n",
       "[11347 rows x 5 columns]"
      ]
     },
     "execution_count": 10,
     "metadata": {},
     "output_type": "execute_result"
    }
   ],
   "source": [
    "#  merging dataframes, joining using DOI so need to ensure this string is lower case\n",
    "\n",
    "titles['doc_id'] = titles['doc_id'].str.lower()\n",
    "res['DOI'] = res['DOI'].str.lower()\n",
    "\n",
    "df = titles.merge(res, left_on='doc_id', right_on='DOI', how='inner').drop('DOI', axis=1)\n",
    "df"
   ]
  },
  {
   "cell_type": "code",
   "execution_count": 11,
   "id": "01ba309c",
   "metadata": {},
   "outputs": [
    {
     "name": "stdout",
     "output_type": "stream",
     "text": [
      "for_name                                    for_code\n",
      "Biological Sciences                         6.0         3945\n",
      "Medical and Health Sciences                 11.0        2396\n",
      "Chemical Sciences                           3.0         1563\n",
      "Engineering                                 9.0          956\n",
      "Physical Sciences                           2.0          891\n",
      "Earth Sciences                              4.0          454\n",
      "Psychology and Cognitive Sciences           17.0         240\n",
      "Information and Computing Sciences          8.0          198\n",
      "Mathematical Sciences                       1.0          113\n",
      "Technology                                  10.0         110\n",
      "Environmental Sciences                      5.0           96\n",
      "Economics                                   14.0          29\n",
      "History and Archaeology                     21.0          26\n",
      "Studies in Human Society                    16.0          24\n",
      "Agricultural and Veterinary Sciences        7.0           20\n",
      "Language, Communication and Culture         20.0          11\n",
      "Law and Legal Studies                       18.0           6\n",
      "Commerce, Management, Tourism and Services  15.0           3\n",
      "Philosophy and Religious Studies            22.0           2\n",
      "Built Environment and Design                12.0           2\n",
      "Studies in Creative Arts and Writing        19.0           1\n",
      "Name: for_code, dtype: int64\n",
      "11347\n"
     ]
    }
   ],
   "source": [
    "# check research field and research code are synonymous\n",
    "print(df.groupby(['for_name','for_code'])['for_code'].count().sort_values(ascending=False))\n",
    "print(len(df))"
   ]
  },
  {
   "cell_type": "markdown",
   "id": "80e2c05c",
   "metadata": {},
   "source": [
    "There are unique 'for_code's for each field of research, so these codes are reliable to use as the target variable for classification models."
   ]
  },
  {
   "cell_type": "code",
   "execution_count": 12,
   "id": "e273b4f8",
   "metadata": {},
   "outputs": [
    {
     "name": "stdout",
     "output_type": "stream",
     "text": [
      "709\n",
      "Author             376\n",
      "Publisher          221\n",
      "Correction:         57\n",
      "Reply               28\n",
      "Addendum:           16\n",
      "Correspondence:      6\n",
      "Retraction           4\n",
      "Correspondence       1\n",
      "Name: title, dtype: int64\n"
     ]
    }
   ],
   "source": [
    "#  removing other document types from the data\n",
    "\n",
    "other_docs = ['correction:', 'reply', 'addendum', 'correspondence', 'retraction']  # list of key words to act to remove bad docs that aren't research articles. I found the right words to use by playing around in the cell below.\n",
    "\n",
    "non_article = df[df.title.str.contains('|'.join(other_docs), case=False, regex=True)]\n",
    "print(len(non_article))\n",
    "\n",
    "non_article_counts = non_article['title'].str.split().str.get(0)\n",
    "print(non_article_counts.value_counts())"
   ]
  },
  {
   "cell_type": "code",
   "execution_count": 13,
   "id": "daed86e8",
   "metadata": {},
   "outputs": [
    {
     "name": "stdout",
     "output_type": "stream",
     "text": [
      "                                                                                                                              title  \\\n",
      "327                 Complex assembly from planar and twisted π-conjugated molecules towards alloy helices and core-shell structures   \n",
      "348   Uniform two-dimensional square assemblies from conjugated block copolymers driven by π–π interactions with controllable sizes   \n",
      "1541                                                      Ballistic superconductivity and tunable π–junctions in InSb quantum wells   \n",
      "2046         Author Correction: Ultrafast bridge planarization in donor-π-acceptor copolymers drives intramolecular charge transfer   \n",
      "5793                                                   Observation of the 4π-periodic Josephson effect in indium arsenide nanowires   \n",
      "6621                             Structural insights into the π-π-π stacking mechanism and DNA-binding activity of the YEATS domain   \n",
      "8160                                                                    Dehydrative π-extension to nanographenes with zig-zag edges   \n",
      "8676                                                            Concyclic CH-π arrays for single-axis rotations of a bowl in a tube   \n",
      "\n",
      "                          doc_id  n_references             for_name  for_code  \n",
      "327   10.1038/s41467-018-06489-3            59          Engineering       9.0  \n",
      "348   10.1038/s41467-018-03195-y            39    Chemical Sciences       3.0  \n",
      "1541  10.1038/s41467-019-11742-4            44          Engineering       9.0  \n",
      "2046  10.1038/s41467-017-02574-1             0    Chemical Sciences       3.0  \n",
      "5793  10.1038/s41467-018-08161-2            43    Physical Sciences       2.0  \n",
      "6621  10.1038/s41467-018-07072-6            36  Biological Sciences       6.0  \n",
      "8160  10.1038/s41467-018-07095-z            52    Chemical Sciences       3.0  \n",
      "8676  10.1038/s41467-018-06270-6            50    Chemical Sciences       3.0  \n"
     ]
    }
   ],
   "source": [
    "#  These document types are: addenda, editorials, corrections (author, publisher), replies, and retractions.\n",
    "# trialling different words to use as flags to remove non-research articles\n",
    "print(df[df['title'].str.contains('π', case=False, regex=True)])"
   ]
  },
  {
   "cell_type": "code",
   "execution_count": 14,
   "id": "1f3cae83",
   "metadata": {},
   "outputs": [
    {
     "name": "stdout",
     "output_type": "stream",
     "text": [
      "10638\n"
     ]
    }
   ],
   "source": [
    "df_clean = df[~df.title.str.contains('|'.join(other_docs), case=False, regex=True)]\n",
    "print(len(df_clean))"
   ]
  },
  {
   "cell_type": "markdown",
   "id": "5eb6a190",
   "metadata": {},
   "source": [
    "There are 709 non-research articles identified, resulting in a dataframe containing 10,638 research articles ready for exploratory data analysis."
   ]
  },
  {
   "cell_type": "markdown",
   "id": "04c014c9",
   "metadata": {},
   "source": [
    "### 3. Exploratory Data Analysis\n",
    "\n",
    "I will investigate class distribution and other measurements from the dataset."
   ]
  },
  {
   "cell_type": "code",
   "execution_count": 15,
   "id": "af3ed84c",
   "metadata": {},
   "outputs": [
    {
     "name": "stdout",
     "output_type": "stream",
     "text": [
      "Biological Sciences                           3775\n",
      "Medical and Health Sciences                   2300\n",
      "Chemical Sciences                             1534\n",
      "Engineering                                    923\n",
      "Physical Sciences                              854\n",
      "Earth Sciences                                 441\n",
      "Psychology and Cognitive Sciences              217\n",
      "Information and Computing Sciences             169\n",
      "Technology                                     100\n",
      "Environmental Sciences                          92\n",
      "Mathematical Sciences                           86\n",
      "Economics                                       29\n",
      "Agricultural and Veterinary Sciences            18\n",
      "History and Archaeology                         18\n",
      "Studies in Human Society                        17\n",
      "Language, Communication and Culture              8\n",
      "Law and Legal Studies                            6\n",
      "Commerce, Management, Tourism and Services       3\n",
      "Built Environment and Design                     2\n",
      "Philosophy and Religious Studies                 1\n",
      "Studies in Creative Arts and Writing             1\n",
      "Name: for_name, dtype: int64\n",
      "21\n"
     ]
    },
    {
     "data": {
      "image/png": "[encoded data removed]",
      "text/plain": [
       "<Figure size 1008x576 with 1 Axes>"
      ]
     },
     "metadata": {
      "needs_background": "light"
     },
     "output_type": "display_data"
    }
   ],
   "source": [
    "# check class distribution\n",
    "for_counts = df_clean['for_name'].value_counts()\n",
    "for_unique = df_clean['for_name'].nunique()\n",
    "print(for_counts)\n",
    "print(for_unique)\n",
    "\n",
    "width = 0.8\n",
    "\n",
    "fig, ax = plt.subplots(figsize=(14, 8))\n",
    "df_clean['for_name'].value_counts().plot(kind=\"bar\", ax=ax, width=width)\n",
    "plt.ylabel('# manuscripts')\n",
    "plt.xlabel('Field of research')\n",
    "plt.title('Number of manuscripts per research field')\n",
    "plt.show()"
   ]
  },
  {
   "cell_type": "markdown",
   "id": "b44c15ec",
   "metadata": {},
   "source": [
    "There is an imbalanced class distribution within the dataset, which is heavily skewed towards Biological Sciences, Medical and Health Sciences and Chemical Sciences. There are 6 fields of research that have less than 10 associated manuscripts.\n",
    "\n",
    "This class imbalance will need to be addressed to prevent the model from overfitting to the majority/dominant classes. The classes that are less common are treated as noise and often ignored. This means that there will be a higher misclassification rate for the minority classes as the majority classes will dominate.\n",
    "\n",
    "It is also important to be aware of this problem whilst selecting an appropriate metric for measuring model performance. Using accuracy (proportion of correct predictions) is not a good metric for imbalanced datasets, as this metric will not reflect the model's performance of the minority classes. E.g. Based on the x class domination, a machine learning algorithm could simply classify everything as x class and still be correct 80% of the time.\n",
    "\n",
    "Hence we will try a few different approaches for resolving the class imbalance distribution during the feature engineering and modelling phases."
   ]
  },
  {
   "cell_type": "code",
   "execution_count": 16,
   "id": "0ae98ed0",
   "metadata": {},
   "outputs": [
    {
     "name": "stdout",
     "output_type": "stream",
     "text": [
      "65\n",
      "10573\n"
     ]
    },
    {
     "data": {
      "text/plain": [
       "Biological Sciences                     3775\n",
       "Medical and Health Sciences             2300\n",
       "Chemical Sciences                       1534\n",
       "Engineering                              923\n",
       "Physical Sciences                        854\n",
       "Earth Sciences                           441\n",
       "Psychology and Cognitive Sciences        217\n",
       "Information and Computing Sciences       169\n",
       "Technology                               100\n",
       "Environmental Sciences                    92\n",
       "Mathematical Sciences                     86\n",
       "Economics                                 29\n",
       "Agricultural and Veterinary Sciences      18\n",
       "History and Archaeology                   18\n",
       "Studies in Human Society                  17\n",
       "Name: for_name, dtype: int64"
      ]
     },
     "execution_count": 16,
     "metadata": {},
     "output_type": "execute_result"
    }
   ],
   "source": [
    "#  for now, the classes with less than 10 associated articles will be removed to initially train the model.\n",
    "#  other methods for dealing with underrepresented classes can be dealt with at a later date.\n",
    "\n",
    "for_under10 = for_counts[for_counts >= 10].index.tolist()\n",
    "df = df_clean[df_clean['for_name'].isin(for_under10)]\n",
    "\n",
    "print(len(df_clean) - len(df))\n",
    "print(len(df))\n",
    "df['for_name'].value_counts()"
   ]
  },
  {
   "cell_type": "markdown",
   "id": "cf51cc11",
   "metadata": {},
   "source": [
    "There are now 10,573 articles in the dataset, all of which belong to a category that has 10 or more associated articles. 65 articles were removed from the dataset as they belonged to underrepresented categories (less than 10)."
   ]
  },
  {
   "cell_type": "code",
   "execution_count": 17,
   "id": "e06ad25a",
   "metadata": {},
   "outputs": [
    {
     "name": "stdout",
     "output_type": "stream",
     "text": [
      "for_name\n",
      "Biological Sciences                     58.396556\n",
      "Psychology and Cognitive Sciences       58.364055\n",
      "Earth Sciences                          57.789116\n",
      "Medical and Health Sciences             57.323913\n",
      "Environmental Sciences                  55.032609\n",
      "History and Archaeology                 51.722222\n",
      "Chemical Sciences                       50.774446\n",
      "Agricultural and Veterinary Sciences    49.777778\n",
      "Economics                               49.379310\n",
      "Technology                              47.810000\n",
      "Mathematical Sciences                   47.209302\n",
      "Engineering                             46.677140\n",
      "Physical Sciences                       45.756440\n",
      "Information and Computing Sciences      45.112426\n",
      "Studies in Human Society                32.058824\n",
      "Name: n_references, dtype: float64\n"
     ]
    }
   ],
   "source": [
    "print(df.groupby('for_name')['n_references'].mean().sort_values(ascending=False))"
   ]
  },
  {
   "cell_type": "code",
   "execution_count": 18,
   "id": "a2c7af5e",
   "metadata": {},
   "outputs": [
    {
     "data": {
      "image/png": "[encoded data removed]",
      "text/plain": [
       "<Figure size 1008x576 with 1 Axes>"
      ]
     },
     "metadata": {
      "needs_background": "light"
     },
     "output_type": "display_data"
    }
   ],
   "source": [
    "#  visualising n_references field per field of research (how many articles each manuscript reference)\n",
    "fig, ax = plt.subplots(figsize=(14,8))\n",
    "sns.boxplot(x='for_name', y='n_references', data=df, ax=ax)\n",
    "plt.xticks(rotation=90)\n",
    "plt.show()"
   ]
  },
  {
   "cell_type": "code",
   "execution_count": 19,
   "id": "5f3ea97b",
   "metadata": {},
   "outputs": [],
   "source": [
    "# for now we will drop all columns except the title (features) and target variable (for)\n",
    "\n",
    "df = df.drop(['n_references'], axis=1)"
   ]
  },
  {
   "cell_type": "markdown",
   "id": "b69d4fe3",
   "metadata": {},
   "source": [
    "### 4. Text pre-processing\n",
    "\n",
    "The purpose of this stage is to make the data readable by a machine learning algorithm. Algorithms cannot understand words. Instead, words need to be converted into numbers, otherwise known as 'vectors'. To do this, sentences first must be cleansed by removing punctuation/special characters as these will act as noise in the data and will not be indicative of the target class you are trying to predict. For example, the presence of a colon or a question mark are not going to be indicative of the craft type, hence they will not be useful predictors and can be removed.\n",
    "\n",
    "We also need to reduce the word to their root form to remove all similar instances of a word which will also reduce noise in the dataset and the number of features in the dataset. We will do this through lemmatization, which gets its name from 'lemma', which is the root form of a word. E.g. transformed 'sailing' and 'sailed' to 'sail'.\n",
    "\n",
    "We will first focus on the text cleansing phase, and then on the vectorisation phase."
   ]
  },
  {
   "cell_type": "markdown",
   "id": "0d687b4a",
   "metadata": {},
   "source": [
    "#### Text cleansing"
   ]
  },
  {
   "cell_type": "code",
   "execution_count": 20,
   "id": "8ac7c7be",
   "metadata": {},
   "outputs": [
    {
     "name": "stdout",
     "output_type": "stream",
     "text": [
      "\\d special character is present in 2723 articles\n",
      "- special character is present in 5621 articles\n",
      "\\+ special character is present in 150 articles\n",
      ": special character is present in 35 articles\n",
      "! special character is present in 0 articles\n",
      "\\? special character is present in 4 articles\n",
      "\\. special character is present in 115 articles\n"
     ]
    }
   ],
   "source": [
    "#  exploring patterns in the titles to assess how best to cleanse the data\n",
    "\n",
    "pat = '\\:|-|\\+'\n",
    "pat_list = [r'\\d', '-', '\\+', ':', '!', '\\?', '\\.'] # list of special characters/punctuation to search for in data\n",
    "\n",
    "punc_total = df['title'].str.contains(pat).sum()\n",
    "punc_df = df[df['title'].str.contains('\\.')]\n",
    "\n",
    "pat_list = [r'\\d', '-', '\\+', ':', '!', '\\?', '\\.'] # list of special characters/punctuation to search for in data\n",
    "\n",
    "def punc_search(df, col, pat):\n",
    "    \"\"\"\n",
    "    function that counts the number of articles\n",
    "    that contain a pre-defined list of special\n",
    "    characters and punctuation\n",
    "    \n",
    "    \"\"\"\n",
    "    for p in pat:\n",
    "        v = df[col].str.contains(p).sum() # total n_rows that contain the pattern\n",
    "        print(f'{p} special character is present in {v} articles')\n",
    "\n",
    "punc_search(df, 'title', pat_list)"
   ]
  },
  {
   "cell_type": "markdown",
   "id": "a6d381d0",
   "metadata": {},
   "source": [
    "Options for cleansing text data:\n",
    "\n",
    "Lower case, space delimiter plus:\n",
    "\n",
    "- option 1 - remove all special characters including hyphens and replace with space, do not remove numbers \n",
    "- option 2 - remove all special characters excluding hyphens, do not remove numbers\n",
    "- option 3 - option 1 or 2 but remove numbers\n",
    "\n",
    "I will play around with removing numbers as this may affect model performance as numbers are used in chemical compound naming. "
   ]
  },
  {
   "cell_type": "code",
   "execution_count": 21,
   "id": "47c979ff",
   "metadata": {},
   "outputs": [
    {
     "name": "stdout",
     "output_type": "stream",
     "text": [
      "\\d special character is present in 0 articles\n",
      "- special character is present in 0 articles\n",
      "\\+ special character is present in 0 articles\n",
      ": special character is present in 0 articles\n",
      "! special character is present in 0 articles\n",
      "\\? special character is present in 0 articles\n",
      "\\. special character is present in 0 articles\n"
     ]
    },
    {
     "data": {
      "text/html": [
       "<div>\n",
       "<style scoped>\n",
       "    .dataframe tbody tr th:only-of-type {\n",
       "        vertical-align: middle;\n",
       "    }\n",
       "\n",
       "    .dataframe tbody tr th {\n",
       "        vertical-align: top;\n",
       "    }\n",
       "\n",
       "    .dataframe thead th {\n",
       "        text-align: right;\n",
       "    }\n",
       "</style>\n",
       "<table border=\"1\" class=\"dataframe\">\n",
       "  <thead>\n",
       "    <tr style=\"text-align: right;\">\n",
       "      <th></th>\n",
       "      <th>title</th>\n",
       "      <th>doc_id</th>\n",
       "      <th>for_name</th>\n",
       "      <th>for_code</th>\n",
       "    </tr>\n",
       "  </thead>\n",
       "  <tbody>\n",
       "    <tr>\n",
       "      <th>0</th>\n",
       "      <td>surface acoustic wave photonic device in silicon on insulator</td>\n",
       "      <td>10.1038/s41467-019-12157-x</td>\n",
       "      <td>Physical Sciences</td>\n",
       "      <td>2.0</td>\n",
       "    </tr>\n",
       "    <tr>\n",
       "      <th>1</th>\n",
       "      <td>thermal and electrical signature of hydrodynamic electron fluid in tungsten diphosphide</td>\n",
       "      <td>10.1038/s41467-018-06688-y</td>\n",
       "      <td>Engineering</td>\n",
       "      <td>9.0</td>\n",
       "    </tr>\n",
       "    <tr>\n",
       "      <th>2</th>\n",
       "      <td>phononic integrated circuitry and spin orbit interaction of phonons</td>\n",
       "      <td>10.1038/s41467-019-10852-3</td>\n",
       "      <td>Physical Sciences</td>\n",
       "      <td>2.0</td>\n",
       "    </tr>\n",
       "    <tr>\n",
       "      <th>3</th>\n",
       "      <td>local josephson vortex generation and manipulation with magnetic force microscope</td>\n",
       "      <td>10.1038/s41467-019-11924-0</td>\n",
       "      <td>Physical Sciences</td>\n",
       "      <td>2.0</td>\n",
       "    </tr>\n",
       "    <tr>\n",
       "      <th>4</th>\n",
       "      <td>a robust zirconium amino acid metalorganic framework for proton conduction</td>\n",
       "      <td>10.1038/s41467-018-07414-4</td>\n",
       "      <td>Chemical Sciences</td>\n",
       "      <td>3.0</td>\n",
       "    </tr>\n",
       "    <tr>\n",
       "      <th>...</th>\n",
       "      <td>...</td>\n",
       "      <td>...</td>\n",
       "      <td>...</td>\n",
       "      <td>...</td>\n",
       "    </tr>\n",
       "    <tr>\n",
       "      <th>11342</th>\n",
       "      <td>apkc control endothelial growth by modulating cmyc via foxo dnabinding ability</td>\n",
       "      <td>10.1038/s41467-018-07739-0</td>\n",
       "      <td>Biological Sciences</td>\n",
       "      <td>6.0</td>\n",
       "    </tr>\n",
       "    <tr>\n",
       "      <th>11343</th>\n",
       "      <td>single goldbridged nanoprobes for identification of single point dna mutation</td>\n",
       "      <td>10.1038/s41467-019-08769-y</td>\n",
       "      <td>Chemical Sciences</td>\n",
       "      <td>3.0</td>\n",
       "    </tr>\n",
       "    <tr>\n",
       "      <th>11344</th>\n",
       "      <td>conditional expression explains molecular evolution of social gene in microbe</td>\n",
       "      <td>10.1038/s41467-019-11237-2</td>\n",
       "      <td>Biological Sciences</td>\n",
       "      <td>6.0</td>\n",
       "    </tr>\n",
       "    <tr>\n",
       "      <th>11345</th>\n",
       "      <td>genetic study link component of the autonomous nervous system to heartrate profile during exercise</td>\n",
       "      <td>10.1038/s41467-018-03395-6</td>\n",
       "      <td>Biological Sciences</td>\n",
       "      <td>6.0</td>\n",
       "    </tr>\n",
       "    <tr>\n",
       "      <th>11346</th>\n",
       "      <td>the productivitybiodiversity relationship varies across diversity dimension</td>\n",
       "      <td>10.1038/s41467-019-13678-1</td>\n",
       "      <td>Biological Sciences</td>\n",
       "      <td>6.0</td>\n",
       "    </tr>\n",
       "  </tbody>\n",
       "</table>\n",
       "<p>10573 rows × 4 columns</p>\n",
       "</div>"
      ],
      "text/plain": [
       "                                                                                                    title  \\\n",
       "0                                           surface acoustic wave photonic device in silicon on insulator   \n",
       "1                 thermal and electrical signature of hydrodynamic electron fluid in tungsten diphosphide   \n",
       "2                                     phononic integrated circuitry and spin orbit interaction of phonons   \n",
       "3                       local josephson vortex generation and manipulation with magnetic force microscope   \n",
       "4                              a robust zirconium amino acid metalorganic framework for proton conduction   \n",
       "...                                                                                                   ...   \n",
       "11342                      apkc control endothelial growth by modulating cmyc via foxo dnabinding ability   \n",
       "11343                       single goldbridged nanoprobes for identification of single point dna mutation   \n",
       "11344                       conditional expression explains molecular evolution of social gene in microbe   \n",
       "11345  genetic study link component of the autonomous nervous system to heartrate profile during exercise   \n",
       "11346                         the productivitybiodiversity relationship varies across diversity dimension   \n",
       "\n",
       "                           doc_id             for_name  for_code  \n",
       "0      10.1038/s41467-019-12157-x    Physical Sciences       2.0  \n",
       "1      10.1038/s41467-018-06688-y          Engineering       9.0  \n",
       "2      10.1038/s41467-019-10852-3    Physical Sciences       2.0  \n",
       "3      10.1038/s41467-019-11924-0    Physical Sciences       2.0  \n",
       "4      10.1038/s41467-018-07414-4    Chemical Sciences       3.0  \n",
       "...                           ...                  ...       ...  \n",
       "11342  10.1038/s41467-018-07739-0  Biological Sciences       6.0  \n",
       "11343  10.1038/s41467-019-08769-y    Chemical Sciences       3.0  \n",
       "11344  10.1038/s41467-019-11237-2  Biological Sciences       6.0  \n",
       "11345  10.1038/s41467-018-03395-6  Biological Sciences       6.0  \n",
       "11346  10.1038/s41467-019-13678-1  Biological Sciences       6.0  \n",
       "\n",
       "[10573 rows x 4 columns]"
      ]
     },
     "execution_count": 21,
     "metadata": {},
     "output_type": "execute_result"
    }
   ],
   "source": [
    "#test = df.sample(100, random_state=23)\n",
    "#print(test)\n",
    "\n",
    "lemmatizer = WordNetLemmatizer()\n",
    "stemmer = PorterStemmer()\n",
    "\n",
    "def text_cleanse_1(df, col):\n",
    "    \"\"\"\n",
    "    cleanses text by removing special\n",
    "    characters and lemmatizing each\n",
    "    word\n",
    "    \n",
    "    \"\"\"\n",
    "    df[col] = df[col].str.lower()  # convert text to lowercase\n",
    "    df[col] = df[col].str.replace(r'-','', regex=True) # remove hyphens\n",
    "    df[col] = df[col].str.replace(r'\\d','', regex=True) # remove numbers \n",
    "    df[col] = df[col].str.replace(r'\\W','', regex=True)  # remove special characters\n",
    "    df[col] = df[col].str.replace(r'\\s+[a-zA-Z]\\s+',' ', regex=True) # remove single characters\n",
    "    df[col] = df.apply(lambda x: nltk.word_tokenize(x[col]), axis=1) # tokenise titles ready for applying lemmatisation\n",
    "    df[col] = df[col].apply(lambda x:[lemmatizer.lemmatize(word) for word in x]) # lemmatise words\n",
    "    df[col] = df[col].apply(lambda x : \" \".join(x)) # de-tokenise titles ready for vectorisation\n",
    "\n",
    "    #lemmatizer.lemmatize(stemmer.stem(word))\n",
    "    #df[col] = df[col].apply(lambda x:[lemmatizer.lemmatize(word) for word in x]) # lemmatise words\n",
    "    \n",
    "text_cleanse_1(df,'title')\n",
    "punc_search(df, 'title', pat_list)\n",
    "\n",
    "df\n"
   ]
  },
  {
   "cell_type": "code",
   "execution_count": 22,
   "id": "47d7b163",
   "metadata": {},
   "outputs": [
    {
     "data": {
      "text/plain": [
       "for_name                              target\n",
       "Agricultural and Veterinary Sciences  0           18\n",
       "Biological Sciences                   1         3775\n",
       "Chemical Sciences                     2         1534\n",
       "Earth Sciences                        3          441\n",
       "Economics                             4           29\n",
       "Engineering                           5          923\n",
       "Environmental Sciences                6           92\n",
       "History and Archaeology               7           18\n",
       "Information and Computing Sciences    8          169\n",
       "Mathematical Sciences                 9           86\n",
       "Medical and Health Sciences           10        2300\n",
       "Physical Sciences                     11         854\n",
       "Psychology and Cognitive Sciences     12         217\n",
       "Studies in Human Society              13          17\n",
       "Technology                            14         100\n",
       "dtype: int64"
      ]
     },
     "execution_count": 22,
     "metadata": {},
     "output_type": "execute_result"
    }
   ],
   "source": [
    "# finally, as we removed some of the research categories, we need to create new labels out of the remaining categories\n",
    "\n",
    "label_encoder = preprocessing.LabelEncoder() # initiate label encoder object\n",
    "df_new = df.copy()\n",
    "df_new['target'] = label_encoder.fit_transform(df_new['for_name'])\n",
    "  \n",
    "df_new[['for_name','target']].value_counts().sort_index(ascending=True)"
   ]
  },
  {
   "cell_type": "markdown",
   "id": "3e320d33",
   "metadata": {},
   "source": [
    "#### Text vectorisation\n",
    "\n",
    "The process of converting text data into numerical data or 'vectors' is called vectorization. Machine learning models cannot understand words, so these must be converted to numeric values. There are two methods for vectorising, the Bag of Words methods and Word Embedding methods. The difference between the two is that word sequence is considered in the latter, where semantically similar words are grouped together. I will be using the Bag of words method, specifically the TFIDF (term frequency inverse document frequency) vector in this analysis to begin with.\n",
    "\n",
    "Each unique word in the dataset will correspond to a feature, where each feature will have an integer associated depending on how many times that word appears in the text (a Word Count Vector - sklearn's CountVectorizer) or a weighted integer that indicates the importance of the word in the text (a TF-IDF Vector - sklearn's TfidVectorizer). The TF-IDF value for a word in a particular narrative is higher if the frequency of occurrence of that word is higher in narratives belonging to that specific craft type and lower in narratives of other craft types. As such, the weights of common words that appear in all narratives, irrespective of craft type, will be reduced. The TF-IDF is calculated by multiplying the term frequency of a word by the inverse document frequency. \n",
    "\n",
    "Just because a word appears multiple times in a text does not mean that it is a good identifier of that narrative's craft type, as the same word could feature heavily in other target classes too (e.g. the words 'study', 'science', 'research', 'experiment' may be frequent, but aren't indicative of the field of research).\n",
    "\n",
    "The following procedures will be completed:\n",
    "- Vectorization - using TF-IDF vectorizer, which accepts non-tokenised data. The parameters of the vectorisation process can be adjusted to allow for the following:\n",
    "    - Data will be tokenised into word tokens during this process.\n",
    "    - Remove stopwords (e.g. a, the, that) using corpus from nltk library (sentences must be tokenised prior to stop word removal). By removing stopword tokens or 'noise', only the tokens that are useful or those that contain important information will remain. Stopword removal  will also decrease the size of the feature dataset which hence will aid efficiency."
   ]
  },
  {
   "cell_type": "code",
   "execution_count": 33,
   "id": "2f7ceb3d",
   "metadata": {},
   "outputs": [],
   "source": [
    "stop_words = set(nltk.corpus.stopwords.words('english')) # using nltk stopword corpus as there are reported issues with sklearn stopword corpus. else sklearn parameter =  stop_words = stopwords.words('english')\n",
    "\n",
    "vectorizer = TfidfVectorizer(stop_words=stop_words,max_df=0.7) # initialising the tfidf vectorizer\n",
    "\n",
    "# The stop words will be removed, and only words within a maximum of 70% of the documents will be retained. Else they are deemed too common to be useful in differentiating between documents.\n",
    "# arg  'ngram_range=(n,n)'\n",
    "# arg 'sublinear_tf=True', takes the log of the tf-idf, see https://nlp.stanford.edu/IR-book/html/htmledition/sublinear-tf-scaling-1.html "
   ]
  },
  {
   "cell_type": "code",
   "execution_count": 34,
   "id": "6636a4e5",
   "metadata": {},
   "outputs": [],
   "source": [
    "# inspecting the vectors\n",
    "#print(tfidf_vectorizer.get_feature_names()[100:120])\n",
    "\n",
    "# Print n vectors of the tfidf training data\n",
    "#print(tfidf_train[55:70])"
   ]
  },
  {
   "cell_type": "markdown",
   "id": "93102012",
   "metadata": {},
   "source": [
    "### 5. Model Selection\n",
    "\n",
    "<strong>Cross_validate</strong> is a function from the scikit-learn library which allows you to iteratively train and validate the model on different splits or folds of your data with the aim of better understanding the performance of a model. Taking one metric as gospel from one particular fold may not be accurate given that the data are split randomly. It is very similar to sklearn's cross_val_score except you can pass in multiple model performance metrics.\n",
    "\n",
    "I will iteratively test 4 classification models (Multinomial NB, Mulitnomial Logistic Regression, Linear SVM and Random Forest) using the cross validation score method and then pick the best model to fine tune."
   ]
  },
  {
   "cell_type": "code",
   "execution_count": 23,
   "id": "0c823d99",
   "metadata": {},
   "outputs": [],
   "source": [
    "models = [RandomForestClassifier(n_estimators = 100, max_depth=5, random_state=42), \n",
    "          LinearSVC(random_state=42),\n",
    "          MultinomialNB(), \n",
    "          LogisticRegression(random_state=42)]\n",
    "\n",
    "kf = StratifiedKFold(n_splits=5, shuffle=True, random_state=1) # With StratifiedKFold, the folds are made by preserving the percentage of samples for each class.\n",
    "\n",
    "scoring = ['accuracy', 'f1_macro', 'recall_macro', 'precision_macro']"
   ]
  },
  {
   "cell_type": "markdown",
   "id": "ce2cb7bf",
   "metadata": {},
   "source": [
    "### Train test split\n",
    "\n",
    "Transformations are only to be performed on the training data. The test data will be held for testing of each different model to allow comparison."
   ]
  },
  {
   "cell_type": "code",
   "execution_count": 35,
   "id": "c26695ed",
   "metadata": {},
   "outputs": [],
   "source": [
    "# create train and test data split\n",
    "X_train, X_test, y_train, y_test = train_test_split(df_new['title'], # features\n",
    "                                                    df_new['target'], # target\n",
    "                                                    test_size=0.3, # 70% train, 30% test\n",
    "                                                    random_state=42, # ensures same split each time to allow repeatability\n",
    "                                                    shuffle = True, # shuffles data prior to splitting\n",
    "                                                    stratify = df_new['target']) # distribution of classes across train and test"
   ]
  },
  {
   "cell_type": "code",
   "execution_count": 36,
   "id": "b00490fd",
   "metadata": {},
   "outputs": [],
   "source": [
    "#  vectorising the train and test feature data\n",
    "X_train_vector = vectorizer.fit_transform(X_train).toarray()\n",
    "\n",
    "# Transform the test data using the same dictionary as the train data \n",
    "X_test_vector = vectorizer.transform(X_test).toarray()"
   ]
  },
  {
   "cell_type": "code",
   "execution_count": 27,
   "id": "7c4f0e02",
   "metadata": {},
   "outputs": [],
   "source": [
    "import warnings \n",
    "warnings.filterwarnings(\"ignore\") # to remove 'zero division' warnings for metrics. This occurs when there are classes with no predicted labels which we can see in the confusion matrix. \n",
    "# For the purpose of neatening the notebook for audit."
   ]
  },
  {
   "cell_type": "code",
   "execution_count": 28,
   "id": "7822a905",
   "metadata": {},
   "outputs": [
    {
     "data": {
      "application/vnd.jupyter.widget-view+json": {
       "model_id": "",
       "version_major": 2,
       "version_minor": 0
      },
      "text/plain": [
       "  0%|          | 0/4 [00:00<?, ?it/s]"
      ]
     },
     "metadata": {},
     "output_type": "display_data"
    },
    {
     "name": "stdout",
     "output_type": "stream",
     "text": [
      "RandomForestClassifier: Mean Accuracy = 35.70%; Mean F1-macro = 3.51%; Mean recall-macro = 6.67%; Mean precision-macro = 2.38%\n",
      "LinearSVC: Mean Accuracy = 67.71%; Mean F1-macro = 35.88%; Mean recall-macro = 33.10%; Mean precision-macro = 45.04%\n",
      "MultinomialNB: Mean Accuracy = 56.41%; Mean F1-macro = 16.82%; Mean recall-macro = 16.37%; Mean precision-macro = 29.62%\n",
      "LogisticRegression: Mean Accuracy = 63.19%; Mean F1-macro = 23.38%; Mean recall-macro = 21.96%; Mean precision-macro = 33.11%\n"
     ]
    }
   ],
   "source": [
    "for model in tqdm(models):\n",
    "    model_name = model.__class__.__name__\n",
    "    result = cross_validate(model, X_train_vector, y_train, cv=kf, scoring=scoring)\n",
    "    print(\"%s: Mean Accuracy = %.2f%%; Mean F1-macro = %.2f%%; Mean recall-macro = %.2f%%; Mean precision-macro = %.2f%%\" \n",
    "          % (model_name, \n",
    "             result['test_accuracy'].mean()*100, \n",
    "             result['test_f1_macro'].mean()*100, \n",
    "             result['test_recall_macro'].mean()*100, \n",
    "             result['test_precision_macro'].mean()*100))"
   ]
  },
  {
   "cell_type": "markdown",
   "id": "3dacc9f7",
   "metadata": {},
   "source": [
    "From the 4 classification models above, the best performing was the Linear SVC (Support Vector Classifier), so I will now fine tune this model to see if the model performance can be improved.\n",
    "\n",
    "Of note are the differences between the F1-macro and F1-weighted scores. The F1 score is an average of precision and recall for each class. It is a good metric to use instead of accuracy for an imbalanced dataset. The F1-macro score averages the F1 scores for all classes equally, it is an 'unweighted mean' of all the per-class F1 scores. The weighted score adds weight to classes that have a higher number of data points in the dataset, it is the 'weighted mean'. The takeaway from the F1 scores, given the lower F1-macro compared to the F1-weighted suggests that the model was performing to a 'good' level with ubiquitous classes but poorly on underrepresented classes, which is what is to be expected.\n",
    "\n"
   ]
  },
  {
   "cell_type": "markdown",
   "id": "c0986614",
   "metadata": {},
   "source": [
    "### 6. Baseline model performance\n",
    "\n",
    "I will run the baseline LinearSVC model here to report the metrics before hyperparameter tuning or fixing the imbalanced class distribution. We can compare each iteration of attempted model performance improvement to this baseline. \n",
    "\n",
    "Again, to ensure that the same folds of data are tested each time to allow for repeatability, I will use a StratifiedKFold object (instead of cv=5). With StratifiedKFold, the folds are made by preserving the percentage of samples for each class."
   ]
  },
  {
   "cell_type": "code",
   "execution_count": 37,
   "id": "f1db491c",
   "metadata": {},
   "outputs": [],
   "source": [
    "#  fold parameter for gridsearch/cross_validate\n",
    "kf = StratifiedKFold(n_splits=5, shuffle=True, random_state=1) \n",
    "\n",
    "# defining list of parameters for LinearSVM for GridSearchCV\n",
    "param_grid = {'C': [0.001, 0.01, 0.1, 1, 10, 100]}"
   ]
  },
  {
   "cell_type": "code",
   "execution_count": 35,
   "id": "d2bda51a",
   "metadata": {},
   "outputs": [
    {
     "name": "stdout",
     "output_type": "stream",
     "text": [
      "Each of the 7401 research articles is represented by 14940 features (TF-IDF score of unigrams)\n"
     ]
    }
   ],
   "source": [
    "print(\"Each of the %d research articles is represented by %d features (TF-IDF score of unigrams)\" %(X_train_vector.shape))"
   ]
  },
  {
   "cell_type": "code",
   "execution_count": 38,
   "id": "d6a3079b",
   "metadata": {},
   "outputs": [
    {
     "name": "stdout",
     "output_type": "stream",
     "text": [
      "dict_keys(['C', 'class_weight', 'dual', 'fit_intercept', 'intercept_scaling', 'loss', 'max_iter', 'multi_class', 'penalty', 'random_state', 'tol', 'verbose'])\n"
     ]
    }
   ],
   "source": [
    "# initialise baseline classifier\n",
    "svc_baseline = LinearSVC(random_state=42)\n",
    "\n",
    "#  printing list of hyperparameters for linear SVC\n",
    "print(svc_baseline.get_params().keys())"
   ]
  },
  {
   "cell_type": "code",
   "execution_count": 39,
   "id": "e60d8a7e",
   "metadata": {},
   "outputs": [
    {
     "name": "stdout",
     "output_type": "stream",
     "text": [
      "Validation set metrics: Mean Accuracy = 67.71%; Mean Precision = 45.04%; Mean Recall = 33.10%; Mean F1-macro = 35.88%; Mean F1-weighted = 66.12%\n"
     ]
    }
   ],
   "source": [
    "# metrics to measure\n",
    "scoring = ['accuracy', 'precision_macro', 'recall_macro', 'f1_macro', 'f1_weighted']\n",
    "\n",
    "#  metrics before hyperparameter tuning\n",
    "result = cross_validate(svc_baseline, X_train_vector, y_train, cv=kf, scoring=scoring)\n",
    "print(\"Validation set metrics: Mean Accuracy = %.2f%%; Mean Precision = %.2f%%; Mean Recall = %.2f%%; Mean F1-macro = %.2f%%; Mean F1-weighted = %.2f%%\" \n",
    "        % (result['test_accuracy'].mean()*100, \n",
    "            result['test_precision_macro'].mean()*100,\n",
    "            result['test_recall_macro'].mean()*100,\n",
    "            result['test_f1_macro'].mean()*100, \n",
    "            result['test_f1_weighted'].mean()*100))"
   ]
  },
  {
   "cell_type": "markdown",
   "id": "8b841a69",
   "metadata": {},
   "source": [
    "Let's use GridSearch to optimise the model by tuning hyperparameters, and then fit the tuned model to the training data"
   ]
  },
  {
   "cell_type": "code",
   "execution_count": 43,
   "id": "6c965548",
   "metadata": {},
   "outputs": [
    {
     "data": {
      "text/plain": [
       "0.36104229187799697"
      ]
     },
     "execution_count": 43,
     "metadata": {},
     "output_type": "execute_result"
    }
   ],
   "source": [
    "# grid search to select hyperparameters to optimise model. you can cross-validate with grid-search\n",
    "svc_baseline_cv = GridSearchCV(svc_baseline, \n",
    "                               param_grid = param_grid, \n",
    "                               cv=kf, \n",
    "                               scoring='f1_macro').fit(X_train_vector, y_train)\n",
    "\n",
    "svc_baseline_cv.best_score_  # this returns the scoring metric specified above"
   ]
  },
  {
   "cell_type": "code",
   "execution_count": 56,
   "id": "7bbbabb1",
   "metadata": {},
   "outputs": [],
   "source": [
    "#  function to predict on test data using i model iteration and compute metrics\n",
    "\n",
    "def model_pred_metrics(model, X=X_test_vector, average='macro'):\n",
    "    \n",
    "    \"\"\"\n",
    "    Function to test model on test data\n",
    "    Outputs metrics, classification report\n",
    "    and confusion matrix\n",
    "    \n",
    "    Tests on vectorized X test data\n",
    "    \n",
    "    Averages of the metrics are set to \n",
    "    'macro' to get weighted metrics due\n",
    "    to imbalanced nature of data\n",
    "    \n",
    "    \"\"\"\n",
    "    \n",
    "    pred = model.predict(X_test_vector)\n",
    "    \n",
    "    accuracy = metrics.accuracy_score(y_test, pred)\n",
    "    precision = metrics.precision_score(y_test, pred, average=average)\n",
    "    recall = metrics.recall_score(y_test, pred, average=average)\n",
    "    f1 = metrics.f1_score(y_test, pred, average=average)\n",
    "    cm = metrics.confusion_matrix(y_test, pred)\n",
    "    \n",
    "    #print(Counter(y_train))\n",
    "    \n",
    "    print('Accuracy: %.2f%%' % (accuracy*100))\n",
    "    print('Precision: %.2f%%' % (precision*100))\n",
    "    print('Recall: %.2f%%' % (recall*100))\n",
    "    print('F1: %.2f%%' % (f1*100))\n",
    "    print(metrics.classification_report(y_test, pred))\n",
    "  \n",
    "    # plotting confusion matrix\n",
    "    ax = plt.subplot()\n",
    "    sns.heatmap(cm, annot=True, fmt='g', ax=ax);\n",
    "    ax.set_xlabel('Predicted labels');ax.set_ylabel('True labels'); "
   ]
  },
  {
   "cell_type": "code",
   "execution_count": 42,
   "id": "4a92cbcd",
   "metadata": {},
   "outputs": [
    {
     "name": "stdout",
     "output_type": "stream",
     "text": [
      "Accuracy: 66.77%\n",
      "Precision: 44.88%\n",
      "Recall: 36.63%\n",
      "F1: 39.32%\n",
      "              precision    recall  f1-score   support\n",
      "\n",
      "           0       0.50      0.20      0.29         5\n",
      "           1       0.72      0.81      0.76      1133\n",
      "           2       0.67      0.66      0.66       460\n",
      "           3       0.80      0.77      0.78       132\n",
      "           4       0.00      0.00      0.00         9\n",
      "           5       0.50      0.51      0.50       277\n",
      "           6       0.56      0.32      0.41        28\n",
      "           7       0.00      0.00      0.00         5\n",
      "           8       0.38      0.16      0.22        51\n",
      "           9       0.28      0.19      0.23        26\n",
      "          10       0.68      0.66      0.67       690\n",
      "          11       0.58      0.57      0.58       256\n",
      "          12       0.60      0.42      0.49        65\n",
      "          13       0.33      0.20      0.25         5\n",
      "          14       0.12      0.03      0.05        30\n",
      "\n",
      "    accuracy                           0.67      3172\n",
      "   macro avg       0.45      0.37      0.39      3172\n",
      "weighted avg       0.65      0.67      0.66      3172\n",
      "\n"
     ]
    },
    {
     "data": {
      "image/png": "[encoded data removed]",
      "text/plain": [
       "<Figure size 432x288 with 2 Axes>"
      ]
     },
     "metadata": {
      "needs_background": "light"
     },
     "output_type": "display_data"
    }
   ],
   "source": [
    "model_pred_metrics(svc_baseline_cv)"
   ]
  },
  {
   "cell_type": "markdown",
   "id": "71aacb4e",
   "metadata": {},
   "source": [
    "These are our scores to beat... the difference between these scores helps you understand degree of overfitting. \n",
    "\n",
    ">F1 gridsearch:  0.36\n",
    "\n",
    ">F1 gridsearch test: 0.39"
   ]
  },
  {
   "cell_type": "markdown",
   "id": "f3f5249d",
   "metadata": {},
   "source": [
    "Even with hyper-parameter tuning, there is still an issue with performance in the underrepresented classes. Precision is generally better than recall, inferring that the model is better at labelling positive predictions correctly over capturing all positive labels (i.e. has a high rate of false negatives)."
   ]
  },
  {
   "cell_type": "markdown",
   "id": "e62d5b8b",
   "metadata": {},
   "source": [
    "### 7. Model improvement iterations"
   ]
  },
  {
   "cell_type": "markdown",
   "id": "7773845a",
   "metadata": {},
   "source": [
    "### Model improvement #1 - adding class weights\n",
    "\n",
    "The class weights parameter allows you to add a penalty function based on the class distribution, giving a higher weight to minority classes for misclassification.\n",
    "\n",
    "'It means the model is more likely to guess that class when it's making predictions, which will generally increase recall (how many of the true examples of that class are we guessing) while decreasing precision (how often are we right when we guess that class)'"
   ]
  },
  {
   "cell_type": "code",
   "execution_count": 44,
   "id": "02123152",
   "metadata": {},
   "outputs": [],
   "source": [
    "svc_balanced = LinearSVC(class_weight='balanced', random_state=42)  # weights minority classes to penalise for misclassification"
   ]
  },
  {
   "cell_type": "code",
   "execution_count": 45,
   "id": "a1f55596",
   "metadata": {},
   "outputs": [
    {
     "data": {
      "text/plain": [
       "0.408710046490563"
      ]
     },
     "execution_count": 45,
     "metadata": {},
     "output_type": "execute_result"
    }
   ],
   "source": [
    "# grid search to select hyperparameters to optimise model. you can cross-validate with grid-search\n",
    "svc_balanced_cv = GridSearchCV(svc_balanced, \n",
    "                               param_grid = param_grid, \n",
    "                               cv=kf, \n",
    "                               scoring='f1_macro').fit(X_train_vector, y_train)  # need to select metric, is recall the best one\n",
    "\n",
    "svc_balanced_cv.best_score_  # this returns the scoring metric specified above"
   ]
  },
  {
   "cell_type": "code",
   "execution_count": 46,
   "id": "fa587f83",
   "metadata": {},
   "outputs": [
    {
     "name": "stdout",
     "output_type": "stream",
     "text": [
      "Accuracy: 67.47%\n",
      "Precision: 39.27%\n",
      "Recall: 48.76%\n",
      "F1: 42.25%\n",
      "              precision    recall  f1-score   support\n",
      "\n",
      "           0       0.22      0.40      0.29         5\n",
      "           1       0.80      0.75      0.77      1133\n",
      "           2       0.74      0.67      0.70       460\n",
      "           3       0.65      0.85      0.73       132\n",
      "           4       0.15      0.22      0.18         9\n",
      "           5       0.60      0.49      0.54       277\n",
      "           6       0.33      0.75      0.46        28\n",
      "           7       0.00      0.00      0.00         5\n",
      "           8       0.26      0.39      0.31        51\n",
      "           9       0.14      0.31      0.19        26\n",
      "          10       0.75      0.66      0.70       690\n",
      "          11       0.62      0.67      0.65       256\n",
      "          12       0.44      0.72      0.55        65\n",
      "          13       0.08      0.20      0.12         5\n",
      "          14       0.11      0.23      0.15        30\n",
      "\n",
      "    accuracy                           0.67      3172\n",
      "   macro avg       0.39      0.49      0.42      3172\n",
      "weighted avg       0.70      0.67      0.68      3172\n",
      "\n"
     ]
    },
    {
     "data": {
      "image/png": "[encoded data removed]",
      "text/plain": [
       "<Figure size 432x288 with 2 Axes>"
      ]
     },
     "metadata": {
      "needs_background": "light"
     },
     "output_type": "display_data"
    }
   ],
   "source": [
    "model_pred_metrics(svc_balanced_cv)"
   ]
  },
  {
   "cell_type": "markdown",
   "id": "b115d0cc",
   "metadata": {},
   "source": [
    "### Model improvement #1.5 - manually adjusting class weights\n",
    "\n",
    "By manually adjusting class weights, you can balance precision and recall for each class. I will base the weightings on the metric of choice from the classification report above, adding weight to those that are underperforming.\n",
    "\n",
    "Note that if you improve recall, precision will by default, decrease. When we increase the weight for one class, we are effectively relatively decreasing the weight for all other classes. Hence:\n",
    "\n",
    "Increase class weight = increased recall = decreased precision\n",
    "\n",
    "As I'm trying to improve the F1 score, I will iteratively adjust the weights until precision and recall are roughly balanced for each class."
   ]
  },
  {
   "cell_type": "code",
   "execution_count": 50,
   "id": "404a636c",
   "metadata": {},
   "outputs": [],
   "source": [
    "class_weights_v1 = {\n",
    "    0:4,\n",
    "    1:1,\n",
    "    2:1,\n",
    "    3:1,\n",
    "    4:4,\n",
    "    5:2,\n",
    "    6:2,\n",
    "    7:4,\n",
    "    8:2,\n",
    "    9:3,\n",
    "    10:1,\n",
    "    11:1,\n",
    "    12:2,\n",
    "    13:3,\n",
    "    14:3,\n",
    "}"
   ]
  },
  {
   "cell_type": "code",
   "execution_count": 51,
   "id": "ddc3065b",
   "metadata": {},
   "outputs": [],
   "source": [
    "svc_balanced_man_v1 = LinearSVC(class_weight=class_weights_v1, random_state=42)  # weights minority classes to penalise for misclassification"
   ]
  },
  {
   "cell_type": "code",
   "execution_count": 52,
   "id": "19d1bf43",
   "metadata": {},
   "outputs": [
    {
     "data": {
      "text/plain": [
       "0.3784850183498552"
      ]
     },
     "execution_count": 52,
     "metadata": {},
     "output_type": "execute_result"
    }
   ],
   "source": [
    "# grid search to select hyperparameters to optimise model. you can cross-validate with grid-search\n",
    "svc_balanced_man_cv_v1 = GridSearchCV(svc_balanced_man_v1, \n",
    "                               param_grid = param_grid, \n",
    "                               cv=kf, \n",
    "                               scoring='f1_macro',\n",
    "                               return_train_score=True).fit(X_train_vector, y_train)\n",
    "\n",
    "svc_balanced_man_cv_v1.best_score_  # this returns the scoring metric specified above"
   ]
  },
  {
   "cell_type": "code",
   "execution_count": 51,
   "id": "818a75f6",
   "metadata": {},
   "outputs": [
    {
     "name": "stdout",
     "output_type": "stream",
     "text": [
      "Accuracy: 68.69%\n",
      "Precision: 51.81%\n",
      "Recall: 39.32%\n",
      "F1: 43.09%\n",
      "              precision    recall  f1-score   support\n",
      "\n",
      "           0       0.50      0.20      0.29         5\n",
      "           1       0.72      0.84      0.78      1133\n",
      "           2       0.72      0.67      0.70       460\n",
      "           3       0.79      0.76      0.78       132\n",
      "           4       0.50      0.11      0.18         9\n",
      "           5       0.50      0.54      0.52       277\n",
      "           6       0.69      0.39      0.50        28\n",
      "           7       0.00      0.00      0.00         5\n",
      "           8       0.48      0.22      0.30        51\n",
      "           9       0.30      0.23      0.26        26\n",
      "          10       0.71      0.67      0.69       690\n",
      "          11       0.64      0.58      0.61       256\n",
      "          12       0.64      0.38      0.48        65\n",
      "          13       0.33      0.20      0.25         5\n",
      "          14       0.25      0.10      0.14        30\n",
      "\n",
      "    accuracy                           0.69      3172\n",
      "   macro avg       0.52      0.39      0.43      3172\n",
      "weighted avg       0.68      0.69      0.68      3172\n",
      "\n"
     ]
    },
    {
     "data": {
      "image/png": "[encoded data removed]",
      "text/plain": [
       "<Figure size 432x288 with 2 Axes>"
      ]
     },
     "metadata": {
      "needs_background": "light"
     },
     "output_type": "display_data"
    }
   ],
   "source": [
    "model_pred_metrics(svc_balanced_man_cv_v1)"
   ]
  },
  {
   "cell_type": "code",
   "execution_count": 53,
   "id": "d74b6d26",
   "metadata": {},
   "outputs": [
    {
     "name": "stdout",
     "output_type": "stream",
     "text": [
      "[0.03507584 0.08682746 0.89353791 0.9986052  1.         1.        ]\n",
      "[0.03507583 0.06813973 0.31592256 0.37848502 0.36073921 0.3567624 ]\n"
     ]
    }
   ],
   "source": [
    "#  training and test scores to assess model overfitting to training data\n",
    "print(svc_balanced_man_cv_v1.cv_results_[\"mean_train_score\"])\n",
    "print(svc_balanced_man_cv_v1.cv_results_[\"mean_test_score\"])"
   ]
  },
  {
   "cell_type": "markdown",
   "id": "d5384ef0",
   "metadata": {},
   "source": [
    "Let's make some further tweaks to weight the still under performing classes"
   ]
  },
  {
   "cell_type": "code",
   "execution_count": 52,
   "id": "7380990f",
   "metadata": {},
   "outputs": [],
   "source": [
    "class_weights_v2 = {\n",
    "    0:4,\n",
    "    1:1,\n",
    "    2:1,\n",
    "    3:1,\n",
    "    4:5,\n",
    "    5:2,\n",
    "    6:2,\n",
    "    7:5,\n",
    "    8:2,\n",
    "    9:3,\n",
    "    10:1,\n",
    "    11:1,\n",
    "    12:2,\n",
    "    13:3,\n",
    "    14:4,\n",
    "}"
   ]
  },
  {
   "cell_type": "code",
   "execution_count": 53,
   "id": "458f6f6c",
   "metadata": {},
   "outputs": [],
   "source": [
    "svc_balanced_man_v2 = LinearSVC(class_weight=class_weights_v2, random_state=42)  # weights minority classes to penalise for misclassification"
   ]
  },
  {
   "cell_type": "code",
   "execution_count": 54,
   "id": "7a861476",
   "metadata": {},
   "outputs": [
    {
     "data": {
      "text/plain": [
       "0.3783498367423944"
      ]
     },
     "execution_count": 54,
     "metadata": {},
     "output_type": "execute_result"
    }
   ],
   "source": [
    "# grid search to select hyperparameters to optimise model. you can cross-validate with grid-search\n",
    "svc_balanced_man_cv_v2 = GridSearchCV(svc_balanced_man_v2, \n",
    "                               param_grid = param_grid, \n",
    "                               cv=kf, \n",
    "                               scoring='f1_macro').fit(X_train_vector, y_train)  # need to select metric, is recall the best one\n",
    "\n",
    "svc_balanced_man_cv_v2.best_score_  # this returns the scoring metric specified above"
   ]
  },
  {
   "cell_type": "code",
   "execution_count": 55,
   "id": "5fc36932",
   "metadata": {},
   "outputs": [
    {
     "name": "stdout",
     "output_type": "stream",
     "text": [
      "Accuracy: 68.63%\n",
      "Precision: 51.40%\n",
      "Recall: 39.28%\n",
      "F1: 42.99%\n",
      "              precision    recall  f1-score   support\n",
      "\n",
      "           0       0.50      0.20      0.29         5\n",
      "           1       0.72      0.84      0.78      1133\n",
      "           2       0.72      0.67      0.69       460\n",
      "           3       0.79      0.76      0.78       132\n",
      "           4       0.50      0.11      0.18         9\n",
      "           5       0.50      0.54      0.52       277\n",
      "           6       0.69      0.39      0.50        28\n",
      "           7       0.00      0.00      0.00         5\n",
      "           8       0.48      0.22      0.30        51\n",
      "           9       0.30      0.23      0.26        26\n",
      "          10       0.71      0.67      0.69       690\n",
      "          11       0.64      0.58      0.61       256\n",
      "          12       0.64      0.38      0.48        65\n",
      "          13       0.33      0.20      0.25         5\n",
      "          14       0.19      0.10      0.13        30\n",
      "\n",
      "    accuracy                           0.69      3172\n",
      "   macro avg       0.51      0.39      0.43      3172\n",
      "weighted avg       0.68      0.69      0.68      3172\n",
      "\n"
     ]
    },
    {
     "data": {
      "image/png": "[encoded data removed]",
      "text/plain": [
       "<Figure size 432x288 with 2 Axes>"
      ]
     },
     "metadata": {
      "needs_background": "light"
     },
     "output_type": "display_data"
    }
   ],
   "source": [
    "model_pred_metrics(svc_balanced_man_cv_v2)"
   ]
  },
  {
   "cell_type": "markdown",
   "id": "aedaf18d",
   "metadata": {},
   "source": [
    "### Model improvement #2 - random oversampling minority classes\n",
    "\n",
    "Random oversampling involves randomly duplicating examples from the minority class and adding them to the training dataset. To artificially resolve imbalanced class distribution problem, I will use the python library imblearn that oversamples minority classes to create equal class distribution. Oversampling is only applied to the training dataset and used to fit the model.\n",
    "\n",
    "As new data points are not being generated (the same data points are being sampled), this can lead to overfitting which may pose a limitation."
   ]
  },
  {
   "cell_type": "markdown",
   "id": "2cccd684",
   "metadata": {},
   "source": [
    "I will use a pipeline now to conduct all the transformations so that the validation portion of the data in the gridsearch is not oversampled, only the training folds."
   ]
  },
  {
   "cell_type": "code",
   "execution_count": 54,
   "id": "bc4419f1",
   "metadata": {
    "scrolled": true
   },
   "outputs": [
    {
     "name": "stderr",
     "output_type": "stream",
     "text": [
      "C:\\Users\\lucy_dickinson\\Anaconda3\\lib\\site-packages\\sklearn\\svm\\_base.py:1225: ConvergenceWarning: Liblinear failed to converge, increase the number of iterations.\n",
      "  warnings.warn(\n",
      "C:\\Users\\lucy_dickinson\\Anaconda3\\lib\\site-packages\\sklearn\\svm\\_base.py:1225: ConvergenceWarning: Liblinear failed to converge, increase the number of iterations.\n",
      "  warnings.warn(\n",
      "C:\\Users\\lucy_dickinson\\Anaconda3\\lib\\site-packages\\sklearn\\svm\\_base.py:1225: ConvergenceWarning: Liblinear failed to converge, increase the number of iterations.\n",
      "  warnings.warn(\n",
      "C:\\Users\\lucy_dickinson\\Anaconda3\\lib\\site-packages\\sklearn\\svm\\_base.py:1225: ConvergenceWarning: Liblinear failed to converge, increase the number of iterations.\n",
      "  warnings.warn(\n",
      "C:\\Users\\lucy_dickinson\\Anaconda3\\lib\\site-packages\\sklearn\\svm\\_base.py:1225: ConvergenceWarning: Liblinear failed to converge, increase the number of iterations.\n",
      "  warnings.warn(\n"
     ]
    },
    {
     "data": {
      "text/plain": [
       "0.409732915184532"
      ]
     },
     "execution_count": 54,
     "metadata": {},
     "output_type": "execute_result"
    }
   ],
   "source": [
    "over_pipe = Pipeline([('RandomOverSample', RandomOverSampler(random_state=42)), \n",
    "                          ('LinearSVC', LinearSVC(random_state=42))])\n",
    "\n",
    "new_params = {\"LinearSVC__C\": [0.001, 0.01, 0.1, 1, 10, 100]}\n",
    "\n",
    "\n",
    "svc_oversample_cv = GridSearchCV(over_pipe, \n",
    "                                param_grid = new_params, \n",
    "                                cv=kf, \n",
    "                                scoring='f1_macro',\n",
    "                                return_train_score=True).fit(X_train_vector, y_train)  # need to select metric, is recall the best one\n",
    "\n",
    "svc_oversample_cv.best_score_  # this returns the scoring metric specified above"
   ]
  },
  {
   "cell_type": "code",
   "execution_count": 57,
   "id": "7002499a",
   "metadata": {},
   "outputs": [
    {
     "name": "stdout",
     "output_type": "stream",
     "text": [
      "Accuracy: 68.44%\n",
      "Precision: 45.01%\n",
      "Recall: 46.90%\n",
      "F1: 44.79%\n",
      "              precision    recall  f1-score   support\n",
      "\n",
      "           0       0.67      0.40      0.50         5\n",
      "           1       0.80      0.75      0.78      1133\n",
      "           2       0.75      0.67      0.71       460\n",
      "           3       0.65      0.83      0.73       132\n",
      "           4       0.33      0.11      0.17         9\n",
      "           5       0.53      0.51      0.52       277\n",
      "           6       0.40      0.64      0.49        28\n",
      "           7       0.00      0.00      0.00         5\n",
      "           8       0.26      0.33      0.29        51\n",
      "           9       0.17      0.31      0.22        26\n",
      "          10       0.72      0.71      0.71       690\n",
      "          11       0.61      0.67      0.64       256\n",
      "          12       0.49      0.66      0.56        65\n",
      "          13       0.20      0.20      0.20         5\n",
      "          14       0.17      0.23      0.19        30\n",
      "\n",
      "    accuracy                           0.68      3172\n",
      "   macro avg       0.45      0.47      0.45      3172\n",
      "weighted avg       0.70      0.68      0.69      3172\n",
      "\n"
     ]
    },
    {
     "data": {
      "image/png": "[encoded data removed]",
      "text/plain": [
       "<Figure size 432x288 with 2 Axes>"
      ]
     },
     "metadata": {
      "needs_background": "light"
     },
     "output_type": "display_data"
    }
   ],
   "source": [
    "model_pred_metrics(svc_oversample_cv)"
   ]
  },
  {
   "cell_type": "code",
   "execution_count": 58,
   "id": "d62439de",
   "metadata": {},
   "outputs": [
    {
     "name": "stdout",
     "output_type": "stream",
     "text": [
      "[0.51964058 0.69876803 0.93740942 0.99893465 1.         1.        ]\n",
      "[0.33984301 0.38352422 0.40973292 0.37891587 0.35979185 0.35619813]\n"
     ]
    }
   ],
   "source": [
    "#  training and test scores to assess model overfitting to training data\n",
    "print(svc_oversample_cv.cv_results_[\"mean_train_score\"])\n",
    "print(svc_oversample_cv.cv_results_[\"mean_test_score\"])"
   ]
  },
  {
   "cell_type": "markdown",
   "id": "7789dc95",
   "metadata": {},
   "source": [
    "The best F1 macro score so far at 0.449. The minority classes are still bringing the F1 average down."
   ]
  },
  {
   "cell_type": "markdown",
   "id": "51c984e5",
   "metadata": {},
   "source": [
    "### Model improvement #3 - SMOTE oversampling minority classes\n",
    "\n",
    "Stands for Synthetic Minority Oversampling Technique. Synthetically generates new data based upon existing data. Could pose advantageous over random oversampling as new data is being generated with SMOTE.\n",
    "\n",
    "Again, I will use a pipeline to apply the sampling method when using cross validation."
   ]
  },
  {
   "cell_type": "code",
   "execution_count": 63,
   "id": "e85a91ee",
   "metadata": {
    "scrolled": true
   },
   "outputs": [
    {
     "data": {
      "text/plain": [
       "0.4261846383597188"
      ]
     },
     "execution_count": 63,
     "metadata": {},
     "output_type": "execute_result"
    }
   ],
   "source": [
    "smote_pipe = Pipeline([('SMOTE', SMOTE(random_state=42)), \n",
    "                          ('LinearSVC', LinearSVC(random_state=42))])\n",
    "\n",
    "new_params = {\"LinearSVC__C\": [0.001, 0.01, 0.1, 1, 10, 100]}\n",
    "\n",
    "\n",
    "svc_smote_cv = GridSearchCV(smote_pipe, \n",
    "                            param_grid = new_params, \n",
    "                            cv=kf, \n",
    "                            scoring='precision_macro').fit(X_train_vector, y_train)  # need to select metric, is recall the best one\n",
    "\n",
    "svc_smote_cv.best_score_  # this returns the scoring metric specified above"
   ]
  },
  {
   "cell_type": "code",
   "execution_count": 64,
   "id": "118d9f8a",
   "metadata": {},
   "outputs": [
    {
     "name": "stdout",
     "output_type": "stream",
     "text": [
      "Accuracy: 68.06%\n",
      "Precision: 51.25%\n",
      "Recall: 40.67%\n",
      "F1: 42.80%\n",
      "              precision    recall  f1-score   support\n",
      "\n",
      "           0       0.50      0.20      0.29         5\n",
      "           1       0.76      0.80      0.77      1133\n",
      "           2       0.70      0.67      0.68       460\n",
      "           3       0.72      0.80      0.76       132\n",
      "           4       1.00      0.11      0.20         9\n",
      "           5       0.49      0.53      0.51       277\n",
      "           6       0.50      0.46      0.48        28\n",
      "           7       0.00      0.00      0.00         5\n",
      "           8       0.31      0.18      0.23        51\n",
      "           9       0.27      0.23      0.25        26\n",
      "          10       0.71      0.70      0.70       690\n",
      "          11       0.58      0.60      0.59       256\n",
      "          12       0.60      0.51      0.55        65\n",
      "          13       0.33      0.20      0.25         5\n",
      "          14       0.21      0.13      0.16        30\n",
      "\n",
      "    accuracy                           0.68      3172\n",
      "   macro avg       0.51      0.41      0.43      3172\n",
      "weighted avg       0.68      0.68      0.68      3172\n",
      "\n"
     ]
    },
    {
     "data": {
      "image/png": "[encoded data removed]",
      "text/plain": [
       "<Figure size 432x288 with 2 Axes>"
      ]
     },
     "metadata": {
      "needs_background": "light"
     },
     "output_type": "display_data"
    }
   ],
   "source": [
    "model_pred_metrics(svc_smote_cv)"
   ]
  },
  {
   "cell_type": "markdown",
   "id": "0293ead8",
   "metadata": {},
   "source": [
    "### Model improvement #4 - oversampling/undersampling combination\n",
    "\n",
    "The original paper on SMOTE suggested combining SMOTE with random undersampling of the majority class. We will oversample the minority class to have 10 percent the number of examples of the majority class, then use random undersampling to reduce the number of examples in the majority class to have 50 percent more than the minority class."
   ]
  },
  {
   "cell_type": "code",
   "execution_count": 65,
   "id": "32e58aab",
   "metadata": {},
   "outputs": [],
   "source": [
    "over = SMOTE(random_state=42)\n",
    "under = RandomUnderSampler(random_state=42)"
   ]
  },
  {
   "cell_type": "code",
   "execution_count": 66,
   "id": "3aacfad0",
   "metadata": {},
   "outputs": [
    {
     "data": {
      "text/plain": [
       "0.48151585862633395"
      ]
     },
     "execution_count": 66,
     "metadata": {},
     "output_type": "execute_result"
    }
   ],
   "source": [
    "over_under_pipe = Pipeline([('over', over), #  using a pipeline so sampling is only conducted on training data, not validation or test\n",
    "                           ('under', under),\n",
    "                            ('LinearSVC', LinearSVC(random_state=42))])\n",
    "\n",
    "new_params = {\"LinearSVC__C\": [0.001, 0.01, 0.1, 1, 10, 100]}\n",
    "\n",
    "\n",
    "svc_over_under_cv = GridSearchCV(over_under_pipe, \n",
    "                                param_grid = new_params, \n",
    "                                cv=kf, \n",
    "                                scoring='f1_macro').fit(X_train_vector, y_train) \n",
    "\n",
    "svc_over_under_cv.best_score_  # this returns the scoring metric specified above"
   ]
  },
  {
   "cell_type": "code",
   "execution_count": 67,
   "id": "06594f97",
   "metadata": {},
   "outputs": [
    {
     "name": "stdout",
     "output_type": "stream",
     "text": [
      "Accuracy: 62.17%\n",
      "Precision: 35.88%\n",
      "Recall: 48.30%\n",
      "F1: 38.65%\n",
      "              precision    recall  f1-score   support\n",
      "\n",
      "           0       0.09      0.40      0.14         5\n",
      "           1       0.82      0.61      0.70      1133\n",
      "           2       0.74      0.63      0.68       460\n",
      "           3       0.67      0.80      0.73       132\n",
      "           4       0.07      0.22      0.11         9\n",
      "           5       0.56      0.49      0.52       277\n",
      "           6       0.31      0.68      0.42        28\n",
      "           7       0.08      0.20      0.11         5\n",
      "           8       0.19      0.37      0.25        51\n",
      "           9       0.13      0.42      0.20        26\n",
      "          10       0.67      0.69      0.68       690\n",
      "          11       0.62      0.63      0.62       256\n",
      "          12       0.30      0.66      0.41        65\n",
      "          13       0.06      0.20      0.09         5\n",
      "          14       0.08      0.23      0.11        30\n",
      "\n",
      "    accuracy                           0.62      3172\n",
      "   macro avg       0.36      0.48      0.39      3172\n",
      "weighted avg       0.69      0.62      0.64      3172\n",
      "\n"
     ]
    },
    {
     "data": {
      "image/png": "[encoded data removed]",
      "text/plain": [
       "<Figure size 432x288 with 2 Axes>"
      ]
     },
     "metadata": {
      "needs_background": "light"
     },
     "output_type": "display_data"
    }
   ],
   "source": [
    "model_pred_metrics(svc_over_under_cv)"
   ]
  },
  {
   "cell_type": "markdown",
   "id": "9d81d2a2",
   "metadata": {},
   "source": [
    "### Model improvement #5 - data augmentation with wordnet\n",
    "\n",
    "New data can be generated using synonyms of existing data to increase the number of data points for minority classes. Augmentation techniques include synonym replacement (which I will try below) and back translation (translating into one langauge and back to the original language). \n",
    "\n",
    "Only augmented on training data (not cross-val) so will need to put in a pipeline."
   ]
  },
  {
   "cell_type": "code",
   "execution_count": 38,
   "id": "2ee9a05a",
   "metadata": {},
   "outputs": [],
   "source": [
    "# create wordnet augmenter object\n",
    "aug = naw.SynonymAug(aug_src='wordnet',aug_max=4) # replace a max of 4 words per sentence. This number can be tweaked."
   ]
  },
  {
   "cell_type": "code",
   "execution_count": 39,
   "id": "e439da25",
   "metadata": {},
   "outputs": [
    {
     "data": {
      "text/plain": [
       "['genic survey colligate component of the autonomous nervous system of rules to heart rate profile during exercise',\n",
       " 'genetic field link up component of the autonomous unquiet system to tenderness rate profile during exercise']"
      ]
     },
     "execution_count": 39,
     "metadata": {},
     "output_type": "execute_result"
    }
   ],
   "source": [
    "# example of augmenter generating 2 new sentences\n",
    "aug.augment(\"genetic study link component of the autonomous nervous system to heart rate profile during exercise\", n=2)"
   ]
  },
  {
   "cell_type": "code",
   "execution_count": 40,
   "id": "de8e2bc8",
   "metadata": {},
   "outputs": [
    {
     "data": {
      "application/vnd.jupyter.widget-view+json": {
       "model_id": "3350425c3345470dbc6328f2c0060314",
       "version_major": 2,
       "version_minor": 0
      },
      "text/plain": [
       "  0%|          | 0/7401 [00:00<?, ?it/s]"
      ]
     },
     "metadata": {},
     "output_type": "display_data"
    }
   ],
   "source": [
    "# create empty lists to store new data\n",
    "\n",
    "augmented_sentences=[]\n",
    "augmented_sentences_labels=[]\n",
    "\n",
    "# for loop to create n copies of each manuscript title belonging to y class\n",
    "\n",
    "for i in tqdm(X_train.index):\n",
    "  if y_train[i]==13 or y_train[i]==0 or y_train[i]==7 or y_train[i]==4 or y_train[i]==9 or y_train[i]==6: # if the class ==x, then do the following\n",
    "    temps=aug.augment(X_train[i],n=10) # create 10 copies of the sentence\n",
    "    label = y_train[i]\n",
    "    for i in temps:\n",
    "       augmented_sentences.append(i)\n",
    "       augmented_sentences_labels.append(label)\n",
    "  elif y_train[i]==14 or y_train[i]==8 or y_train[i]==12 or y_train[i]==3 or y_train[i]==11 or y_train[i]==5:\n",
    "    temps=aug.augment(X_train[i],n=4) # create 4 copies of the sentence\n",
    "    label = y_train[i]\n",
    "    for i in temps:\n",
    "        augmented_sentences.append(i)\n",
    "        augmented_sentences_labels.append(label)"
   ]
  },
  {
   "cell_type": "code",
   "execution_count": 41,
   "id": "df31f588",
   "metadata": {},
   "outputs": [
    {
     "data": {
      "text/plain": [
       "['vapor sublimation and deposition to build porous atom and composite',\n",
       " 'vapor sublimation and deposition to progress porous subatomic particle and composite',\n",
       " 'vapor sublimation and dethronement to work up porous particle and composite',\n",
       " 'vapor sublimation and deposition to build holey particle and composite',\n",
       " 'unmasking chloride attack on the peaceful film of metallic element',\n",
       " 'unmasking chloride attack on the passive film of metallic element',\n",
       " 'unmasking chloride flak on the passive motion picture of metal',\n",
       " 'unmask chloride plan of attack on the passive cinema of metal',\n",
       " 'dyke intrusion between neighbour arc volcano responsible for for preeruptive seismic horde at agung',\n",
       " 'dyke intrusion between neighbouring arc volcano responsible for preeruptive seismic cloud at agung',\n",
       " 'dyke intrusion between neighbouring arc vent responsible for preeruptive seismic cloud at agung',\n",
       " 'dyke intrusion between neighbouring arc vent responsible for preeruptive seismic swarm at agung',\n",
       " 'selfsensing tunable monolayer bit nanoelectromechanical resonator',\n",
       " 'selfsensing tunable monolayer mo nanoelectromechanical resonator',\n",
       " 'selfsensing tunable monolayer mo nanoelectromechanical resonator',\n",
       " 'selfsensing tunable monolayer moment nanoelectromechanical resonator',\n",
       " 'direct measure of superdiffusive energy tape transport in illogical granular chain',\n",
       " 'direct measure of superdiffusive vigour transport in unordered granular chain',\n",
       " 'verbatim mensuration of superdiffusive energy transport in disordered granular range of mountains',\n",
       " 'direct measurement of superdiffusive energy transportation in disordered granular chain',\n",
       " 'infraredpump electronicprobe of methylammonium spark advance iodide reveals electronically decoupled organic and inorganic sublattices',\n",
       " 'infraredpump electronicprobe of methylammonium lead iodide reveals electronically decouple organic and inorganic sublattices',\n",
       " 'infraredpump electronicprobe of methylammonium lead iodide reveals electronically decouple constitutive and inorganic sublattices',\n",
       " 'infraredpump electronicprobe of methylammonium lead iodide reveals electronically uncouple organic and inorganic sublattices',\n",
       " 'graphite phase angle carbon nitride based membrane for selective suffusion',\n",
       " 'graphite phase carbon nitride base membrane for selective suffusion',\n",
       " 'graphite phase carbon nitride based membrane for selective permeation',\n",
       " 'graphite phase carbon nitride based tissue layer for selective permeation',\n",
       " 'nonlinear response of summertime marine productivity to increased meltwater firing off around kalaallit nunaat',\n",
       " 'nonlinear response of summertime marine productivity to increase meltwater discharge around gronland',\n",
       " 'nonlinear response of summertime maritime productiveness to increased meltwater discharge around greenland',\n",
       " 'nonlinear response of summertime marine productiveness to increased meltwater discharge around kalaallit nunaat',\n",
       " 'towards femtosecond onchip electronics base on plasmonic hot electron nanoemitters',\n",
       " 'towards femtosecond onchip electronics based on plasmonic hot electron nanoemitters',\n",
       " 'towards femtosecond onchip electronics based on plasmonic hot negatron nanoemitters',\n",
       " 'towards femtosecond onchip electronics based on plasmonic live negatron nanoemitters',\n",
       " 'dynamic of pore shaping during laser gunpowder bed fusion additive manufacturing',\n",
       " 'moral force of pore formation during laser powder bed fusion additive manufacturing',\n",
       " 'dynamic of pore establishment during laser powder be intimate fusion linear manufacturing',\n",
       " 'dynamic of pore formation during laser pulverization bed fusion linear manufacturing',\n",
       " 'forecasting the magnitude of the turgid expected quake',\n",
       " 'forecast the magnitude of the largest expected seism',\n",
       " 'forecasting the order of magnitude of the largest expected seism',\n",
       " 'figure the order of magnitude of the prominent expected earthquake',\n",
       " 'structural ordination a literal control parameter of dynamic in simple glass previous',\n",
       " 'structural parliamentary law a genuine control parameter of dynamic in mere glass sometime',\n",
       " 'morphologic order a genuine control parameter of dynamical in unproblematic drinking glass former',\n",
       " 'morphologic order a genuine control parameter of dynamic in uncomplicated chalk former',\n",
       " 'strong time dependance of ocean acidification mitigation by atmospheric carbon dioxide removal',\n",
       " 'warm time dependence of ocean acidification mitigation by atmospherical carbon dioxide remotion',\n",
       " 'hard prison term dependence of ocean acidification mitigation by atmospheric carbon dioxide removal',\n",
       " 'strong time dependence of ocean acidification palliation by atmospherical carbon dioxide removal',\n",
       " 'reconfigurable mem fano metasurfaces with multipleinput output dos for logic functioning at terahertz frequency',\n",
       " 'reconfigurable mem fano metasurfaces with multipleinput output state for logic operation at terahertz oftenness',\n",
       " 'reconfigurable mem fano metasurfaces with multipleinput output state for logic functioning at terahertz relative frequency',\n",
       " 'reconfigurable mem fano metasurfaces with multipleinput output state for logic operation at terahertz frequency',\n",
       " 'the neural moral force of hierarchical bayesian causal inference in multisensory perception',\n",
       " 'the neuronal dynamic of hierarchical bayesian causal illation in multisensory perception',\n",
       " 'the neural moral force of hierarchical bayesian causal inference in multisensory sensing',\n",
       " 'the neural dynamic of hierarchical bayesian causal illation in multisensory perception',\n",
       " 'topologically guided tuning of zrmof pore bodily structure for extremely selective legal separation of alkane isomer',\n",
       " 'topologically guided tuning of zrmof stoma structure for highly selective separation of alkane isomer',\n",
       " 'topologically guided tuning of zrmof stoma social organization for highly selective separation of alkane isomer',\n",
       " 'topologically guided tuning of zrmof pore structure for extremely selective separation of alkane isomer',\n",
       " 'labelfree neuroimaging in vivo utilize synchronous angular scanning microscopy with singlescattering collection algorithm',\n",
       " 'labelfree neuroimaging in vivo using synchronal angular scanning microscopy with singlescattering accumulation algorithm',\n",
       " 'labelfree neuroimaging in vivo using synchronous angular scanning microscopy with singlescattering accumulation algorithmic rule',\n",
       " 'labelfree neuroimaging in vivo using synchronic angular scanning microscopy with singlescattering accumulation algorithmic program',\n",
       " 'surpassing the efficiency milestone for curium allpolymer solar cell',\n",
       " 'outgo the efficiency milestone for cm allpolymer solar cell',\n",
       " 'surpassing the efficiency milepost for centimetre allpolymer solar cell',\n",
       " 'surpassing the efficiency milestone for curium allpolymer solar cell',\n",
       " 'dilate t base delete toolkit with diversified deoxycytidine deaminases',\n",
       " 'expanding t base edit toolkit with diversified cytidine deaminases',\n",
       " 'expanding thyroxin base edit toolkit with diversified cytidine deaminases',\n",
       " 'lucubrate t base redact toolkit with diversified cytidine deaminases',\n",
       " 'exposit t base blue pencil toolkit with diversified cytidine deaminases',\n",
       " 'expanding triiodothyronine base cut toolkit with diversified cytidine deaminases',\n",
       " 'expanding t base editing toolkit with diversified cytidine deaminases',\n",
       " 'expanding t foundation editing toolkit with diversified deoxycytidine deaminases',\n",
       " 'expanding t base delete toolkit with diversified cytidine deaminases',\n",
       " 'expanding t root word editing toolkit with diversified cytidine deaminases',\n",
       " 'model evidence for seasonal bias in antarctic ice meat',\n",
       " 'manakin evidence for seasonal preconception in antarctic ice nitty gritty',\n",
       " 'model evidence for seasonal bias in south polar methamphetamine hydrochloride core',\n",
       " 'model grounds for seasonal bias in antarctic chalk substance',\n",
       " 'the conformational wave in capsaicin activating of transient sense organ possible vanilloid ion epithelial duct',\n",
       " 'the conformational waving in capsaicin activation of transient receptor potential vanilloid ion channel',\n",
       " 'the conformational wave in capsaicin energizing of passing receptor possible vanilloid ion channel',\n",
       " 'the conformational wave in capsaicin activation of transient receptor possible vanilloid ion line',\n",
       " 'globally asynchronous sulphur isotope signal require redefinition of the great oxidation event',\n",
       " 'globally asynchronous s isotope signal require redefinition of the great oxidation event',\n",
       " 'globally asynchronous sulphur isotope signal require redefinition of the bang up oxidization case',\n",
       " 'globally asynchronous s isotope signal require redefinition of the great oxidation event',\n",
       " 'superconducting phase diagram of sulphur under mellow magnetic field',\n",
       " 'superconducting phase diagram of s nether in high spirits magnetic field',\n",
       " 'superconducting form diagram of s under high magnetic field',\n",
       " 'superconducting form diagram of s under high charismatic field',\n",
       " 'maritime continent body of water cycle regulates lowlatitude chokepoint of world ocean circulation',\n",
       " 'maritime continent water cycle modulate lowlatitude chokepoint of globose ocean circulation',\n",
       " 'maritime continent water system cycle regulates lowlatitude chokepoint of global ocean circulation',\n",
       " 'marine continent water cycle govern lowlatitude chokepoint of global ocean circulation',\n",
       " 'μopioid sense organ arrangement mediates reward processing in human',\n",
       " 'μopioid receptor system intermediate reward processing in human',\n",
       " 'μopioid sense organ organization mediates reward processing in human',\n",
       " 'μopioid sensory receptor scheme mediates reward processing in human',\n",
       " 'coherent electric readout of defect spin in silicon carbide by photoionization at ambient consideration',\n",
       " 'logical electrical read out of defect spin in silicon carbide by photoionization at ambient condition',\n",
       " 'logical electrical read out of defect spin in silicon carbide by photoionization at ambient condition',\n",
       " 'lucid electrical readout of defect spin in si carbide by photoionization at ambient condition',\n",
       " 'temperatureinduced amorphization in caco at gamey pressure and implication for recycled caco in subduction zone',\n",
       " 'temperatureinduced amorphization in caco at high pressure and implication for recycled caco in subduction zone',\n",
       " 'temperatureinduced amorphization in caco at high pitched pressure and implication for recycled caco in subduction zone',\n",
       " 'temperatureinduced amorphization in caco at high pressure and implication for recycled caco in subduction zona',\n",
       " 'accredit the quiet extinction of invertebrate',\n",
       " 'greet the quiet experimental extinction of invertebrate',\n",
       " 'recognizing the quiet quenching of invertebrate',\n",
       " 'recognizing the restrained extinction of invertebrate',\n",
       " 'greet the muted extinction of invertebrate',\n",
       " 'recognise the quiet experimental extinction of invertebrate',\n",
       " 'recognizing the quiet extinction of invertebrate',\n",
       " 'recognise the still extinction of invertebrate',\n",
       " 'recognizing the quiet experimental extinction of invertebrate',\n",
       " 'recognizing the quiet extermination of invertebrate',\n",
       " 'the influence of geostrophic strain on pelagic ageostrophic move and surface chlorophyl',\n",
       " 'the influence of geostrophic strain on oceanic ageostrophic move and surface chlorophyl',\n",
       " 'the influence of geostrophic strain on oceanic ageostrophic motion and airfoil chlorophyll',\n",
       " \"the influence of geostrophic strain on pelagic ageostrophic motion and earth's surface chlorophyll\",\n",
       " 'the growth of human social learning across seven spot society',\n",
       " 'the ontogenesis of human social eruditeness across seven society',\n",
       " 'the exploitation of human social learning across seven gild',\n",
       " 'the development of human social encyclopedism across seven society',\n",
       " 'no evidence for highpressure melting of earth incrustation in the archean',\n",
       " 'no grounds for highpressure melting of earth gall in the archean',\n",
       " 'no evidence for highpressure melting of world gall in the archean',\n",
       " 'no evidence for highpressure thaw of earth encrustation in the archean',\n",
       " 'travel from drought risk to impact forecast',\n",
       " 'impress from drought peril to impact prognosis',\n",
       " 'affect from drought fortune to impact forecast',\n",
       " 'moving from drought hazard to bear upon forecast',\n",
       " 'theoretical description and observational simulation of quantum web near open timelike curve via pseudodensity operator',\n",
       " 'theoretical description and experimental simulation of quantum entanglement near open timelike curve via pseudodensity operator',\n",
       " 'theoretical verbal description and experimental simulation of quantum web near loose timelike curve via pseudodensity operator',\n",
       " 'theoretical description and observational simulation of quantum web good open timelike curvature via pseudodensity operator',\n",
       " 'global sea methane discharge dominated by shallow coastal water',\n",
       " 'global sea methane discharge dominated by shallow coastal water',\n",
       " 'global sea methane emission dominated by shallow coastal water',\n",
       " 'global ocean methane emission dominate by shallow coastal water',\n",
       " 'the valley nernst effect in wse',\n",
       " 'the valley nernst effect in wse',\n",
       " 'the vale nernst effect in wse',\n",
       " 'the valley nernst essence in wse',\n",
       " 'piezophototronic gated optofluidic logic calculation empowering intrinsical reconfigurable replacement',\n",
       " 'piezophototronic gated optofluidic logic computation empowering intrinsic reconfigurable shift',\n",
       " 'piezophototronic gated optofluidic logic computation empowering intrinsic reconfigurable shift',\n",
       " 'piezophototronic gated optofluidic logic computation empowering intrinsic reconfigurable switch',\n",
       " 'pattern principle of ion selective nanostructured membrane for the extraction of lithium ion',\n",
       " 'innovation principle of ion selective nanostructured membrane for the origin of li ion',\n",
       " 'pattern principle of ion selective nanostructured tissue layer for the extraction of li ion',\n",
       " 'intention rationale of ion selective nanostructured membrane for the extraction of lithium ion',\n",
       " 'noesis learning is governed by striatal prediction error',\n",
       " 'cognition acquisition is rule by striatal prediction error',\n",
       " 'noesis acquisition make up governed by striatal prediction error',\n",
       " 'knowledge acquisition is governed by striatal anticipation erroneous belief',\n",
       " 'gatecontrolled quantum dot and superconductivity in planar germanium',\n",
       " 'gatecontrolled quantum dot and superconductivity in planar atomic number 32',\n",
       " 'gatecontrolled quantum dot and superconductivity in planar ge',\n",
       " 'gatecontrolled quantum dot and superconductivity in planar germanium',\n",
       " 'acoustic metaatom with by experimentation assert maximal willis coupling',\n",
       " 'acoustical metaatom with experimentally verified maximum willis pair',\n",
       " 'acoustic metaatom with experimentally verified maximum willis mate',\n",
       " 'acoustic metaatom with through an experiment verified maximal willis coupling',\n",
       " 'interior decorator exosomes bring about by implanted cell intracerebrally deliver therapeutic lading for parkinson disease treatment',\n",
       " 'designer exosomes produced by implanted cell intracerebrally deliver therapeutical cargo for parkinson disease treatment',\n",
       " 'decorator exosomes produced by implanted cell intracerebrally deliver therapeutic cargo for parkinson disease treatment',\n",
       " 'designer exosomes produced by implanted cell intracerebrally deliver therapeutic cargo for parkinson disease treatment',\n",
       " 'feature integration within discrete time windowpane',\n",
       " 'feature integrating within discrete time windowpane',\n",
       " 'feature integration within distinct clip window',\n",
       " 'lineament integration within discrete meter window',\n",
       " 'interaction and scattering of quantum maelstrom in polariton fluid',\n",
       " 'interaction and scattering of quantum whirl in polariton fluid',\n",
       " 'interaction and scattering of quantum whirlpool in polariton fluid',\n",
       " 'fundamental interaction and scattering of quantum vortex in polariton fluid',\n",
       " 'issue of selfaffine aerofoil during adhesive wear',\n",
       " 'emergence of selfaffine control surface during adhesive article of clothing',\n",
       " 'emergence of selfaffine surface during adhesive wear',\n",
       " 'egress of selfaffine surface during adhesive wear',\n",
       " 'early neolithic execution indicated by agglomerated cranial harm in the lot grave of halberstadt',\n",
       " 'early neolithic carrying into action indicate by clustered cranial trauma in the mass grave of halberstadt',\n",
       " 'early neolithic execution indicated by agglomerative cranial trauma in the pile tomb of halberstadt',\n",
       " 'other neolithic execution indicated by clustered cranial trauma in the mint grave of halberstadt',\n",
       " 'former neolithic execution indicated by clustered cranial trauma in the mass grave of halberstadt',\n",
       " 'early neolithic execution point by agglomerated cranial harm in the mass grave of halberstadt',\n",
       " 'early neolithic execution indicated by agglomerative cranial harm in the mass grave of halberstadt',\n",
       " 'early neolithic execution designate by agglomerated cranial trauma in the mass grave accent of halberstadt',\n",
       " 'early neolithic execution indicated by clustered cranial trauma in the mass grave of halberstadt',\n",
       " 'early neolithic capital punishment indicated by clustered cranial hurt in the mass grave of halberstadt',\n",
       " 'unravelling the role of vacancy in lead halide perovskite through electrical shift of photoluminescence',\n",
       " 'unravelling the role of vacancy in lead halide perovskite done electric switching of photoluminescence',\n",
       " 'unravelling the role of vacuum in lead halide perovskite through electrical switching of photoluminescence',\n",
       " 'unravelling the role of vacancy in lead halide perovskite through with electrical switching of photoluminescence',\n",
       " 'highresolution tipenhanced raman scatter probe submolecular density change',\n",
       " 'highresolution tipenhanced raman scattering probe submolecular density modification',\n",
       " 'highresolution tipenhanced raman scattering probe submolecular density modification',\n",
       " 'highresolution tipenhanced raman scattering investigation submolecular density change',\n",
       " 'biogenic volatile release from permafrost warming is determine by the ground microbic sink',\n",
       " 'biogenic volatile release from permafrost thaw cost find out by the soil microbic sink',\n",
       " 'biogenic volatile release from permafrost thaw is determine by the soil microbial swallow hole',\n",
       " 'biogenic fickle release from permafrost thaw be determined by the filth microbial sink',\n",
       " 'biogenic volatile going from permafrost thawing is determined by the soil microbial cesspool',\n",
       " 'biogenic volatile release from permafrost thaw be determined by the soil microbic sink',\n",
       " 'biogenic volatile acquittance from permafrost thaw is determined by the soil microbic sink',\n",
       " 'biogenic fickle release from permafrost thawing is determined by the filth microbic sink',\n",
       " 'biogenic volatile exit from permafrost melting is determined by the soil microbial sink',\n",
       " 'biogenic volatile release from permafrost thaw personify learn by the soil microbial sinkhole',\n",
       " 'experimental realisation of rydberg optical feshbach resonance in quantum manybody scheme',\n",
       " 'experimental realisation of rydberg optical feshbach plangency in quantum manybody system',\n",
       " 'experimental realization of rydberg optic feshbach reverberance in quantum manybody system',\n",
       " 'observational realisation of rydberg optical feshbach resonance in quantum manybody organization',\n",
       " 'capacitive neural meshing with neurotransistors',\n",
       " 'capacitive neural network with neurotransistors',\n",
       " 'capacitive neural meshwork with neurotransistors',\n",
       " 'capacitive neural network with neurotransistors',\n",
       " 'key signature of mottness and hundness in archetypal correlate alloy',\n",
       " 'signature of mottness and hundness in archetypal correlate metal',\n",
       " 'signature of mottness and hundness in prototypic correlated metallic element',\n",
       " 'signature of mottness and hundness in archetypical correlated metal',\n",
       " 'giant optical nonlinearities from rydberg excitons in semiconductor microcavities',\n",
       " 'elephantine optical nonlinearities from rydberg excitons in semiconducting material microcavities',\n",
       " 'giant optic nonlinearities from rydberg excitons in semiconductor microcavities',\n",
       " 'gargantuan optic nonlinearities from rydberg excitons in semiconductor microcavities',\n",
       " 'organic carbon entombment during oae driven by change in the locus of organic matter sulfurization',\n",
       " 'organic c burial during oae driven by change in the locus of organic matter sulfurization',\n",
       " 'organic carbon sepulture during oae driven by alteration in the locus of organic affair sulfurization',\n",
       " 'organic carbon inhumation during oae driven by change in the locus of organic matter sulfurization',\n",
       " 'gene therapy for reform minded hereditary intrahepatic cholestasis eccentric in clinically relevant mouse model',\n",
       " 'gene therapy for progressive inherited intrahepatic acholia eccentric in clinically relevant black eye model',\n",
       " 'gene therapy for progressive familial intrahepatic cholestasis type in clinically relevant black eye model',\n",
       " 'cistron therapy for progressive familial intrahepatic acholia type in clinically relevant black eye model',\n",
       " 'a simple and robust approach to reducing contact opposition in organic electronic transistor',\n",
       " 'a childlike and full bodied approach to reducing contact resistance in organic transistor',\n",
       " 'a simple and full bodied approach to reducing contact resistance in organic transistor',\n",
       " 'a simple and robust approach to cut contact resistance in organic junction transistor',\n",
       " 'adsorptioninduced slip inhibition for polymer melt on nonpareil substrate',\n",
       " 'adsorptioninduced slip suppression for polymer melt on ideal substrate',\n",
       " 'adsorptioninduced slip prohibition for polymer melt on ideal substratum',\n",
       " 'adsorptioninduced slip suppression for polymer melt on ideal substrate',\n",
       " 'an equationofstatemeter of quantum chromodynamics transition from cryptical acquisition',\n",
       " 'an equationofstatemeter of quantum chromodynamics transition from deep learning',\n",
       " 'an equationofstatemeter of quantum chromodynamics transition from thick learning',\n",
       " 'an equationofstatemeter of quantum chromodynamics transition from deep learning',\n",
       " 'quantitative single valued function between symmetry and network topology in whole',\n",
       " 'quantitative mapping between balance and topology in satisfying',\n",
       " 'quantitative mapping between symmetry and topology in solid',\n",
       " 'quantitative mapping between symmetry and topology in solid',\n",
       " 'quantitative map between symmetry and regional anatomy in hearty',\n",
       " 'quantitative single valued function between symmetry and topology in self coloured',\n",
       " 'quantitative mapping between proportion and topology in solid',\n",
       " 'quantitative mapping between symmetry and regional anatomy in solid',\n",
       " 'quantitative mathematical function between symmetry and topology in self coloured',\n",
       " 'quantitative mapping between symmetry and topographic anatomy in solid',\n",
       " 'radical transmutation pathway towards sustainable electricity via evolutionary footprint',\n",
       " 'radical transmutation pathway towards sustainable electrical energy via evolutionary step',\n",
       " 'radical translation pathway towards sustainable electrical energy via evolutionary step',\n",
       " 'radical transformation footpath towards sustainable electrical energy via evolutionary step',\n",
       " 'reconstruct missing complex net against adversarial intervention',\n",
       " 'reconstructing missing complex net against adversarial treatment',\n",
       " 'remodel missing complex network against adversarial intervention',\n",
       " 'reconstructing leave out complex network against adversarial treatment',\n",
       " 'efficient plasmonhot electron spiritual rebirth in ag cspbbr hybrid nanocrystals',\n",
       " 'efficient plasmonhot electron changeover in ag cspbbr cross nanocrystals',\n",
       " 'effective plasmonhot electron conversion in ag cspbbr cross nanocrystals',\n",
       " 'efficient plasmonhot electron conversion in ag cspbbr hybrid nanocrystals',\n",
       " 'sharp highlatitude clime event and decoupled seasonal drift during the eemian',\n",
       " 'abrupt highlatitude climate result and uncouple seasonal style during the eemian',\n",
       " 'disconnected highlatitude climate event and decoupled seasonal style during the eemian',\n",
       " 'disconnected highlatitude climate issue and decoupled seasonal trend during the eemian',\n",
       " 'origin of ocean island basalt in the west african peaceful security deposit without mantle plumage involvement',\n",
       " 'origin of ocean island basalt in the west african passive margin without mantle plume involvement',\n",
       " 'root of ocean island basalt in the west african inactive gross profit without mantle plume involvement',\n",
       " 'rootage of ocean island basalt in the west african inactive margin without mantle plume involvement',\n",
       " 'electrically cause and detect néel vector reversal in collinear antiferromagnet',\n",
       " 'electrically cause and detected néel vector reversal in collinear antiferromagnet',\n",
       " 'electrically induced and notice néel vector reversal in collinear antiferromagnet',\n",
       " 'electrically induced and observe néel vector change of mind in collinear antiferromagnet',\n",
       " 'reconfigurable mastermind motile semiconductor microparticles',\n",
       " 'reconfigurable engineer motile semiconductor microparticles',\n",
       " 'reconfigurable engineered motile semiconductor microparticles',\n",
       " 'reconfigurable direct motile semiconductor microparticles',\n",
       " 'raise control of selfdoping in halide perovskites for improved thermoelectrical operation',\n",
       " 'enhanced control of selfdoping in halide perovskites for improved thermoelectrical performance',\n",
       " 'enhanced ascendency of selfdoping in halide perovskites for improved thermoelectric performance',\n",
       " 'enhance ascendence of selfdoping in halide perovskites for improved thermoelectrical performance',\n",
       " 'spinlattice decoupling in triangularlattice quantum spin liquid state',\n",
       " 'spinlattice decoupling in triangularlattice quantum twist liquid',\n",
       " 'spinlattice decoupling in triangularlattice quantum spin liquid',\n",
       " 'spinlattice decoupling in triangularlattice quantum spin liquidity',\n",
       " 'very big tunneling magnetoresistance in superimposed magnetic semiconductor cri',\n",
       " 'very large tunneling magnetoresistance in superimposed magnetised semiconductor cri',\n",
       " 'really large tunneling magnetoresistance in layered magnetic semiconductor device cri',\n",
       " 'very magnanimous tunneling magnetoresistance in layered charismatic semiconductor cri',\n",
       " 'quasiparticle incumbrance and nonsymmorphic consequence on floating striation surface state of zrsise',\n",
       " 'quasiparticle interference and nonsymmorphic effect on float band surface united states department of state of zrsise',\n",
       " 'quasiparticle interference and nonsymmorphic effect on floating banding surface state of zrsise',\n",
       " 'quasiparticle interference and nonsymmorphic result on floating lot airfoil state of zrsise',\n",
       " 'development of the societal brain from old age three to twelve year',\n",
       " 'development of the societal brain from eld three to twelve class',\n",
       " 'development of the social einstein from eld iii to twelve class',\n",
       " 'ontogeny of the social brain from age three to twelve twelvemonth',\n",
       " 'spontaneous current bottleneck in threshold switching twist',\n",
       " 'spontaneous current coarctation in threshold switching device',\n",
       " 'self generated current coarctation in threshold switching device',\n",
       " 'spontaneous current constriction in threshold shift device',\n",
       " 'shallow magma recreation during explosive diatremeforming eruption',\n",
       " 'shallow magma diversion during explosive diatremeforming extravasation',\n",
       " 'shallow magma divagation during explosive diatremeforming eruption',\n",
       " 'shallow magma diversion during volatile diatremeforming eruption',\n",
       " 'pen drawing video display',\n",
       " 'pen drawing display',\n",
       " 'pen take up display',\n",
       " 'pen drawing showing',\n",
       " 'incur any waldo with zeroshot invariant and efficient visual hunt',\n",
       " 'finding any waldo with zeroshot invariant and efficient visual hunt',\n",
       " 'come up any waldo with zeroshot invariant and efficient visual hunting',\n",
       " 'regain any waldo with zeroshot invariant and efficient visual hunting',\n",
       " 'disentangling conical intersection and coherent molecular moral force in methyl bromide with attosecond transient absorption spectrum analysis',\n",
       " 'disentangle conical intersection and coherent molecular moral force in methyl bromide with attosecond transient engrossment spectroscopy',\n",
       " 'comb out conic intersection and coherent molecular dynamic in methyl bromide with attosecond transient assimilation spectroscopy',\n",
       " 'disentangling conelike convergence and coherent molecular dynamic in methyl bromide with attosecond transient absorption spectroscopy',\n",
       " 'singledefect spectroscopy in the shortwave infrared',\n",
       " 'singledefect spectrum analysis in the shortwave infrared',\n",
       " 'singledefect spectroscopy in the shortwave infrared',\n",
       " 'singledefect spectroscopic analysis in the shortwave infrared',\n",
       " 'topologydependent selfstructure mediation and efficient energy rebirth in heatfluxdriven rotor coil of cholesteric droplet',\n",
       " 'topologydependent selfstructure intermediation and effective zip spiritual rebirth in heatfluxdriven rotor of cholesteric droplet',\n",
       " 'topologydependent selfstructure intermediation and efficient energy rebirth in heatfluxdriven rotor of cholesteric droplet',\n",
       " 'topologydependent selfstructure mediation and efficient energy conversion in heatfluxdriven rotor coil of cholesteric droplet',\n",
       " 'how face perception unfolds over fourth dimension',\n",
       " 'how face sensing unfolds over time',\n",
       " 'how face perception unfolds over clip',\n",
       " 'how face perception unfolds ended clock time',\n",
       " 'joint secret writing of shape and blur in area',\n",
       " 'joint coding of shape and blur in area',\n",
       " 'joint cryptography of shape and blur in area',\n",
       " 'joint coding of embodiment and fuzz in area',\n",
       " 'jumbo piezoresistive gist by optoelectronic coupler in heterojunction',\n",
       " 'giant piezoresistive effect by optoelectronic coupling in heterojunction',\n",
       " 'giant piezoresistive effect by optoelectronic coupler in heterojunction',\n",
       " 'giant piezoresistive result by optoelectronic coupling in heterojunction',\n",
       " 'direct grounds for grain boundary passivation in cu in ga se solar cell through alkalifluoride postdeposition treatment',\n",
       " 'direct evidence for grain boundary passivation in cu in georgia se solar cell through with alkalifluoride postdeposition treatment',\n",
       " 'direct evidence for cereal boundary passivation in copper in ga se solar cellular phone done alkalifluoride postdeposition treatment',\n",
       " 'direct grounds for metric grain boundary passivation in atomic number 29 in ga se solar cell through alkalifluoride postdeposition treatment',\n",
       " 'data driven find of cyber strong arm system',\n",
       " 'data driven find of cyber strong arm system',\n",
       " 'data point driven discovery of cyber physical system',\n",
       " 'data driven discovery of cyber physical organization',\n",
       " 'photoinduced ultrafast active ion ecstasy through graphene oxide membrane',\n",
       " 'photoinduced ultrafast active ion transport through with graphene oxide tissue layer',\n",
       " 'photoinduced ultrafast dynamic ion transport through graphene oxide membrane',\n",
       " 'photoinduced ultrafast fighting ion transport done graphene oxide membrane',\n",
       " 'engineering atomiclevel complexness in highentropy and complex concentrated alloy',\n",
       " 'engineering atomiclevel complexity in highentropy and complex concentrated alloy',\n",
       " 'engineering atomiclevel complexness in highentropy and complex concentrated admixture',\n",
       " 'applied science atomiclevel complexity in highentropy and complex centralize alloy',\n",
       " 'complete secrecy cryptanalytics via mixing of chaotic wave in irreversible timevarying silicon poker chip',\n",
       " 'consummate secrecy cryptography via mixing of chaotic waving in irreversible timevarying si saratoga chip',\n",
       " 'perfect secrecy steganography via mixing of chaotic wave in irreversible timevarying silicon silicon chip',\n",
       " 'perfect secrecy cryptography via mixing of chaotic wave in irreversible timevarying atomic number 14 chip',\n",
       " 'noisy defect in the hightc superconductor bi strontium cacu x',\n",
       " 'noisy defect in the hightc superconductor bi steradian cacu disco biscuit',\n",
       " 'noisy defect in the hightc superconductor bi sr cacu x',\n",
       " 'noisy flaw in the hightc superconductor atomic number 83 steradian cacu x',\n",
       " 'ballistic track in graphene nanoribbons',\n",
       " 'ballistic cut in graphene nanoribbons',\n",
       " 'ballistic track in graphene nanoribbons',\n",
       " 'ballistic trail in graphene nanoribbons',\n",
       " 'shapeprogrammed printed swimming microtori for the transport of peaceful and alive federal agent',\n",
       " 'shapeprogrammed printed swimming microtori for the transport of passive and active factor',\n",
       " 'shapeprogrammed printed swim microtori for the transport of passive and fighting agent',\n",
       " 'shapeprogrammed printed swimming microtori for the tape transport of peaceful and active agent',\n",
       " 'quantumenhanced sensing using nonclassical spin state of extremely magnetic atom',\n",
       " 'quantumenhanced smell out use nonclassical spin state of highly magnetic atom',\n",
       " 'quantumenhanced sensing use nonclassical spin country of highly magnetic atom',\n",
       " 'quantumenhanced sensing using nonclassical whirl state of highly magnetic molecule',\n",
       " 'resolving the ascendency of body of water vapour isotope in the atlantic ocean sector',\n",
       " 'settle the ascendancy of water vapor isotope in the atlantic ocean sector',\n",
       " 'adjudicate the control of water evaporation isotope in the atlantic ocean sector',\n",
       " 'resolving the restraint of water vaporisation isotope in the atlantic sphere',\n",
       " 'a quantum optical work of thresholdless lasing feature in highβ nitride nanobeam cavity',\n",
       " 'a quantum optic subject of thresholdless lasing feature in highβ nitride nanobeam tooth decay',\n",
       " 'a quantum optical cogitation of thresholdless lasing feature in highβ nitride nanobeam cavity',\n",
       " 'a quantum optical study of thresholdless lasing feature article in highβ nitride nanobeam cavity',\n",
       " 'ultrasound experiment on acoustical body process in chiral mechanical metamaterials',\n",
       " 'ultrasound experimentation on acoustic activity in chiral mechanical metamaterials',\n",
       " 'ultrasound experiment on acoustical activity in chiral mechanical metamaterials',\n",
       " 'ultrasound experiment on acoustical bodily process in chiral mechanical metamaterials',\n",
       " 'dendrite fragmentation induce by massivelike δ γ shift in fe alloy',\n",
       " 'dendrite atomization induced by massivelike δ γ transformation in fe alloy',\n",
       " 'dendrite fragmentation induced by massivelike δ γ translation in fe metal',\n",
       " 'dendrite atomisation induced by massivelike δ γ transmutation in fe alloy',\n",
       " 'amorphous topologic superconductivity in shiba glass',\n",
       " 'amorphous topological superconductivity in shiba field glass',\n",
       " 'amorphous topological superconductivity in shiba glass',\n",
       " 'uncrystallized topological superconductivity in shiba glass',\n",
       " 'remodel the sediment concentration of giant submarine gravity flow rate',\n",
       " 'construct the sediment concentration of elephantine submarine gravitational attraction flow',\n",
       " 'reconstructing the sediment immersion of elephantine wedge gravity flow',\n",
       " 'reconstructing the sediment concentration of giant submarine sandwich gravity period',\n",
       " 'arbitrary waveform atomic number 89 line filtering applicable to hundred of v base on aqueous electrochemical capacitor',\n",
       " 'arbitrary waveform alternating current line filter out applicable to hundred of v based on aqueous electrochemical capacitor',\n",
       " 'arbitrary waveform ac line filtering applicable to hundred of volt establish on aqueous electrochemical capacitor',\n",
       " 'arbitrary wave form ac line filtering applicable to hundred of v based on aqueous electrochemical capacitor',\n",
       " 'roomtemperature quantum interference in exclusive perovskite quantum dot junction',\n",
       " 'roomtemperature quantum interference in exclusive perovskite quantum dot conjugation',\n",
       " 'roomtemperature quantum interference in undivided perovskite quantum lucy in the sky with diamonds conjunction',\n",
       " 'roomtemperature quantum hindrance in single perovskite quantum dot conjunction',\n",
       " 'anomalous hall magnetoresistance in ferromagnet',\n",
       " 'anomalous vestibule magnetoresistance in ferromagnet',\n",
       " 'anomalous charles francis hall magnetoresistance in ferromagnet',\n",
       " 'anomalous residence magnetoresistance in ferromagnet',\n",
       " 'bioinspired nacrelike alumina with bulkmetallic glassforming alloy a compliant phase angle',\n",
       " 'bioinspired nacrelike aluminum oxide with bulkmetallic glassforming alloy a compliant form',\n",
       " 'bioinspired nacrelike alumina with bulkmetallic glassforming alloy a compliant phase',\n",
       " 'bioinspired nacrelike alumina with bulkmetallic glassforming alloy a compliant phase',\n",
       " 'bainduced stage segregation and band gap reduction in mixedhalide inorganic perovskite solar cell',\n",
       " 'bainduced phase segregation and band gap reduction in mixedhalide inorganic perovskite solar mobile phone',\n",
       " 'bainduced phase angle separatism and band break reduction in mixedhalide inorganic perovskite solar cell',\n",
       " 'bainduced form segregation and band spread reduction in mixedhalide inorganic perovskite solar cell',\n",
       " 'tuning defect in oxide at room temperature by lithium reduction',\n",
       " 'tune up defect in oxide at room temperature by li reduction',\n",
       " 'tuning flaw in oxide at way temperature by lithium reduction',\n",
       " 'tuning defect in oxide at elbow room temperature by atomic number 3 reduction',\n",
       " 'shapememory effect in molecular crystal',\n",
       " 'shapememory effect in molecular watch glass',\n",
       " 'shapememory issue in molecular watch glass',\n",
       " 'shapememory effect in molecular watch glass',\n",
       " 'sphingosine phosphate sensory receptor in the medial prefrontal cortex promotes stress resilience by keep down inflammatory process',\n",
       " 'sphingosine orthophosphate receptor in the medial prefrontal cortex promotes stress resiliency by quash inflammatory process',\n",
       " 'sphingosine orthophosphate receptor in the medial prefrontal cortex promotes stress resilience by reducing inflammatory summons',\n",
       " 'sphingosine orthophosphate receptor in the medial prefrontal cortex promotes stress resiliency by dilute inflammatory process',\n",
       " 'nonintegumentary melanosomes pot bias reconstruction of the colour of fossil vertebrate',\n",
       " 'nonintegumentary melanosomes can predetermine reconstruction of the colour of fossil craniate',\n",
       " 'nonintegumentary melanosomes bathroom bias reconstruction of the colour of fossil craniate',\n",
       " 'nonintegumentary melanosomes nates bias reconstruction of the colour of fossil craniate',\n",
       " 'molecular doping enabled scalable blading of efficient holetransportlayerfree perovskite solar cell',\n",
       " 'molecular doping enabled scalable blading of effective holetransportlayerfree perovskite solar cell',\n",
       " 'molecular doping enable scalable blading of efficient holetransportlayerfree perovskite solar cell',\n",
       " 'molecular doping enabled scalable blading of effective holetransportlayerfree perovskite solar cell',\n",
       " 'grounds for low density hole in jupiter ionosphere',\n",
       " 'evidence for low spirited density hole in jove ionosphere',\n",
       " 'evidence for low concentration hole in jove ionosphere',\n",
       " 'grounds for low density hole in jupiter ionosphere',\n",
       " 'inorbit operation of an atomic clock free base on lasercooled atomic number 37 atom',\n",
       " 'inorbit functioning of an atomic clock based on lasercooled rb atom',\n",
       " 'inorbit surgical process of an atomic clock base on lasercooled rb corpuscle',\n",
       " 'inorbit operation of an nuclear clock based on lasercooled rb atom',\n",
       " 'polarization insensitive frequency changeover for an atomphoton entanglement distribution via telecommunication electronic network',\n",
       " 'polarization insensitive frequency conversion for an atomphoton entanglement statistical distribution via telecommunication network',\n",
       " 'polarisation insensitive frequence conversion for an atomphoton entanglement distribution via telecom network',\n",
       " 'polarization insensitive frequence spiritual rebirth for an atomphoton entanglement distribution via telecommunication network',\n",
       " 'tunable inverse spin hall effect in nanometerthick platinum celluloid by ionic gating',\n",
       " 'tunable inverse spin hall effect in nanometerthick pt movie by ionic gating',\n",
       " 'tunable inverse spin antechamber effect in nanometerthick pt photographic film by ionic gating',\n",
       " 'tunable opposite whirl hall effect in nanometerthick platinum motion picture show by ionic gating',\n",
       " 'a bayesian intermixture manakin for the analysis of allelic expression in single cell',\n",
       " 'a bayesian potpourri model for the analysis of allelic expression in single cell',\n",
       " 'a bayesian mixture good example for the analysis of allelic saying in single cell',\n",
       " 'a bayesian mixing model for the analysis of allelic expression in undivided prison cell',\n",
       " 'a bayesian salmagundi model for the analytic thinking of allelic expression in single cell',\n",
       " 'a bayesian mixture model for the psychoanalysis of allelic look in exclusive cell',\n",
       " 'a bayesian mixture mannikin for the analysis of allelic expression in exclusive cell',\n",
       " 'a bayesian mixture theoretical account for the analytic thinking of allelic expression in single cell',\n",
       " 'a bayesian commixture model for the analysis of allelomorphic look in single cell',\n",
       " 'a bayesian commixture model for the analysis of allelic formulation in individual cell',\n",
       " 'the mechanism of tidal triggering of earthquake at midocean rooftree',\n",
       " 'the mechanism of tidal triggering of temblor at midocean ridge',\n",
       " 'the mechanism of tidal triggering of earthquake at midocean ridgepole',\n",
       " 'the mechanism of tidal triggering of earthquake at midocean rooftree',\n",
       " 'molecular identification of organic vapor driving atmospheric nanoparticle growth',\n",
       " 'molecular recognition of organic vapor driving atmospherical nanoparticle maturation',\n",
       " 'molecular recognition of organic vapor driving atmospheric nanoparticle ontogenesis',\n",
       " 'molecular identification of organic vapor driving atmospheric nanoparticle outgrowth',\n",
       " 'tropic cyclone bit to deepen el niño',\n",
       " 'tropical cyclone turn to intensify el niño',\n",
       " 'tropical cyclone act to deepen el niño',\n",
       " 'tropic cyclone act to intensify el niño',\n",
       " 'highresolution nmr field of study of antibiotic in cellular tissue layer',\n",
       " 'highresolution nmr study of antibiotic in cellular membrane',\n",
       " 'highresolution nmr survey of antibiotic in cellular tissue layer',\n",
       " 'highresolution nmr study of antibiotic in cellular tissue layer',\n",
       " 'development of mpfc function mediates transformation in selfprotective behavior provoked by societal feedback',\n",
       " 'development of mpfc role arbitrate shimmy in selfprotective behavior provoked by societal feedback',\n",
       " 'growing of mpfc function mediates shift in selfprotective behavior provoked by societal feedback',\n",
       " 'growing of mpfc function mediates shift in selfprotective demeanor provoked by societal feedback',\n",
       " 'fast lithium development and short circuit induced by localizedtemperature hot spot in lithium battery',\n",
       " 'fast lithium growth and short circuit induced by localizedtemperature hot spot in lithium stamp battery',\n",
       " 'fast lithium development and scant circuit bring on by localizedtemperature hotspot in lithium battery',\n",
       " 'tight lithium growth and short circuit cause by localizedtemperature hotspot in lithium battery',\n",
       " 'momentumdependent power law measured in an interacting quantum telegram beyond the luttinger point of accumulation',\n",
       " 'momentumdependent power law quantify in an interacting quantum wire beyond the luttinger limit point',\n",
       " 'momentumdependent power law measure out in an interacting quantum conducting wire beyond the luttinger limit',\n",
       " 'momentumdependent big businessman law measure in an interacting quantum wire beyond the luttinger limit',\n",
       " 'deglacial watertable decline in southern california memorialise by noble gasoline isotope',\n",
       " 'deglacial watertable diminution in southern california put down by noble accelerator pedal isotope',\n",
       " 'deglacial watertable decline in southern california memorialize by noble gas isotope',\n",
       " 'deglacial watertable declivity in southerly california recorded by noble gas isotope',\n",
       " 'a polymerdirectintercalation strategy for missouri carbonderived heteroaerogels with ultrahigh pseudocapacitance',\n",
       " 'a polymerdirectintercalation scheme for mo carbonderived heteroaerogels with ultrahigh pseudocapacitance',\n",
       " 'a polymerdirectintercalation strategy for mo carbonderived heteroaerogels with ultrahigh pseudocapacitance',\n",
       " 'a polymerdirectintercalation scheme for bit carbonderived heteroaerogels with ultrahigh pseudocapacitance',\n",
       " 'pattern of satellite tagged biddy harrier disappearing suggest widespread illegal killing on british grouse moor',\n",
       " 'pattern of satellite tagged hen harrier disappearance suggest far flung illegal killing on british grouse moor',\n",
       " 'figure of satellite tagged hen harrier disappearing suggest widespread illegal killing on british grouse moorland',\n",
       " 'pattern of satellite tagged hen harrier disappearance suggest widespread illegal killing on british grouse moorland',\n",
       " 'convention of satellite tagged hen harasser disappearance suggest far flung illegal killing on british grouse moor',\n",
       " 'pattern of satellite tagged hen harrier disappearance suggest far flung illegal killing on british grouse moorland',\n",
       " 'pattern of orbiter tag hen harrier disappearance suggest far flung illegal killing on british grouse moor',\n",
       " 'pattern of satellite tag hen harrier disappearing suggest widespread illegal killing on british grouse moor',\n",
       " 'design of satellite tagged hen harrier disappearance suggest widespread illegal killing on british grouse moorland',\n",
       " 'blueprint of satellite tagged hen harrier disappearing suggest widespread illegal kill on british grouse moorland',\n",
       " 'gravid thermoelectric tycoon factor from crystal symmetryprotected nonbonding orbital in halfheuslers',\n",
       " 'large thermoelectrical index factor from crystal symmetryprotected nonbonding orbital in halfheuslers',\n",
       " 'tumid thermoelectric power factor from crystal symmetryprotected nonbonding orbital in halfheuslers',\n",
       " 'big thermoelectric power factor from crystallization symmetryprotected nonbonding orbital in halfheuslers',\n",
       " 'transient rheology of the sumatran drapery wedge revealed by decade of great earthquake',\n",
       " 'transeunt rheology of the sumatran mantle wedge revealed by ten of neat earthquake',\n",
       " 'transeunt rheology of the sumatran mantle wedge break by decade of great earthquake',\n",
       " 'short lived rheology of the sumatran mantle wedge reveal by decade of great earthquake',\n",
       " 'equipment failure of energy transference gap law unveil by fulldimensional quantum scattering between hf speck',\n",
       " 'breakdown of energy transfer gap jurisprudence revealed by fulldimensional quantum scattering between hf molecule',\n",
       " 'breakdown of vigor transfer opening law revealed by fulldimensional quantum break up between hf molecule',\n",
       " 'breakdown of energy conveyance gap law revealed by fulldimensional quantum scattering between high frequency molecule',\n",
       " 'belief country representation in the dopamine organization',\n",
       " 'opinion body politic representation in the dopamine system',\n",
       " 'belief state department internal representation in the dopamine organisation',\n",
       " 'feeling dos histrionics in the dopamine system',\n",
       " 'good example state department for class of chiral topological order interface',\n",
       " 'poser state for class of chiral topologic order user interface',\n",
       " 'example state for year of chiral topological order interface',\n",
       " 'theoretical account state for year of chiral topological order interface',\n",
       " 'a planetary metaanalysis of yield stableness in organic and conservation usda',\n",
       " 'a global metaanalysis of yield stableness in organic and preservation husbandry',\n",
       " 'a global metaanalysis of yield stability in constitutional and conservation factory farm',\n",
       " 'a global metaanalysis of issue stability in organic and preservation husbandry',\n",
       " 'a global metaanalysis of yield stableness in constituent and conservation agriculture',\n",
       " 'a global metaanalysis of yield stableness in organic and conservation agriculture',\n",
       " 'a global metaanalysis of takings constancy in constituent and conservation agriculture',\n",
       " 'a world wide metaanalysis of fruit stableness in organic and conservation agriculture',\n",
       " 'a orbicular metaanalysis of yield constancy in organic and preservation agriculture',\n",
       " 'a spherical metaanalysis of issue stability in constitutional and conservation agriculture',\n",
       " 'atomic engineering of highdensity sequester co atom on graphene with proximalatom controlled reaction selectivity',\n",
       " 'atomic engineering of highdensity isolated co atom on graphene with proximalatom control chemical reaction selectivity',\n",
       " 'nuclear engineering science of highdensity isolated co atom on graphene with proximalatom controlled reaction selectivity',\n",
       " 'atomic engineering of highdensity isolated co corpuscle on graphene with proximalatom controlled chemical reaction selectivity',\n",
       " 'fabrication of arbitrary threedimensional suspend vacuous microstructures in transparent fused silica glass',\n",
       " 'fabrication of arbitrary threedimensional suspended hollow microstructures in transparent fuse silicon oxide glass',\n",
       " 'assembly of arbitrary threedimensional suspended hollow microstructures in transparent fused silica glass',\n",
       " 'fabrication of arbitrary threedimensional suspended hollow microstructures in transparent fuse silicon oxide glass',\n",
       " 'botany response to special global heat during oceanic anoxic event',\n",
       " 'vegetation reply to prodigious global warmth during oceanic anoxic event',\n",
       " 'vegetation reply to exceptional global passion during oceanic anoxic event',\n",
       " 'vegetation answer to exceptional orbicular warmth during pelagic anoxic event',\n",
       " 'quantifying dissipation use fluctuate current',\n",
       " 'quantifying dissipation habituate fluctuating current',\n",
       " 'quantifying dissipation use fluctuating current',\n",
       " 'quantifying dissipation use fluctuating current',\n",
       " 'quantify waste using fluctuating current',\n",
       " 'quantifying dissipation using fluctuate current',\n",
       " 'quantifying dissipation using vacillate current',\n",
       " 'quantifying dissipation using fluctuate current',\n",
       " 'quantify dissipation using fluctuate current',\n",
       " 'quantifying dissipation using vacillate current',\n",
       " 'informationrich localization microscopy through car learning',\n",
       " 'informationrich localization principle microscopy through machine learning',\n",
       " 'informationrich localization microscopy through machine learning',\n",
       " 'informationrich location microscopy done machine learning',\n",
       " 'formation of negatron radiation belted ammunition at saturn by zmode undulation speedup',\n",
       " 'geological formation of electron radiation sickness belt at saturn by zmode wave acceleration',\n",
       " 'formation of negatron radiation therapy belt at saturn by zmode wave acceleration',\n",
       " 'shaping of electron actinotherapy belt at saturn by zmode wave speedup',\n",
       " 'halfquantum whirlpool and wall bounded by string in the polardistorted phase of topological superfluid he',\n",
       " 'halfquantum vortex and rampart bounded by string in the polardistorted phase of topological superfluid he',\n",
       " 'halfquantum vortex and wall bounded by draw in the polardistorted phase of topological superfluid he',\n",
       " 'halfquantum vortex and paries bounded by string in the polardistorted phase of topological superfluid he',\n",
       " 'effective genesis of neutral and charged biexcitons in encapsulated wse monolayers',\n",
       " 'efficient generation of neutral and aerated biexcitons in encapsulated wse monolayers',\n",
       " 'efficient generation of neutral and charged biexcitons in encapsulated wse monolayers',\n",
       " 'effective contemporaries of neutral and charged biexcitons in encapsulated wse monolayers',\n",
       " 'the computational and neural substratum of moral strategy in societal decisionmaking',\n",
       " 'the computational and neural substratum of moral scheme in social decisionmaking',\n",
       " 'the computational and neural substratum of moral scheme in societal decisionmaking',\n",
       " 'the computational and neural substratum of moral strategy in societal decisionmaking',\n",
       " 'how high pitched energy flux may affect rayleigh deems taylor instability growth in young supernova remnant',\n",
       " 'how high muscularity flux may affect rayleigh taylor instability growth in youthful supernova remnant',\n",
       " 'how in high spirits energy flux may affect rayleigh president taylor imbalance growth in young supernova oddment',\n",
       " 'how high energy flux may dissemble rayleigh elizabeth taylor instability maturation in young supernova oddment',\n",
       " 'prioritise network community',\n",
       " 'prioritizing net community',\n",
       " 'prioritize network community',\n",
       " 'prioritizing web community',\n",
       " 'highly emissive excitons with reduced rally vitality in thermally activated delayed fluorescent atom',\n",
       " 'highly emissive excitons with decreased exchange free energy in thermally activated delayed fluorescent molecule',\n",
       " 'highly emissive excitons with reduced telephone exchange energy in thermally trigger off delayed fluorescent molecule',\n",
       " 'highly emissive excitons with decreased commutation energy in thermally activated delayed fluorescent fixture molecule',\n",
       " 'distinct representation of basic taste timbre in human gustatory cortex',\n",
       " 'distinct representation of basic taste quality in human gustatory cortex',\n",
       " 'distinct representation of basic taste quality in human gustatory cerebral mantle',\n",
       " 'distinct representation of basic taste quality in human gustatory lens cortex',\n",
       " 'building globular alinement of biofoundries',\n",
       " 'building global alliance of biofoundries',\n",
       " 'building planetary alliance of biofoundries',\n",
       " 'building planetary alliance of biofoundries',\n",
       " 'forming attitude via neural natural process supporting affectional episodic simulation',\n",
       " 'work attitude via neural activity supporting affectional episodic simulation',\n",
       " 'forming attitude via nervous activity confirm emotive episodic simulation',\n",
       " 'forming attitude via neural activity patronise affective episodic feigning',\n",
       " 'alloptical control condition of longlived nuclear spin in rareearth doped nanoparticles',\n",
       " 'alloptical control of longlived nuclear spin in rareearth dope up nanoparticles',\n",
       " 'alloptical ascendence of longlived nuclear twirl in rareearth doped nanoparticles',\n",
       " 'alloptical control of longlived nuclear twisting in rareearth dope nanoparticles',\n",
       " 'gallium nitride nanowire a linker of molybdenum sulfide and atomic number 14 for photoelectrocatalytic piddle splitting',\n",
       " 'ga nitride nanowire a linker of mo sulfide and silicon for photoelectrocatalytic water splitting',\n",
       " 'gallium nitride nanowire a linker of molybdenum sulphide and silicon for photoelectrocatalytic water splitting',\n",
       " 'atomic number 31 nitride nanowire a linker of mo sulfide and silicon for photoelectrocatalytic water splitting',\n",
       " 'pattern of inherited differentiation and the footprint of historical migration in the iberian peninsula',\n",
       " 'pattern of genetic differentiation and the footmark of diachronic migration in the iberian peninsula',\n",
       " 'pattern of genetic differentiation and the step of diachronic migration in the iberian peninsula',\n",
       " 'pattern of genetic differentiation and the footprint of diachronic migration in the iberian peninsula',\n",
       " 'blueprint of genetic distinction and the footprint of historical migration in the iberian peninsula',\n",
       " 'pattern of genetic differentiation and the footprint of historical migration in the iberian peninsula',\n",
       " 'traffic pattern of genetic differentiation and the footprint of historical migration in the iberian peninsula',\n",
       " 'pattern of transmitted differentiation and the step of historic migration in the iberian peninsula',\n",
       " 'traffic pattern of genetic differentiation and the footprint of historic migration in the iberian peninsula',\n",
       " 'pattern of genetical differentiation and the footmark of historical migration in the iberian peninsula',\n",
       " 'reflection of quantum manybody effect due to zero full point fluctuation in superconducting circuit',\n",
       " 'notice of quantum manybody effect due to zero point fluctuation in superconducting circle',\n",
       " 'watching of quantum manybody gist due to zero gunpoint fluctuation in superconducting circuit',\n",
       " 'observation of quantum manybody force due to nothing point fluctuation in superconducting circuit',\n",
       " 'towards maximized volumetric content via porecoordinated conception for largevolumechange lithiumion battery anode',\n",
       " 'towards maximized volumetric capacity via porecoordinated design for largevolumechange lithiumion stamp battery anode',\n",
       " 'towards maximized volumetrical capacity via porecoordinated design for largevolumechange lithiumion battery anode',\n",
       " 'towards maximize volumetric capacity via porecoordinated design for largevolumechange lithiumion assault and battery anode',\n",
       " 'the hammam force or how affectionate ocean enhances large scale atmospheric predictability',\n",
       " 'the hammam effect operating room how lovesome ocean enhances large scale atmospheric predictability',\n",
       " 'the hammam effect or how warm ocean enhances large scale atmospheric predictability',\n",
       " 'the hammam effect or how warm ocean enhances prominent scale atmospheric predictability',\n",
       " 'tight and covariateadaptive method amplifies detection exponent in largescale multiple hypothesis testing',\n",
       " 'fast and covariateadaptive method acting amplifies detection power in largescale multiple surmisal testing',\n",
       " 'fast and covariateadaptive method acting amplifies detection index in largescale multiple surmise testing',\n",
       " 'fast and covariateadaptive method amplifies detection power in largescale multiple possibility testing',\n",
       " 'thermal serve selforganization of calcium carbonate',\n",
       " 'caloric wait on selforganization of calcium carbonate',\n",
       " 'thermal assisted selforganization of calcium carbonate',\n",
       " 'thermal assist selforganization of ca carbonate',\n",
       " 'topologic kink plasmons on magneticdomain boundary',\n",
       " 'topological twist plasmons on magneticdomain bound',\n",
       " 'topologic kink plasmons on magneticdomain boundary',\n",
       " 'topological kink plasmons on magneticdomain boundary',\n",
       " 'outofplane predilection of luminescent excitons in twodimensional indium selenide',\n",
       " 'outofplane orientation of luminescent excitons in twodimensional indium selenide',\n",
       " 'outofplane orientation of luminescent excitons in twodimensional indium selenide',\n",
       " 'outofplane orientation of luminescent excitons in twodimensional atomic number 49 selenide',\n",
       " 'the paleoclimatic footprint in the soil carbon stemma of the tibetan permafrost region',\n",
       " 'the paleoclimatic footmark in the soil carbon paper caudex of the tibetan permafrost realm',\n",
       " 'the paleoclimatic step in the soil carbon stock of the tibetan permafrost region',\n",
       " 'the paleoclimatic footmark in the soil atomic number 6 stock of the tibetan permafrost region',\n",
       " 'the paleoclimatic step in the soil carbon livestock of the tibetan permafrost region',\n",
       " 'the paleoclimatic footprint in the soil carbon fund of the tibetan permafrost region',\n",
       " 'the paleoclimatic footprint in the soil c stock of the tibetan permafrost area',\n",
       " 'the paleoclimatic footprint in the soil c stock certificate of the tibetan permafrost region',\n",
       " 'the paleoclimatic step in the territory carbon stock of the tibetan permafrost realm',\n",
       " 'the paleoclimatic footmark in the dirt carbon copy stock of the tibetan permafrost region',\n",
       " 'control gene and drug release from liposomal speech political platform triggered by xray radiation',\n",
       " 'see to it factor and drug liberation from liposomal delivery platform triggered by xray radiation',\n",
       " 'hold in cistron and drug release from liposomal delivery platform triggered by xray radiation',\n",
       " 'controlled factor and drug release from liposomal delivery platform triggered by xray radiation',\n",
       " 'global geochemical fingerprinting of plume intensity suggest coupling with the supercontinent cycle',\n",
       " 'world geochemical fingerprinting of plume intensity suggests coupling with the supercontinent cycle',\n",
       " 'global geochemical fingerprinting of plume saturation suggests match with the supercontinent bike',\n",
       " 'planetary geochemical fingerprinting of plume intensity suggest coupling with the supercontinent round',\n",
       " 'strong plasmonmolecule coupling at the nanoscale revealed by firstprinciples model',\n",
       " 'strong plasmonmolecule coupling at the nanoscale revealed by firstprinciples pattern',\n",
       " 'strong plasmonmolecule coupling at the nanoscale expose by firstprinciples modeling',\n",
       " 'unassailable plasmonmolecule coupling at the nanoscale revealed by firstprinciples modeling',\n",
       " 'mechanical behaviour of fluidlubricated fault',\n",
       " 'mechanically skillful behaviour of fluidlubricated fault',\n",
       " 'mechanical behaviour of fluidlubricated fault',\n",
       " 'mechanical conduct of fluidlubricated fault',\n",
       " 'ascendance of optical maser plasma accelerated electron for scant source',\n",
       " 'control of laser blood plasma speed electron for light germ',\n",
       " 'control of laser blood plasma speed up electron for light beginning',\n",
       " 'controller of laser plasma speed up electron for loose source',\n",
       " 'a unified framework for analysis of individualbased model in ecology and beyond',\n",
       " 'a merged framework for analytic thinking of individualbased model in ecology and beyond',\n",
       " 'a unified framework for analysis of individualbased theoretical account in ecology and beyond',\n",
       " 'a integrated model for analysis of individualbased model in ecology and beyond',\n",
       " 'a interconnected framework for analysis of individualbased model in ecology and beyond',\n",
       " 'a unified fabric for analytic thinking of individualbased model in ecology and beyond',\n",
       " 'a unified framework for psychoanalysis of individualbased model in ecology and beyond',\n",
       " 'a unified theoretical account for analysis of individualbased model in environmental science and beyond',\n",
       " 'a incorporate framework for analysis of individualbased role model in ecology and beyond',\n",
       " 'a co ordinated framework for analysis of individualbased theoretical account in ecology and beyond',\n",
       " 'mapping higherorder intercourse between brain structure and social occasion with embedded transmitter theatrical performance of connectomes',\n",
       " 'mapping higherorder relation between wit social structure and function with embedded vector representation of connectomes',\n",
       " 'mapping higherorder relation between brain structure and social occasion with embedded vector representation of connectomes',\n",
       " 'mapping higherorder coitus between brain construction and function with embedded transmitter representation of connectomes',\n",
       " 'orientation of nonspherical protonated h2o bunch revealed by infrared concentration dichroism',\n",
       " 'orientation of nonspherical protonated water clump revealed by infrared absorption dichroism',\n",
       " 'orientation of nonspherical protonated water cluster give away by infrared immersion dichroism',\n",
       " 'preference of nonspherical protonated water cluster revealed by infrared concentration dichroism',\n",
       " 'evidence of learned behaviour in amoeba',\n",
       " 'evidence of conditioned behavior in amoeba',\n",
       " 'grounds of conditioned conduct in amoeba',\n",
       " 'evidence of conditioned behaviour in amoeba',\n",
       " 'cerebellar disruption impairs work memory during evidence accumulation',\n",
       " 'cerebellar hoo hah impairs working memory during evidence accumulation',\n",
       " 'cerebellar to do impairs working storage during evidence accruement',\n",
       " 'cerebellar disruption impairs working memory during grounds accrual',\n",
       " 'singlemolecule detection on portable dprinted microscope',\n",
       " 'singlemolecule detection on portable dprinted microscope',\n",
       " 'singlemolecule spying on portable dprinted microscope',\n",
       " 'singlemolecule detection on portable dprinted microscope',\n",
       " 'widely tunable gaas bandgap via stress engineering in core racing shell nanowires with large lattice mismatch',\n",
       " 'widely tunable gaas bandgap via strain applied science in core shell nanowires with large latticework mismatch',\n",
       " 'wide tunable gaas bandgap via nervous strain engineering in core cuticle nanowires with large lattice mismatch',\n",
       " 'wide tunable gaas bandgap via strain technology in core shell nanowires with large lattice mismatch',\n",
       " 'passing stretchable and selfhealing director based on thermoplastic elastomer for allthreedimensional printed triboelectric nanogenerator',\n",
       " 'extremely stretchy and selfhealing conductor based on thermoplastic elastomer for allthreedimensional printed triboelectric nanogenerator',\n",
       " 'extremely stretchable and selfhealing director based on thermoplastic elastomer for allthreedimensional printed triboelectric nanogenerator',\n",
       " 'highly stretchable and selfhealing conductor based on thermoplastic elastomer for allthreedimensional print triboelectric nanogenerator',\n",
       " 'coupling exclusive electron on superfluid he to superconducting resonator',\n",
       " 'couple on unmarried electron on superfluid helium to superconducting resonator',\n",
       " 'coupling single electron on superfluid atomic number 2 to superconducting resonator',\n",
       " 'coupling single negatron on superfluid helium to superconducting resonator',\n",
       " 'nutrient supplying controller particulate elemental concentration and ratio in the low toned latitude eastern indian ocean',\n",
       " 'nutritious supply control particulate primary concentration and ratio in the low latitude eastern native american ocean',\n",
       " 'nourishing provision restraint particulate primary concentration and ratio in the low latitude eastern indian ocean',\n",
       " 'nutrient supply control particulate elementary concentration and ratio in the modest latitude easterly indian sea',\n",
       " 'pore elimination mechanics during printing of alloy',\n",
       " 'pore riddance chemical mechanism during printing of metal',\n",
       " 'stoma voiding mechanics during printing of metal',\n",
       " 'stomate elimination mechanism during printing of metal',\n",
       " 'aav is herculean viral vector for inner ear gene therapy',\n",
       " 'aav is potent viral vector for inner ear factor therapy',\n",
       " 'aav is powerful viral vector for interior ear cistron therapy',\n",
       " 'aav is powerful viral transmitter for inner ear gene therapy',\n",
       " 'noncovalently fusedring electron acceptor with nearinfrared preoccupancy for highperformance constituent solar cell',\n",
       " 'noncovalently fusedring electron acceptor with nearinfrared absorption for highperformance constitutional solar cadre',\n",
       " 'noncovalently fusedring electron acceptor with nearinfrared absorption for highperformance constitutional solar cell',\n",
       " 'noncovalently fusedring electron acceptor with nearinfrared absorption for highperformance organic solar cell',\n",
       " 'thermal and electrical signature of hydrodynamic electron fluid in tungsten diphosphide',\n",
       " 'thermal and electrical signature tune of hydrodynamic electron fluid in tungsten diphosphide',\n",
       " 'thermal and electrical key signature of hydrodynamic electron fluid in tungsten diphosphide',\n",
       " 'thermal and electrical signature of hydrodynamic electron fluid in tungsten diphosphide',\n",
       " 'waveguidepaint extend an open political platform for large fieldofview superresolution imaging',\n",
       " 'waveguidepaint offer an open chopine for gravid fieldofview superresolution image',\n",
       " 'waveguidepaint declare oneself an open platform for large fieldofview superresolution imaging',\n",
       " 'waveguidepaint offer an open platform for large fieldofview superresolution visualise',\n",
       " 'intercrossed longitudinaltransverse phonon polaritons',\n",
       " 'hybrid longitudinaltransverse phonon polaritons',\n",
       " 'intercrossed longitudinaltransverse phonon polaritons',\n",
       " 'hybrid longitudinaltransverse phonon polaritons',\n",
       " 'multistimuliresponsive programmable biomimetic actuator',\n",
       " 'multistimuliresponsive programmable biomimetic actuator',\n",
       " 'multistimuliresponsive programmable biomimetic actuator',\n",
       " 'multistimuliresponsive programmable biomimetic actuator',\n",
       " 'terminus ad quem on determining the skill of north atlantic sea decadal prediction',\n",
       " 'limit on determine the acquisition of north atlantic sea decadal prevision',\n",
       " 'limit on see the skill of north atlantic ocean decadal prevision',\n",
       " 'limit on determining the skill of north atlantic sea decadal forecasting',\n",
       " 'map the microscale origin of magnetic resonance image contrast with subcellular rhombus magnetometry',\n",
       " 'map the microscale origin of magnetic resonance image contrast with subcellular diamond magnetometry',\n",
       " 'mapping the microscale origin of magnetic ringing figure contrast with subcellular rhomb magnetometry',\n",
       " 'map the microscale origin of magnetic resonance image contrast with subcellular diamond magnetometry',\n",
       " 'multilayer network reveal the spacial structure of seeddispersal interaction across the great breach landscape',\n",
       " 'multilayer network reveal the spatial construction of seeddispersal fundamental interaction across the slap up rift landscape',\n",
       " 'multilayer meshwork disclose the spatial structure of seeddispersal interaction across the great rift landscape',\n",
       " 'multilayer network reveal the spatial social system of seeddispersal fundamental interaction across the great rift landscape',\n",
       " 'multilayer network reveal the spatial anatomical structure of seeddispersal fundamental interaction across the great rift landscape painting',\n",
       " 'multilayer network let on the spacial structure of seeddispersal interaction across the great rift landscape',\n",
       " 'multilayer mesh reveal the spatial structure of seeddispersal fundamental interaction across the great falling out landscape',\n",
       " 'multilayer network divulge the spatial complex body part of seeddispersal interaction across the not bad rift landscape',\n",
       " 'multilayer meshwork reveal the spatial social organisation of seeddispersal fundamental interaction across the great rift landscape',\n",
       " 'multilayer network reveal the spatial anatomical structure of seeddispersal fundamental interaction across the great rift landscape painting',\n",
       " 'scaling law for excitons in perovskite quantum easily',\n",
       " 'surmount law for excitons in perovskite quantum well',\n",
       " 'scale law of nature for excitons in perovskite quantum well',\n",
       " 'scale jurisprudence for excitons in perovskite quantum well',\n",
       " 'neural network psychoanalysis of sleep stage enables effective diagnosing of narcolepsy',\n",
       " 'neural web psychoanalysis of sleep stage enables effective diagnosis of narcolepsy',\n",
       " 'neural meshwork analysis of sleep leg enables effective diagnosis of narcolepsy',\n",
       " 'neural meshwork analysis of sleep stagecoach enables efficient diagnosis of narcolepsy',\n",
       " 'all wse r insubordinate ram cell for next monolithic embedded memory consolidation',\n",
       " 'all wse r resistive aries cell for future monumental embedded memory consolidation',\n",
       " 'all wse universal gas constant resistive ram cellphone for future monolithic embedded memory consolidation',\n",
       " 'all wse r resistive aries the ram cellular phone for future monolithic embedded memory consolidation',\n",
       " 'solar cell design by maximizing vim production based on motorcar learning clustering of spectral pas seul',\n",
       " 'solar cell design by maximizing energy production based on simple machine get word clustering of ghostlike variation',\n",
       " 'solar cell design by maximise energy production based on machine learning clustering of spectral variation',\n",
       " 'solar mobile phone blueprint by maximizing energy production based on machine learn clustering of spectral variant',\n",
       " 'human can decrypt adversarial range of a function',\n",
       " 'human can decode adversarial trope',\n",
       " 'human derriere decipher adversarial image',\n",
       " 'human being can decrypt adversarial image',\n",
       " 'vampnets for deep learning of molecular dynamics',\n",
       " 'vampnets for recondite learnedness of molecular kinetics',\n",
       " 'vampnets for mystifying learning of molecular kinetics',\n",
       " 'vampnets for deep learning of molecular dynamics',\n",
       " 'vampnets for rich learning of molecular kinetics',\n",
       " 'vampnets for mysterious learning of molecular kinetics',\n",
       " 'vampnets for deep encyclopaedism of molecular kinetics',\n",
       " 'vampnets for abstruse scholarship of molecular kinetics',\n",
       " 'vampnets for rich learning of molecular kinetics',\n",
       " 'vampnets for deep learning of molecular dynamics',\n",
       " 'anderson light localization in biologic nanostructures of native silk',\n",
       " 'maxwell anderson light localization in biological nanostructures of aboriginal silk',\n",
       " 'anderson easy localization in biologic nanostructures of aboriginal silk',\n",
       " 'anderson sluttish localization of function in biological nanostructures of native silk',\n",
       " 'ecological control of nitrite in the upper sea',\n",
       " 'ecological controller of nitrite in the upper ocean',\n",
       " 'bionomic dominance of nitrite in the upper ocean',\n",
       " 'ecological ascendence of nitrite in the upper ocean',\n",
       " 'an alternate model for fluorescence coefficient of correlation spectroscopy',\n",
       " 'an alternative theoretical account for fluorescence correlation coefficient spectrographic analysis',\n",
       " 'an alternate framework for fluorescence correlation spectrum analysis',\n",
       " 'an alternative theoretical account for fluorescence correlation spectrum analysis',\n",
       " 'strong sesquiterpene emission from amazonian soil',\n",
       " 'strong sesquiterpene emanation from amazonian soil',\n",
       " 'potent sesquiterpene emission from amazonian soil',\n",
       " 'strong sesquiterpene emission from amazonian soil',\n",
       " 'strong sesquiterpene discharge from amazonian soil',\n",
       " 'potent sesquiterpene expelling from amazonian soil',\n",
       " 'strong sesquiterpene emanation from amazonian stain',\n",
       " 'warm sesquiterpene emanation from amazonian soil',\n",
       " 'strong sesquiterpene emission from amazonian land',\n",
       " 'solid sesquiterpene emission from amazonian soil',\n",
       " 'motivate action to extenuate plastic pollution',\n",
       " 'motivating action to extenuate plastic contamination',\n",
       " 'motivating action mechanism to mitigate pliant pollution',\n",
       " 'motivating activity to extenuate plastic pollution',\n",
       " 'move action to extenuate plastic pollution',\n",
       " 'motivating natural process to mitigate moldable pollution',\n",
       " 'move legal action to mitigate plastic pollution',\n",
       " 'motivating legal action to palliate plastic pollution',\n",
       " 'motivating legal action to mitigate plastic pollution',\n",
       " 'motivating action mechanism to mitigate pliant pollution',\n",
       " 'rapid evaluation of bioactive tibased surface using an in vitro titration method acting',\n",
       " 'rapid evaluation of bioactive tibased surface using an in vitro titration method acting',\n",
       " 'rapid evaluation of bioactive tibased surface using an in vitro titration method acting',\n",
       " 'rapid evaluation of bioactive tibased airfoil using an in vitro titration method',\n",
       " 'paraffinenabled graphene transfer',\n",
       " 'paraffinenabled graphene transfer',\n",
       " 'paraffinenabled graphene transference',\n",
       " 'paraffinenabled graphene transfer',\n",
       " 'direct observation of atomicscale fracture path within ceramic grain boundary nub',\n",
       " 'direct observance of atomicscale fracture way within ceramic grain boundary core',\n",
       " 'lineal observance of atomicscale shift path within ceramic grain boundary core',\n",
       " 'direct observation of atomicscale shift path within ceramic grain boundary core',\n",
       " 'tune porousness in macroscopic monolithic metalorganic framework for exceptional rude gasoline storage',\n",
       " 'tuning porousness in macroscopic monolithic metalorganic framework for exceptional natural gas storage',\n",
       " 'tune up porousness in macroscopic monumental metalorganic framework for exceptional natural gas storage',\n",
       " 'tuning porosity in macroscopic monumental metalorganic theoretical account for surpassing natural gas storage',\n",
       " 'altered chemistry of oxygen and iron under deep ground experimental condition',\n",
       " 'neutered interpersonal chemistry of oxygen and iron nether deep earth condition',\n",
       " 'adapted chemistry of atomic number 8 and iron under deep earth condition',\n",
       " 'altered chemical science of oxygen and fe under deep earthly concern condition',\n",
       " 'a universal approach for the deductive reasoning of twodimensional binary chemical compound',\n",
       " 'a universal approach for the deductive reasoning of twodimensional binary compound',\n",
       " 'a universal approach for the deduction of twodimensional binary compound',\n",
       " 'a ecumenical approach for the synthesis of twodimensional binary compound',\n",
       " 'momentumresolved observance of the phonon unbalance driving geometrical improper ferroelectricity in y manganite',\n",
       " 'momentumresolved observation of the phonon imbalance driving geometrical improper ferroelectricity in yttrium manganite',\n",
       " 'momentumresolved observation of the phonon instability driving geometric unlawful ferroelectricity in yttrium manganite',\n",
       " 'momentumresolved observance of the phonon instability ride geometric improper ferroelectricity in yttrium manganite',\n",
       " 'broken translational symmetry at bound of hightemperature superconductors',\n",
       " 'broken translational symmetry at edge of hightemperature superconductors',\n",
       " 'broken translational symmetry at edge of hightemperature superconductors',\n",
       " 'broken translational symmetry at edge of hightemperature superconductors',\n",
       " 'morphonet an interactional online morphological web browser to research complex multiscale data',\n",
       " 'morphonet an synergistic online morphological web browser to research complex multiscale data',\n",
       " 'morphonet an interactional online morphological browser to explore complex multiscale datum',\n",
       " 'morphonet an interactive online morphological web browser to explore complex multiscale data point',\n",
       " 'close yield break for rice selfsufficiency in china',\n",
       " 'closing yield spread for rice selfsufficiency in communist china',\n",
       " 'closing yield break for timothy miles bindon rice selfsufficiency in mainland china',\n",
       " 'closing fruit gap for rice selfsufficiency in china',\n",
       " 'close yield gap for elmer rice selfsufficiency in prc',\n",
       " 'closing yield spread for elmer reizenstein selfsufficiency in mainland china',\n",
       " 'closing proceeds gap for sir tim rice selfsufficiency in china',\n",
       " 'close issue gap for elmer leopold rice selfsufficiency in china',\n",
       " \"closing yield gap for elmer leopold rice selfsufficiency in people's republic of china\",\n",
       " \"conclude yield gap for elmer leopold rice selfsufficiency in people's republic of china\",\n",
       " 'manipulating typei and typeii dirac polaritons in cavityembedded honeycomb metasurfaces',\n",
       " 'manipulating typei and typeii paul adrien maurice dirac polaritons in cavityembedded honeycomb metasurfaces',\n",
       " 'manipulating typei and typeii paul adrien maurice dirac polaritons in cavityembedded honeycomb metasurfaces',\n",
       " 'manipulating typei and typeii paul adrien maurice dirac polaritons in cavityembedded honeycomb metasurfaces',\n",
       " 'heisenbergscaling measurement of the singlephoton kerr nonlinearity using mixed country',\n",
       " 'heisenbergscaling measurement of the singlephoton kerr nonlinearity using assorted body politic',\n",
       " 'heisenbergscaling measure of the singlephoton kerr nonlinearity using assorted state',\n",
       " 'heisenbergscaling measurement of the singlephoton kerr nonlinearity habituate mixed state',\n",
       " 'overcoming the caloric regime for the electricfield driven mott transition in v sesquioxide',\n",
       " 'overcoming the thermic regime for the electricfield driven mott transition in atomic number 23 sesquioxide',\n",
       " 'surmount the thermal regime for the electricfield driven mott passage in vanadium sesquioxide',\n",
       " 'overcoming the caloric regime for the electricfield driven mott passage in vanadium sesquioxide',\n",
       " 'cosmopolitan passivation strategy to slotdie printed sno for hysteresisfree efficient flexible perovskite solar module',\n",
       " 'universal passivation strategy to slotdie printed sno for hysteresisfree efficient flexible perovskite solar module',\n",
       " 'universal passivation strategy to slotdie printed sno for hysteresisfree efficient whippy perovskite solar module',\n",
       " 'universal passivation strategy to slotdie printed sno for hysteresisfree efficient elastic perovskite solar module',\n",
       " 'high energy pliable supercapacitors formed via bottomup infilling of gel electrolyte into thick poriferous electrode',\n",
       " 'high energy conciliatory supercapacitors formed via bottomup infilling of gel electrolyte into thick porous electrode',\n",
       " 'high zip flexible supercapacitors formed via bottomup infilling of colloidal gel electrolyte into thick porous electrode',\n",
       " 'high energy flexible supercapacitors formed via bottomup infilling of colloidal gel electrolyte into thick porous electrode',\n",
       " 'dissemination in semitransparent medium',\n",
       " 'dissemination in translucent metier',\n",
       " 'dissemination in semitransparent medium',\n",
       " 'dissemination in translucent metier',\n",
       " 'marine spatial planning make elbow room for offshore aquaculture in crowded coastal water',\n",
       " 'marine spatial planning shuffling way for offshore aquaculture in crowded coastal water',\n",
       " 'nautical spatial planning make way for seaward aquaculture in crowded coastal water',\n",
       " 'maritime spacial planning brand room for offshore aquaculture in crowded coastal water',\n",
       " 'marine spacial planning shuffling way for offshore aquaculture in crowded coastal water',\n",
       " 'marine spatial planning make elbow room for offshore aquaculture in crowded coastal water',\n",
       " 'maritime spacial planning make room for offshore aquaculture in crowded coastal h2o',\n",
       " 'marine spatial planning make way for offshore aquaculture in crowded coastal piddle',\n",
       " 'maritime spatial design shuffle room for seaward aquaculture in crowded coastal water',\n",
       " 'maritime spatial plan make room for seaward aquaculture in crowded coastal water',\n",
       " 'automatic mapping of molecule across both simple and complex chemical reaction',\n",
       " 'robotlike mapping of atom across both simple and complex chemical chemical reaction',\n",
       " 'automatic function of atom across both bare and complex chemical chemical reaction',\n",
       " 'automatic mapping of molecule across both simple and complex chemical substance reaction',\n",
       " 'bounding crossshelf transport time and abasement in siberianarctic landocean carbon transfer',\n",
       " 'bounding crossshelf transport time and degradation in siberianarctic landocean carbon transfer',\n",
       " 'trammel crossshelf transport time and abjection in siberianarctic landocean carbon transferee',\n",
       " 'bounding crossshelf transport time and debasement in siberianarctic landocean carbon conveyance',\n",
       " 'firederived organic thing retains ammonia through with covalent bond formation',\n",
       " 'firederived organic matter retains ammonia through covalent attachment formation',\n",
       " 'firederived constitutional matter retains ammonia through covalent bond paper formation',\n",
       " 'firederived constituent matter retains ammonia through with covalent bond formation',\n",
       " 'firederived organic subject retains ammonia done covalent shackle formation',\n",
       " 'firederived organic subject retains ammonia through covalent bond formation',\n",
       " 'firederived organic matter retains ammonia done covalent bond constitution',\n",
       " 'firederived organic matter retains ammonia through with covalent bond organisation',\n",
       " 'firederived organic matter retains ammonia through covalent adhesiveness establishment',\n",
       " 'firederived organic matter retains ammonia through covalent bond certificate geological formation',\n",
       " 'data based grounds of quantum radiation reaction in aligned vitreous silica',\n",
       " 'experimental evidence of quantum radiation syndrome chemical reaction in aligned crystal',\n",
       " 'observational evidence of quantum radiation reaction in aligned crystal',\n",
       " 'observational evidence of quantum radiation response in aligned crystal',\n",
       " 'tunneling time poke into by quantum shot noise',\n",
       " 'tunnel clip probed by quantum shot noise',\n",
       " 'tunneling fourth dimension probed by quantum shot disturbance',\n",
       " 'tunneling time probed by quantum shaft randomness',\n",
       " 'in situ atomistic observance of disconnectionmediated grain boundary migration',\n",
       " 'in situ atomistic observation of disconnectionmediated metric grain boundary migration',\n",
       " 'in situ atomistic reflection of disconnectionmediated grain boundary migration',\n",
       " 'in situ atomistic watching of disconnectionmediated metric grain boundary migration',\n",
       " 'abrupt drainage watershed reorganization follow glacial epoch river capture',\n",
       " 'abrupt drainage basin shake up following glacial epoch river seizure',\n",
       " 'abrupt drain watershed reorganization following glacial epoch river capture',\n",
       " 'abrupt drainage drainage area reorganization follow glacial epoch river capture',\n",
       " 'differential influence of environment and selfmotion on place and grid cell firing',\n",
       " 'differential influence of environment and selfmotion on place and gridiron cell firing',\n",
       " 'differential influence of environment and selfmotion on place and grid cell fire',\n",
       " 'differential influence of environment and selfmotion on place and grid cellular phone firing',\n",
       " 'a bayesian smorgasbord modelling for clustering dropletbased singlecell transcriptomic data from population study',\n",
       " 'a bayesian mix model for clustering dropletbased singlecell transcriptomic data point from universe study',\n",
       " 'a bayesian mixture model for cluster dropletbased singlecell transcriptomic data from population study',\n",
       " 'a bayesian mixture model for clustering dropletbased singlecell transcriptomic datum from universe study',\n",
       " 'a bayesian mixture model for bunch dropletbased singlecell transcriptomic data from population subject area',\n",
       " 'a bayesian mixture model for clustering dropletbased singlecell transcriptomic data from universe report',\n",
       " 'a bayesian intermixture model for bunch up dropletbased singlecell transcriptomic data from population study',\n",
       " 'a bayesian mixture manikin for clustering dropletbased singlecell transcriptomic data from population study',\n",
       " 'a bayesian concoction model for clustering dropletbased singlecell transcriptomic data from universe study',\n",
       " 'a bayesian admixture model for clustering dropletbased singlecell transcriptomic data from population survey',\n",
       " 'observance of solid nonlinear fundamental interaction in parametric downconversion of xrays into ultraviolet radiation',\n",
       " 'watching of inviolable nonlinear interaction in parametric downconversion of xrays into ultraviolet radiation',\n",
       " 'observation of strong nonlinear interaction in parametric downconversion of xrays into ultraviolet radiation',\n",
       " 'observation of strong nonlinear interaction in parametric downconversion of xrays into ultraviolet radiation syndrome',\n",
       " 'modeling the electric resistivity of polymer composite with segregated social organization',\n",
       " 'mould the electric electric resistance of polymer composite with segregated structure',\n",
       " 'modeling the electrical resistivity of polymer composite plant with unintegrated structure',\n",
       " 'modeling the electrical resistivity of polymer composite plant with segregated structure',\n",
       " 'femtosecond time synchronism of optical clock cancelled of flying quadcopter',\n",
       " 'femtosecond time synchronization of optical clock off of wing quadcopter',\n",
       " 'femtosecond time synchronization of optical clock cancelled of flying quadcopter',\n",
       " 'femtosecond time synchronisation of optical clock off of flying quadcopter',\n",
       " 'direct spinning and densification method for highperformance carbon carbon nanotube fibre',\n",
       " 'direct spinning and densification method for highperformance atomic number 6 nanotube fiber',\n",
       " 'direct spinning and compaction method acting for highperformance carbon nanotube fiber',\n",
       " 'direct spinning and concretion method for highperformance carbon nanotube character',\n",
       " 'subcycle time solution of multiphoton momentum transfer in strongfield ionisation',\n",
       " 'subcycle time solvent of multiphoton momentum transfer in strongfield ionisation',\n",
       " 'subcycle time answer of multiphoton momentum transfer in strongfield ionisation',\n",
       " 'subcycle time resolution of multiphoton momentum transfer in strongfield ionization',\n",
       " 'carbon loss from disforestation and widespread degradation offset by extensive increment in african timber',\n",
       " 'carbon loss from disforestation and widespread debasement offset by extensive growth in african woodland',\n",
       " 'carbon copy loss from disforestation and widespread degradation offset by extensive growing in african woodland',\n",
       " 'atomic number 6 loss from deforestation and far flung degradation offset by extensive growth in african woodland',\n",
       " ...]"
      ]
     },
     "execution_count": 41,
     "metadata": {},
     "output_type": "execute_result"
    }
   ],
   "source": [
    "augmented_sentences"
   ]
  },
  {
   "cell_type": "code",
   "execution_count": 42,
   "id": "2213957f",
   "metadata": {},
   "outputs": [
    {
     "name": "stdout",
     "output_type": "stream",
     "text": [
      "We have generated 9392 new rows of data through text augmentation\n"
     ]
    }
   ],
   "source": [
    "print('We have generated', len(augmented_sentences_labels), 'new rows of data through text augmentation')"
   ]
  },
  {
   "cell_type": "code",
   "execution_count": 43,
   "id": "ad0a155d",
   "metadata": {},
   "outputs": [
    {
     "name": "stdout",
     "output_type": "stream",
     "text": [
      "(7401,)\n",
      "(7401,)\n",
      "(16793,)\n",
      "(16793,)\n"
     ]
    }
   ],
   "source": [
    "#  appending new data onto training data\n",
    "X_train_aug = X_train.append(pd.Series(augmented_sentences),ignore_index=True)\n",
    "y_train_aug = y_train.append(pd.Series(augmented_sentences_labels),ignore_index=True)\n",
    "\n",
    "print(X_train.shape)\n",
    "print(y_train.shape)\n",
    "print(X_train_aug.shape)\n",
    "print(y_train_aug.shape)"
   ]
  },
  {
   "cell_type": "code",
   "execution_count": 44,
   "id": "6372e6d1",
   "metadata": {},
   "outputs": [
    {
     "data": {
      "text/plain": [
       "5     3230\n",
       "11    2990\n",
       "1     2642\n",
       "10    1610\n",
       "3     1545\n",
       "2     1074\n",
       "12     760\n",
       "6      704\n",
       "9      660\n",
       "8      590\n",
       "14     350\n",
       "4      220\n",
       "7      143\n",
       "0      143\n",
       "13     132\n",
       "dtype: int64"
      ]
     },
     "execution_count": 44,
     "metadata": {},
     "output_type": "execute_result"
    }
   ],
   "source": [
    "# new value counts of classes\n",
    "y_train_aug.value_counts()"
   ]
  },
  {
   "cell_type": "markdown",
   "id": "ae95e134",
   "metadata": {},
   "source": [
    "Now to vectorize and model the data to see if there are any improvements to the metrics!"
   ]
  },
  {
   "cell_type": "code",
   "execution_count": 45,
   "id": "78324bb3",
   "metadata": {},
   "outputs": [],
   "source": [
    "#  vectorising the train feature data \n",
    "X_train_vector_aug = vectorizer.fit_transform(X_train_aug).toarray()\n",
    "\n",
    "# Transform the test data using the same dictionary as the train data \n",
    "X_test_vector_aug = vectorizer.transform(X_test).toarray()"
   ]
  },
  {
   "cell_type": "code",
   "execution_count": 46,
   "id": "856e4222",
   "metadata": {},
   "outputs": [],
   "source": [
    "# initialising classifier with balanced class_weights\n",
    "svc_aug = LinearSVC(class_weight='balanced', C=1)  # weights minority classes to penalise for misclassification"
   ]
  },
  {
   "cell_type": "code",
   "execution_count": 49,
   "id": "f9f5e090",
   "metadata": {},
   "outputs": [
    {
     "name": "stdout",
     "output_type": "stream",
     "text": [
      "Accuracy: 68.76%\n",
      "Precision: 42.41%\n",
      "Recall: 42.46%\n",
      "F1: 42.15%\n",
      "              precision    recall  f1-score   support\n",
      "\n",
      "           0       0.33      0.20      0.25         5\n",
      "           1       0.78      0.79      0.78      1133\n",
      "           2       0.73      0.67      0.70       460\n",
      "           3       0.69      0.82      0.75       132\n",
      "           4       0.00      0.00      0.00         9\n",
      "           5       0.52      0.55      0.53       277\n",
      "           6       0.44      0.50      0.47        28\n",
      "           7       0.00      0.00      0.00         5\n",
      "           8       0.34      0.27      0.30        51\n",
      "           9       0.23      0.31      0.26        26\n",
      "          10       0.72      0.69      0.71       690\n",
      "          11       0.58      0.62      0.60       256\n",
      "          12       0.54      0.58      0.56        65\n",
      "          13       0.25      0.20      0.22         5\n",
      "          14       0.21      0.17      0.19        30\n",
      "\n",
      "    accuracy                           0.69      3172\n",
      "   macro avg       0.42      0.42      0.42      3172\n",
      "weighted avg       0.69      0.69      0.69      3172\n",
      "\n"
     ]
    },
    {
     "data": {
      "image/png": "[encoded data removed]",
      "text/plain": [
       "<Figure size 432x288 with 2 Axes>"
      ]
     },
     "metadata": {
      "needs_background": "light"
     },
     "output_type": "display_data"
    }
   ],
   "source": [
    "# manual train test split and model implementation as I need to build a pipeline to include augmenter function to use \n",
    "# cross validation\n",
    "\n",
    "# fit the classifier to the training data\n",
    "svc_aug.fit(X_train_vector_aug, y_train_aug)\n",
    "    \n",
    "# make the predictions on the test data\n",
    "y_pred_aug = svc_aug.predict(X_test_vector_aug)\n",
    "\n",
    "# calculate metrics by comparing predicted values with true values\n",
    "accuracy_aug = metrics.accuracy_score(y_test, y_pred_aug)\n",
    "precision_aug = metrics.precision_score(y_test, y_pred_aug, average='macro')\n",
    "recall_aug = metrics.recall_score(y_test, y_pred_aug, average='macro')\n",
    "f1_aug = metrics.f1_score(y_test, y_pred_aug, average='macro')\n",
    "cm_aug = metrics.confusion_matrix(y_test, y_pred_aug)\n",
    "\n",
    "print('Accuracy: %.2f%%' % (accuracy_aug*100))\n",
    "print('Precision: %.2f%%' % (precision_aug*100))\n",
    "print('Recall: %.2f%%' % (recall_aug*100))\n",
    "print('F1: %.2f%%' % (f1_aug*100))\n",
    "print(metrics.classification_report(y_test, y_pred_aug))\n",
    "\n",
    "# plotting confusion matrix\n",
    "ax = plt.subplot()\n",
    "sns.heatmap(cm_aug, annot=True, fmt='g', ax=ax);\n",
    "ax.set_xlabel('Predicted labels');ax.set_ylabel('True labels'); "
   ]
  },
  {
   "cell_type": "markdown",
   "id": "635ced30",
   "metadata": {},
   "source": [
    "### Conclusion\n",
    "\n",
    "The model iteration with upsampling provided the best F1 score at 44.8%. Whilst I improved the performance of the classifier from the baseline by focusing on reducing the class imbalance problem, it was ultimately difficult to solve within this dataset. In the absence of collecting and labelling more data (specifically within the minority target classes to reduce the class imbalance problem), here are some options for next steps in the analysis with this particular dataset that I would try next:\n",
    "\n",
    "1. Use word embeddings as a vectorisation method rather than Bag of Words. This approach looks for words of a similar context rather than exact matches and hence could be a more fluid and powerful approach which could yield better results. \n",
    "2. Try different augmentation techniques like back translation.\n",
    "3. Try deep learning methods, employing the use of neural networks rather than traditional machine learning methods."
   ]
  },
  {
   "cell_type": "code",
   "execution_count": null,
   "id": "08e9b7f7",
   "metadata": {},
   "outputs": [],
   "source": []
  },
  {
   "cell_type": "code",
   "execution_count": null,
   "id": "83c9c937",
   "metadata": {},
   "outputs": [],
   "source": []
  },
  {
   "cell_type": "code",
   "execution_count": null,
   "id": "6786c72f",
   "metadata": {},
   "outputs": [],
   "source": []
  },
  {
   "cell_type": "code",
   "execution_count": null,
   "id": "cf6af958",
   "metadata": {},
   "outputs": [],
   "source": []
  },
  {
   "cell_type": "code",
   "execution_count": null,
   "id": "37734558",
   "metadata": {},
   "outputs": [],
   "source": []
  },
  {
   "cell_type": "markdown",
   "id": "5722bbbc",
   "metadata": {},
   "source": [
    "Extra code"
   ]
  },
  {
   "cell_type": "markdown",
   "id": "c12afdd3",
   "metadata": {},
   "source": [
    "### Manual code outside of using a pipeline"
   ]
  },
  {
   "cell_type": "code",
   "execution_count": 154,
   "id": "a71b8ce5",
   "metadata": {},
   "outputs": [
    {
     "name": "stdout",
     "output_type": "stream",
     "text": [
      "Counter({1: 2642, 8: 2642, 2: 2642, 5: 2642, 10: 2642, 4: 2642, 11: 2642, 9: 2642, 12: 2642, 3: 2642, 14: 2642, 6: 2642, 13: 2642, 7: 2642, 0: 2642})\n"
     ]
    },
    {
     "name": "stderr",
     "output_type": "stream",
     "text": [
      "C:\\Users\\lucy_dickinson\\Anaconda3\\lib\\site-packages\\sklearn\\metrics\\_classification.py:1334: UndefinedMetricWarning: Precision is ill-defined and being set to 0.0 in labels with no predicted samples. Use `zero_division` parameter to control this behavior.\n",
      "  _warn_prf(average, modifier, msg_start, len(result))\n"
     ]
    },
    {
     "data": {
      "image/png": "[encoded data removed]",
      "text/plain": [
       "<Figure size 432x288 with 2 Axes>"
      ]
     },
     "metadata": {
      "needs_background": "light"
     },
     "output_type": "display_data"
    }
   ],
   "source": [
    "# train test split data\n",
    "X_train, X_test, y_train, y_test = train_test_split(df_new['title'], \n",
    "                                                    df_new['target'], \n",
    "                                                    test_size=0.3, \n",
    "                                                    stratify = df_new['target'])\n",
    "    \n",
    "# vectorising the train and test feature data\n",
    "X_train_vector = vectorizer.fit_transform(X_train).toarray()\n",
    "\n",
    "# Transform the test data using the same dictionary as the train data \n",
    "X_test_vector = vectorizer.transform(X_test).toarray()\n",
    "    \n",
    "# oversampling training data\n",
    "ros = RandomOverSampler() # initialise sampler\n",
    "X_train_resampled, y_train_resampled = ros.fit_resample(X_train_vector, y_train)  # fitting resampler to x and y data\n",
    "print(Counter(y_train_resampled))\n",
    "    \n",
    "#initialise classifier\n",
    "svc = LinearSVC()\n",
    "\n",
    "# fit the classifier to the training data\n",
    "svc.fit(X_train_resampled, y_train_resampled)\n",
    "    \n",
    "# make the predictions on the test data\n",
    "y_pred = svc.predict(X_test_vector)\n",
    "\n",
    "# calculate metrics by comparing predicted values with true values\n",
    "accuracy = metrics.accuracy_score(y_test, y_pred)\n",
    "precision = metrics.precision_score(y_test, y_pred, average='macro')\n",
    "recall = metrics.recall_score(y_test, y_pred, average='macro')\n",
    "f1 = metrics.f1_score(y_test, y_pred, average='macro')\n",
    "cm = metrics.confusion_matrix(y_test,y_pred)\n",
    "cm\n",
    "\n",
    "# plotting confusion matrix\n",
    "ax = plt.subplot()\n",
    "sns.heatmap(cm, annot=True, fmt='g', ax=ax);\n",
    "ax.set_xlabel('Predicted labels');ax.set_ylabel('True labels'); "
   ]
  },
  {
   "cell_type": "code",
   "execution_count": 156,
   "id": "b3325f92",
   "metadata": {},
   "outputs": [
    {
     "name": "stdout",
     "output_type": "stream",
     "text": [
      "Counter({13: 2642, 1: 2642, 10: 2642, 11: 2642, 8: 2642, 12: 2642, 2: 2642, 3: 2642, 5: 2642, 6: 2642, 14: 2642, 4: 2642, 7: 2642, 9: 2642, 0: 2642})\n"
     ]
    }
   ],
   "source": [
    "#  iterative loop to run through train-test-split too see how scores compare to cross_validate scores\n",
    "\n",
    "# empty lists to store metrics\n",
    "accuracies = []\n",
    "precisions = []\n",
    "recalls = []\n",
    "f1s = []\n",
    "\n",
    "for i in range(1): # n loops\n",
    "    \n",
    "    # train test split data\n",
    "    X_train, X_test, y_train, y_test = train_test_split(df_new['title'], \n",
    "                                                        df_new['target'], \n",
    "                                                        test_size=0.3, \n",
    "                                                        stratify = df_new['target'])\n",
    "    \n",
    "    # vectorising the train and test feature data\n",
    "    X_train_vector = vectorizer.fit_transform(X_train).toarray()\n",
    "\n",
    "    # Transform the test data using the same dictionary as the train data \n",
    "    X_test_vector = vectorizer.transform(X_test).toarray()\n",
    "    \n",
    "    # oversampling training data\n",
    "    smote = SMOTE() # initialise sampler\n",
    "    X_train_resampled, y_train_resampled = smote.fit_resample(X_train_vector, y_train)  # fitting resampler to x and y data\n",
    "    print(Counter(y_train_resampled))\n",
    "    \n",
    "    #initialise classifier\n",
    "    svc = LinearSVC()\n",
    "\n",
    "    # fit the classifier to the training data\n",
    "    svc.fit(X_train_resampled, y_train_resampled)\n",
    "    \n",
    "    # make the predictions on the test data\n",
    "    y_pred = svc.predict(X_test_vector)\n",
    "\n",
    "    # calculate metrics by comparing predicted values with true values\n",
    "    accuracy = metrics.accuracy_score(y_test, y_pred)\n",
    "    precision = metrics.precision_score(y_test, y_pred, average='macro')\n",
    "    recall = metrics.recall_score(y_test, y_pred, average='macro')\n",
    "    f1 = metrics.f1_score(y_test, y_pred, average='macro')\n",
    "   \n",
    "    # append metrics from each iteration to lists\n",
    "    accuracies.append(accuracy)\n",
    "    precisions.append(precision)\n",
    "    recalls.append(recall)\n",
    "    f1s.append(f1)"
   ]
  },
  {
   "cell_type": "code",
   "execution_count": null,
   "id": "dcb61006",
   "metadata": {},
   "outputs": [],
   "source": []
  },
  {
   "cell_type": "markdown",
   "id": "818c0b8f",
   "metadata": {},
   "source": [
    "### Quick run through of model on research fields with n+ manuscripts\n",
    "\n",
    "Running this quick experiment to understand how the presence of minority classes influence model performance. I am removing research fields that have below a certain number of manuscripts and assessing baseline performance metrics."
   ]
  },
  {
   "cell_type": "code",
   "execution_count": 250,
   "id": "34532642",
   "metadata": {},
   "outputs": [
    {
     "name": "stdout",
     "output_type": "stream",
     "text": [
      "1252\n",
      "9386\n"
     ]
    },
    {
     "data": {
      "text/plain": [
       "Biological Sciences            3775\n",
       "Medical and Health Sciences    2300\n",
       "Chemical Sciences              1534\n",
       "Engineering                     923\n",
       "Physical Sciences               854\n",
       "Name: for_name, dtype: int64"
      ]
     },
     "execution_count": 250,
     "metadata": {},
     "output_type": "execute_result"
    }
   ],
   "source": [
    "for_over100 = for_counts[for_counts >= 500].index.tolist()\n",
    "df_over100 = df_clean[df_clean['for_name'].isin(for_over100)]\n",
    "\n",
    "print(len(df_clean) - len(df_over100))\n",
    "print(len(df_over100))\n",
    "df_over100['for_name'].value_counts()"
   ]
  },
  {
   "cell_type": "code",
   "execution_count": 251,
   "id": "f601cbe7",
   "metadata": {},
   "outputs": [],
   "source": [
    "text_cleanse_1(df_over100,'title')"
   ]
  },
  {
   "cell_type": "code",
   "execution_count": 252,
   "id": "533e6803",
   "metadata": {},
   "outputs": [
    {
     "data": {
      "text/html": [
       "<div>\n",
       "<style scoped>\n",
       "    .dataframe tbody tr th:only-of-type {\n",
       "        vertical-align: middle;\n",
       "    }\n",
       "\n",
       "    .dataframe tbody tr th {\n",
       "        vertical-align: top;\n",
       "    }\n",
       "\n",
       "    .dataframe thead th {\n",
       "        text-align: right;\n",
       "    }\n",
       "</style>\n",
       "<table border=\"1\" class=\"dataframe\">\n",
       "  <thead>\n",
       "    <tr style=\"text-align: right;\">\n",
       "      <th></th>\n",
       "      <th>title</th>\n",
       "      <th>doc_id</th>\n",
       "      <th>n_references</th>\n",
       "      <th>for_name</th>\n",
       "      <th>for_code</th>\n",
       "    </tr>\n",
       "  </thead>\n",
       "  <tbody>\n",
       "    <tr>\n",
       "      <th>0</th>\n",
       "      <td>surface acoustic wave photonic device in silicon on insulator</td>\n",
       "      <td>10.1038/s41467-019-12157-x</td>\n",
       "      <td>54</td>\n",
       "      <td>Physical Sciences</td>\n",
       "      <td>2.0</td>\n",
       "    </tr>\n",
       "    <tr>\n",
       "      <th>1</th>\n",
       "      <td>thermal and electrical signature of hydrodynamic electron fluid in tungsten diphosphide</td>\n",
       "      <td>10.1038/s41467-018-06688-y</td>\n",
       "      <td>37</td>\n",
       "      <td>Engineering</td>\n",
       "      <td>9.0</td>\n",
       "    </tr>\n",
       "    <tr>\n",
       "      <th>2</th>\n",
       "      <td>phononic integrated circuitry and spin orbit interaction of phonons</td>\n",
       "      <td>10.1038/s41467-019-10852-3</td>\n",
       "      <td>56</td>\n",
       "      <td>Physical Sciences</td>\n",
       "      <td>2.0</td>\n",
       "    </tr>\n",
       "    <tr>\n",
       "      <th>3</th>\n",
       "      <td>local josephson vortex generation and manipulation with magnetic force microscope</td>\n",
       "      <td>10.1038/s41467-019-11924-0</td>\n",
       "      <td>54</td>\n",
       "      <td>Physical Sciences</td>\n",
       "      <td>2.0</td>\n",
       "    </tr>\n",
       "    <tr>\n",
       "      <th>4</th>\n",
       "      <td>a robust zirconium amino acid metalorganic framework for proton conduction</td>\n",
       "      <td>10.1038/s41467-018-07414-4</td>\n",
       "      <td>59</td>\n",
       "      <td>Chemical Sciences</td>\n",
       "      <td>3.0</td>\n",
       "    </tr>\n",
       "    <tr>\n",
       "      <th>...</th>\n",
       "      <td>...</td>\n",
       "      <td>...</td>\n",
       "      <td>...</td>\n",
       "      <td>...</td>\n",
       "      <td>...</td>\n",
       "    </tr>\n",
       "    <tr>\n",
       "      <th>11342</th>\n",
       "      <td>apkc control endothelial growth by modulating cmyc via foxo dnabinding ability</td>\n",
       "      <td>10.1038/s41467-018-07739-0</td>\n",
       "      <td>71</td>\n",
       "      <td>Biological Sciences</td>\n",
       "      <td>6.0</td>\n",
       "    </tr>\n",
       "    <tr>\n",
       "      <th>11343</th>\n",
       "      <td>single goldbridged nanoprobes for identification of single point dna mutation</td>\n",
       "      <td>10.1038/s41467-019-08769-y</td>\n",
       "      <td>64</td>\n",
       "      <td>Chemical Sciences</td>\n",
       "      <td>3.0</td>\n",
       "    </tr>\n",
       "    <tr>\n",
       "      <th>11344</th>\n",
       "      <td>conditional expression explains molecular evolution of social gene in microbe</td>\n",
       "      <td>10.1038/s41467-019-11237-2</td>\n",
       "      <td>63</td>\n",
       "      <td>Biological Sciences</td>\n",
       "      <td>6.0</td>\n",
       "    </tr>\n",
       "    <tr>\n",
       "      <th>11345</th>\n",
       "      <td>genetic study link component of the autonomous nervous system to heartrate profile during exercise</td>\n",
       "      <td>10.1038/s41467-018-03395-6</td>\n",
       "      <td>65</td>\n",
       "      <td>Biological Sciences</td>\n",
       "      <td>6.0</td>\n",
       "    </tr>\n",
       "    <tr>\n",
       "      <th>11346</th>\n",
       "      <td>the productivitybiodiversity relationship varies across diversity dimension</td>\n",
       "      <td>10.1038/s41467-019-13678-1</td>\n",
       "      <td>58</td>\n",
       "      <td>Biological Sciences</td>\n",
       "      <td>6.0</td>\n",
       "    </tr>\n",
       "  </tbody>\n",
       "</table>\n",
       "<p>9386 rows × 5 columns</p>\n",
       "</div>"
      ],
      "text/plain": [
       "                                                                                                    title  \\\n",
       "0                                           surface acoustic wave photonic device in silicon on insulator   \n",
       "1                 thermal and electrical signature of hydrodynamic electron fluid in tungsten diphosphide   \n",
       "2                                     phononic integrated circuitry and spin orbit interaction of phonons   \n",
       "3                       local josephson vortex generation and manipulation with magnetic force microscope   \n",
       "4                              a robust zirconium amino acid metalorganic framework for proton conduction   \n",
       "...                                                                                                   ...   \n",
       "11342                      apkc control endothelial growth by modulating cmyc via foxo dnabinding ability   \n",
       "11343                       single goldbridged nanoprobes for identification of single point dna mutation   \n",
       "11344                       conditional expression explains molecular evolution of social gene in microbe   \n",
       "11345  genetic study link component of the autonomous nervous system to heartrate profile during exercise   \n",
       "11346                         the productivitybiodiversity relationship varies across diversity dimension   \n",
       "\n",
       "                           doc_id  n_references             for_name  for_code  \n",
       "0      10.1038/s41467-019-12157-x            54    Physical Sciences       2.0  \n",
       "1      10.1038/s41467-018-06688-y            37          Engineering       9.0  \n",
       "2      10.1038/s41467-019-10852-3            56    Physical Sciences       2.0  \n",
       "3      10.1038/s41467-019-11924-0            54    Physical Sciences       2.0  \n",
       "4      10.1038/s41467-018-07414-4            59    Chemical Sciences       3.0  \n",
       "...                           ...           ...                  ...       ...  \n",
       "11342  10.1038/s41467-018-07739-0            71  Biological Sciences       6.0  \n",
       "11343  10.1038/s41467-019-08769-y            64    Chemical Sciences       3.0  \n",
       "11344  10.1038/s41467-019-11237-2            63  Biological Sciences       6.0  \n",
       "11345  10.1038/s41467-018-03395-6            65  Biological Sciences       6.0  \n",
       "11346  10.1038/s41467-019-13678-1            58  Biological Sciences       6.0  \n",
       "\n",
       "[9386 rows x 5 columns]"
      ]
     },
     "execution_count": 252,
     "metadata": {},
     "output_type": "execute_result"
    }
   ],
   "source": [
    "df_over100"
   ]
  },
  {
   "cell_type": "code",
   "execution_count": 253,
   "id": "96f6e008",
   "metadata": {},
   "outputs": [],
   "source": [
    "# create train and test data split\n",
    "X_train, X_test, y_train, y_test = train_test_split(df_over100['title'], # features\n",
    "                                                    df_over100['for_code'], # target\n",
    "                                                    test_size=0.3, # 70% train, 30% test\n",
    "                                                    random_state=42, # ensures same split each time to allow repeatability\n",
    "                                                    shuffle = True, # shuffles data prior to splitting\n",
    "                                                    stratify = df_over100['for_code']) # distribution of classes across train and test"
   ]
  },
  {
   "cell_type": "code",
   "execution_count": 254,
   "id": "8478df93",
   "metadata": {},
   "outputs": [],
   "source": [
    "#  vectorising the train and test feature data\n",
    "X_train_vector = vectorizer.fit_transform(X_train).toarray()\n",
    "\n",
    "# Transform the test data using the same dictionary as the train data \n",
    "X_test_vector = vectorizer.transform(X_test).toarray()"
   ]
  },
  {
   "cell_type": "code",
   "execution_count": 255,
   "id": "7e340ff5",
   "metadata": {},
   "outputs": [
    {
     "data": {
      "application/vnd.jupyter.widget-view+json": {
       "model_id": "4e9fa9354aac44568602dd66f4a0b6a9",
       "version_major": 2,
       "version_minor": 0
      },
      "text/plain": [
       "  0%|          | 0/4 [00:00<?, ?it/s]"
      ]
     },
     "metadata": {},
     "output_type": "display_data"
    },
    {
     "name": "stdout",
     "output_type": "stream",
     "text": [
      "RandomForestClassifier: Mean Accuracy = 40.21%; Mean F1-macro = 11.47%; Mean recall-macro = 20.00%; Mean precision-macro = 8.04%\n",
      "LinearSVC: Mean Accuracy = 72.82%; Mean F1-macro = 67.75%; Mean recall-macro = 66.19%; Mean precision-macro = 70.14%\n",
      "MultinomialNB: Mean Accuracy = 63.91%; Mean F1-macro = 51.83%; Mean recall-macro = 49.23%; Mean precision-macro = 71.75%\n",
      "LogisticRegression: Mean Accuracy = 69.65%; Mean F1-macro = 62.67%; Mean recall-macro = 59.17%; Mean precision-macro = 71.30%\n"
     ]
    }
   ],
   "source": [
    "for model in tqdm(models):\n",
    "    model_name = model.__class__.__name__\n",
    "    result = cross_validate(model, X_train_vector, y_train, cv=kf, scoring=scoring)\n",
    "    print(\"%s: Mean Accuracy = %.2f%%; Mean F1-macro = %.2f%%; Mean recall-macro = %.2f%%; Mean precision-macro = %.2f%%\" \n",
    "          % (model_name, \n",
    "             result['test_accuracy'].mean()*100, \n",
    "             result['test_f1_macro'].mean()*100, \n",
    "             result['test_recall_macro'].mean()*100, \n",
    "             result['test_precision_macro'].mean()*100))"
   ]
  }
 ],
 "metadata": {
  "kernelspec": {
   "display_name": "Python 3 (ipykernel)",
   "language": "python",
   "name": "python3"
  },
  "language_info": {
   "codemirror_mode": {
    "name": "ipython",
    "version": 3
   },
   "file_extension": ".py",
   "mimetype": "text/x-python",
   "name": "python",
   "nbconvert_exporter": "python",
   "pygments_lexer": "ipython3",
   "version": "3.9.7"
  }
 },
 "nbformat": 4,
 "nbformat_minor": 5
}
